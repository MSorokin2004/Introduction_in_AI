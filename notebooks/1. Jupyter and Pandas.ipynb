{
 "cells": [
  {
   "cell_type": "markdown",
   "id": "48734a4a",
   "metadata": {},
   "source": [
    "# Jupyter and Pandas"
   ]
  },
  {
   "cell_type": "markdown",
   "id": "2c908ce3",
   "metadata": {},
   "source": [
    "Автор ноутбука - Дуркин Анатолий Альбертович\n",
    "\n",
    "Преподаватель кафедры прикладной математики и компьютерных наук СГУ им. Питирима Сорокина\n",
    "\n",
    "Замечания, предложения, идеи, вопросы, связь с автором:\n",
    "- anatoliy.durkin@mail.ru\n",
    "- Telegram - @AnatoDu\n",
    "\n",
    "Больше информации и материалов на канале автора: https://t.me/smth_on_it"
   ]
  },
  {
   "cell_type": "markdown",
   "id": "71f5a076",
   "metadata": {},
   "source": [
    "## Знакомимся с Юпитером\n",
    "\n",
    "Инструмент - Jupyter Notebook (это ядро и в Google Colab, и в Yandex DataSphere, для локальной работы - Anaconda)\n",
    "\n",
    "Файл - \"ноутбук\"\n",
    "\n",
    "Удобство Jupyter в том, что ноутбук интерактивный, и тут можно работать с кодом по частям, что зачастую упрощает работу.\n"
   ]
  },
  {
   "cell_type": "markdown",
   "id": "e1274784",
   "metadata": {},
   "source": [
    "### Запускаем код\n",
    "\n",
    "Приступим к работе.\n",
    "\n",
    "Запишем в переменную простую строку. Код уже написан, чтобы запустить его. выделите ячейку и нажмите комбинацию Shift+Enter (либо кнопку запуска на панели вверху или над ячейкой (в зависимости от платформы), но комбинация удобнее, по-моему)."
   ]
  },
  {
   "cell_type": "code",
   "execution_count": 1,
   "id": "71a7c4e0",
   "metadata": {},
   "outputs": [],
   "source": [
    "hello = 'Hello World!'"
   ]
  },
  {
   "cell_type": "markdown",
   "id": "3b69edb6",
   "metadata": {},
   "source": [
    "Если всё верно, возле ячейки, слева от кода, появилась цифра 1 (а может и была... но не будем об этом сейчас). Значит это первая ячейка ввода. Теперь выведем строку на экран, запустите следующую ячейку. "
   ]
  },
  {
   "cell_type": "code",
   "execution_count": 2,
   "id": "e539c473",
   "metadata": {},
   "outputs": [
    {
     "name": "stdout",
     "output_type": "stream",
     "text": [
      "Hello World!\n"
     ]
    }
   ],
   "source": [
    "print(hello)"
   ]
  },
  {
   "cell_type": "markdown",
   "id": "449e458a",
   "metadata": {},
   "source": [
    "Получилось? Вывод оказывается сразу под ячейкой, очень удобно.\n",
    "\n",
    "А теперь про интерактивность. Запустите следующую ячейку."
   ]
  },
  {
   "cell_type": "code",
   "execution_count": 7,
   "id": "625b410d",
   "metadata": {},
   "outputs": [],
   "source": [
    "hello = 'Привет, Мир!'"
   ]
  },
  {
   "cell_type": "markdown",
   "id": "445aede7",
   "metadata": {},
   "source": [
    "А теперь вернитесь к ячейке с выводом, выделите её и запустите снова.\n",
    "\n",
    "Если всё сделали правильно, то вывод теперь показывает русский текст, а номер ячейки увеличился до 4 (или у вас больше?). Всё верно, ячейки можно запускать в любом порядке, при этом ноутбук запоминает всё, что происходило. Крайне удобно!\n",
    "\n",
    "<hr>\n",
    "\n",
    "Ах да, стоит сказать сразу. Можно сбросить весь ноутбук и перезапустить его. для этого нужно остановить ядро (Kernel) и запустить заново. Тогда всё, что ноутбук запоминал, сбросится. А у ячеек с кодом не будет чисел. Нужные кнопки можете поискать самостоятельно в своей среде."
   ]
  },
  {
   "cell_type": "markdown",
   "id": "c350efda",
   "metadata": {},
   "source": [
    "И ещё одно удобство Jupyter - если вы хотите посмотреть содержимое переменной, не обязательно писать \"print\", можно просто написать имя переменной, как в следующей ячейке."
   ]
  },
  {
   "cell_type": "code",
   "execution_count": 8,
   "id": "f64d8fd5",
   "metadata": {},
   "outputs": [
    {
     "data": {
      "text/plain": [
       "'Привет, Мир!'"
      ]
     },
     "execution_count": 8,
     "metadata": {},
     "output_type": "execute_result"
    }
   ],
   "source": [
    "hello"
   ]
  },
  {
   "cell_type": "markdown",
   "id": "62ffd8ed",
   "metadata": {},
   "source": [
    "Однако, работает это только к последней переменной, все предыдущие выводы в той же ячейке всё же потребуют волшебного слова. Сравните выводы двух следующих ячеек. (Да, выводится не только при запросе по имени, выводится результат выполнения последней строки)"
   ]
  },
  {
   "cell_type": "code",
   "execution_count": 9,
   "id": "90297360",
   "metadata": {},
   "outputs": [
    {
     "data": {
      "text/plain": [
       "'Привет, Мир!'"
      ]
     },
     "execution_count": 9,
     "metadata": {},
     "output_type": "execute_result"
    }
   ],
   "source": [
    "hello\n",
    "hello"
   ]
  },
  {
   "cell_type": "code",
   "execution_count": 10,
   "id": "92e744c1",
   "metadata": {},
   "outputs": [
    {
     "name": "stdout",
     "output_type": "stream",
     "text": [
      "Привет, Мир!\n"
     ]
    },
    {
     "data": {
      "text/plain": [
       "'Привет, Мир!'"
      ]
     },
     "execution_count": 10,
     "metadata": {},
     "output_type": "execute_result"
    }
   ],
   "source": [
    "print(hello)\n",
    "hello"
   ]
  },
  {
   "cell_type": "markdown",
   "id": "6c455638",
   "metadata": {},
   "source": [
    "### Куда писать код\n",
    "\n",
    "Конечно, запустить код не составляет проблем, однако, как получить новую ячейку, чтобы этот код написать? Всё очень просто. Есть, конечно, кнопки на панели (наверно, я не знаю, где они, я ими не пользуюсь), но можно воспользоваться и клавиатурой.\n",
    "\n",
    "Необходимо выделить ячейку (не чтобы в ней миал курсор, а чтобы вся выделилась), а затем нажать, что требуется:\n",
    "\n",
    "- A - добавить ячейку с кодом сверху\n",
    "- B - добавить ячейку с кодом снизу\n",
    "- M - поменять код на Markdown (об этом чуть позже)\n",
    "- Y - поменять Markdown на код\n",
    "\n",
    "Есть ещё, при необходимости можете и сами найти быстрые клавиши и дополнить список (когда узнаете, как дополнить, хотя, вы, пожалуй, и сами легко с таким управитесь, если лень читать дальше). А пока можете побаловаться этими клавишами."
   ]
  },
  {
   "cell_type": "code",
   "execution_count": null,
   "id": "6e025b1d",
   "metadata": {},
   "outputs": [],
   "source": []
  },
  {
   "cell_type": "code",
   "execution_count": 11,
   "id": "3c5c680d",
   "metadata": {},
   "outputs": [
    {
     "data": {
      "text/plain": [
       "8"
      ]
     },
     "execution_count": 11,
     "metadata": {},
     "output_type": "execute_result"
    }
   ],
   "source": [
    "a = 3\n",
    "b = 5\n",
    "a + b"
   ]
  },
  {
   "cell_type": "code",
   "execution_count": null,
   "id": "8aab570b",
   "metadata": {},
   "outputs": [],
   "source": []
  },
  {
   "cell_type": "markdown",
   "id": "78458f80",
   "metadata": {},
   "source": [
    "### Назвал Markdown - объясняй!\n",
    "\n",
    "Markdown - облегчённый язык разметки. Он действительно очень простой, но позволяет навести красоту в текстовых ячейках.\n",
    "\n",
    "Да, чтобы посмотреть внутрянку текстовых ячеек и дописывать их, то на них просто нужно нажать два раза. И весь Markdown как на ладони. А потом запустите ячейку - и красота!\n",
    "\n",
    "Можете посмотреть в ячейках выше, как создаются заголовки, списки и прочее."
   ]
  },
  {
   "cell_type": "markdown",
   "id": "f0d36d7d",
   "metadata": {},
   "source": [
    "Заголовки - несколько решёточек, от их количества зависит уровень заколовка (некоторыедополнения к Jupyter позволяют заголовки автоматически нумеровать и даже сворачивать разделы, удобно!).\n",
    "\n",
    "Списки - просто строки с черточками или нумерацией (даже многоуровневые легко делать, просто сдвигаем, но загляните внутрь, всё хитрее, чем кажется):\n",
    "\n",
    "1. Список\n",
    "2. Начинается\n",
    "   1. И\n",
    "   2. Продолжается"
   ]
  },
  {
   "cell_type": "markdown",
   "id": "79b29df9",
   "metadata": {},
   "source": [
    "А ещё текстовые ячейки прекрасно понимают HTML, ещё больше простора для наведения красоты!\n",
    "\n",
    "<hr>\n",
    "<b>Полужирный</b> и <i>курсивный</i> текст.\n",
    "\n",
    "Может вы ещё всмопните теги? А то я все забыл... Поиграйтесь."
   ]
  },
  {
   "cell_type": "markdown",
   "id": "6fc2b620",
   "metadata": {},
   "source": [
    "Ну и раз о красоте говорим, то $\\TeX$ тут тоже воспринимается. Все формулы будут ослеплять своим великолепием!\n",
    "\n",
    "$$f'_{x} = \\frac{\\partial f}{\\partial x}$$\n",
    "\n",
    "Есть где разгуляться! Можно побаловаться, а затем перейдём к питону и его библиотеке."
   ]
  },
  {
   "cell_type": "code",
   "execution_count": null,
   "id": "0027a866",
   "metadata": {},
   "outputs": [],
   "source": []
  },
  {
   "cell_type": "markdown",
   "id": "cfdc2587",
   "metadata": {},
   "source": [
    "## Медведи в очках\n",
    "\n",
    "Нет-нет, они нам не нужны, просто библиотека, крайне полезная для анализа данных, машинного обучения и т.д. и т.п. называется Pandas (название происходит от PANel DAta, а не от вышеупомянутых зверушек, Python, если что, тоже отношения к змеям не имеет).\n",
    "\n",
    "Давайте подключим библиотеку."
   ]
  },
  {
   "cell_type": "code",
   "execution_count": 12,
   "id": "b96db318",
   "metadata": {},
   "outputs": [],
   "source": [
    "import pandas as pd"
   ]
  },
  {
   "cell_type": "markdown",
   "id": "de9ee3eb",
   "metadata": {},
   "source": [
    "В этой строке мы импортировали библиотеку Pandas под псевдонимом pd. Это сделано, потому что использование функций из библиотеки требует обращения к ней по названию. Pandas писать долго, а вот pd - сильно быстрее. Этот псевдоним употребляется везде. он очень устоявшийся, поэтому так его и следует использовать (хочется использовать другой, но не стоит).\n",
    "\n",
    "Да, если вдруг эта библотека не установлена, то её очень легко установить. Даже не нужно переходить в консоль и куда-либо ещё - к команде установки нужно просто дописать восклицательный знак и всё!"
   ]
  },
  {
   "cell_type": "code",
   "execution_count": 13,
   "id": "15e98882",
   "metadata": {},
   "outputs": [
    {
     "name": "stdout",
     "output_type": "stream",
     "text": [
      "Requirement already satisfied: pandas in /Users/admin/Desktop/СГУ/Введение в ИИ/venv_0/lib/python3.13/site-packages (2.3.2)\n",
      "Requirement already satisfied: numpy>=1.26.0 in /Users/admin/Desktop/СГУ/Введение в ИИ/venv_0/lib/python3.13/site-packages (from pandas) (2.2.6)\n",
      "Requirement already satisfied: python-dateutil>=2.8.2 in /Users/admin/Desktop/СГУ/Введение в ИИ/venv_0/lib/python3.13/site-packages (from pandas) (2.9.0.post0)\n",
      "Requirement already satisfied: pytz>=2020.1 in /Users/admin/Desktop/СГУ/Введение в ИИ/venv_0/lib/python3.13/site-packages (from pandas) (2025.2)\n",
      "Requirement already satisfied: tzdata>=2022.7 in /Users/admin/Desktop/СГУ/Введение в ИИ/venv_0/lib/python3.13/site-packages (from pandas) (2025.2)\n",
      "Requirement already satisfied: six>=1.5 in /Users/admin/Desktop/СГУ/Введение в ИИ/venv_0/lib/python3.13/site-packages (from python-dateutil>=2.8.2->pandas) (1.17.0)\n"
     ]
    }
   ],
   "source": [
    "!pip install pandas"
   ]
  },
  {
   "cell_type": "markdown",
   "id": "7914971e",
   "metadata": {},
   "source": [
    "Подгрузили библотеку? Очень хорошо. \n",
    "\n",
    "Важное замечание! Рекомендуется все библиотеки подключать в самом начале ноутбука в одной ячейке - так проще понять, какие библотеки понадобятся, а не выискивать их потом в коде. В этом ноутбуке это не соблюдено, но уж простите мне это..."
   ]
  },
  {
   "cell_type": "markdown",
   "id": "f9f33e5b",
   "metadata": {},
   "source": [
    "Дальше (хотя и раньше никто не запрещал) можете баловаться с ячейками, как пожелаете - ноутбук в вашем распоряжении. Главное, сути изложенного материала не теряйте. А баловаться я даже рекомендую - опробуйте всё, что только возможно!"
   ]
  },
  {
   "cell_type": "markdown",
   "id": "11532fd5",
   "metadata": {},
   "source": [
    "### Новые структуры хранения данных и их создание\n",
    "\n",
    "Pandas открывает доступ к замечательным структурам - Series и DataFrame.\n",
    "\n",
    "- Series - это одномерный массив с ключами-индексами. Похож на словарь.\n",
    "- DataFrame - многомерный массив, где каждый столбец преставляет собой Series.\n",
    "\n",
    "Но, давайте лучше посмотрим, как они выглядят на практике. Создадим Series."
   ]
  },
  {
   "cell_type": "code",
   "execution_count": 31,
   "id": "bba3e32b",
   "metadata": {},
   "outputs": [
    {
     "data": {
      "text/plain": [
       "0     apple\n",
       "1    orange\n",
       "2     mango\n",
       "Name: fruits, dtype: object"
      ]
     },
     "execution_count": 31,
     "metadata": {},
     "output_type": "execute_result"
    }
   ],
   "source": [
    "fruits = pd.Series(['apple', 'orange', 'mango'], name='fruits')\n",
    "fruits"
   ]
  },
  {
   "cell_type": "markdown",
   "id": "8a91628e",
   "metadata": {},
   "source": [
    "Смотрите, у нас сами собой появились индексы. По умолчанию это числовой ряд с нуля, однако его можно задать вручную."
   ]
  },
  {
   "cell_type": "code",
   "execution_count": 32,
   "id": "c6c27694",
   "metadata": {},
   "outputs": [
    {
     "data": {
      "text/plain": [
       "11      Komi\n",
       "43     Kirov\n",
       "77    Moscow\n",
       "dtype: object"
      ]
     },
     "execution_count": 32,
     "metadata": {},
     "output_type": "execute_result"
    }
   ],
   "source": [
    "code = [11, 43, 77]\n",
    "region = ['Komi', 'Kirov', 'Moscow']\n",
    "\n",
    "codes = pd.Series(data=region, index=code)\n",
    "codes"
   ]
  },
  {
   "cell_type": "markdown",
   "id": "d384d1fb",
   "metadata": {},
   "source": [
    "Теперь и индексы можно задавать самостоятельно. И они не обязательно должны быть числами."
   ]
  },
  {
   "cell_type": "code",
   "execution_count": 39,
   "id": "07e0055e",
   "metadata": {},
   "outputs": [
    {
     "data": {
      "text/plain": [
       "Komi      11\n",
       "Kirov     43\n",
       "Moscow    77\n",
       "Name: regions, dtype: int64"
      ]
     },
     "execution_count": 39,
     "metadata": {},
     "output_type": "execute_result"
    }
   ],
   "source": [
    "codes_2 = pd.Series(data=code, index=region, name='regions')\n",
    "codes_2"
   ]
  },
  {
   "cell_type": "markdown",
   "id": "39f71642",
   "metadata": {},
   "source": [
    "По индексу мы всегда можем обратиться и получить значение в данной строке серии."
   ]
  },
  {
   "cell_type": "code",
   "execution_count": 40,
   "id": "86c0662c",
   "metadata": {},
   "outputs": [
    {
     "data": {
      "text/plain": [
       "'Komi'"
      ]
     },
     "execution_count": 40,
     "metadata": {},
     "output_type": "execute_result"
    }
   ],
   "source": [
    "codes[11]"
   ]
  },
  {
   "cell_type": "code",
   "execution_count": 45,
   "id": "aaba414d",
   "metadata": {},
   "outputs": [
    {
     "name": "stdout",
     "output_type": "stream",
     "text": [
      "43\n"
     ]
    },
    {
     "data": {
      "text/plain": [
       "np.int64(43)"
      ]
     },
     "execution_count": 45,
     "metadata": {},
     "output_type": "execute_result"
    }
   ],
   "source": [
    "print(codes_2['Kirov'])\n",
    "codes_2['Kirov']\n"
   ]
  },
  {
   "cell_type": "markdown",
   "id": "54e247bb",
   "metadata": {},
   "source": [
    "Вообще, это краткая запись обращения, а полная использует метод loc, он позволяет больше в некоторых случаях (особенно при работе с DataFrame, но об этом чуть позже)."
   ]
  },
  {
   "cell_type": "code",
   "execution_count": 46,
   "id": "e4066ed1",
   "metadata": {},
   "outputs": [
    {
     "data": {
      "text/plain": [
       "'Komi'"
      ]
     },
     "execution_count": 46,
     "metadata": {},
     "output_type": "execute_result"
    }
   ],
   "source": [
    "codes.loc[11]"
   ]
  },
  {
   "cell_type": "markdown",
   "id": "41b9678f",
   "metadata": {},
   "source": [
    "А вот если мы хотим какую-либо строку по порядку, то используем iloc (нумерация с нуля)."
   ]
  },
  {
   "cell_type": "code",
   "execution_count": 47,
   "id": "4c03ad4a",
   "metadata": {},
   "outputs": [
    {
     "data": {
      "text/plain": [
       "'Kirov'"
      ]
     },
     "execution_count": 47,
     "metadata": {},
     "output_type": "execute_result"
    }
   ],
   "source": [
    "codes.iloc[1]"
   ]
  },
  {
   "cell_type": "markdown",
   "id": "a524eefb",
   "metadata": {},
   "source": [
    "И в продолжение индексов - срезы! Когда нам нужно получить часть серии - просто указываем первый и последний номер нужного отрезка (последний не войдёт). Дальше разные версии срезов, изучите внимательно, попробуйте сами (можете свою серию создать или расширить имеющиеся)."
   ]
  },
  {
   "cell_type": "code",
   "execution_count": 48,
   "id": "06db3669",
   "metadata": {},
   "outputs": [
    {
     "data": {
      "text/plain": [
       "11     Komi\n",
       "43    Kirov\n",
       "dtype: object"
      ]
     },
     "execution_count": 48,
     "metadata": {},
     "output_type": "execute_result"
    }
   ],
   "source": [
    "codes[0:2]"
   ]
  },
  {
   "cell_type": "code",
   "execution_count": 49,
   "id": "a0fbe2fa",
   "metadata": {},
   "outputs": [
    {
     "data": {
      "text/plain": [
       "11     Komi\n",
       "43    Kirov\n",
       "dtype: object"
      ]
     },
     "execution_count": 49,
     "metadata": {},
     "output_type": "execute_result"
    }
   ],
   "source": [
    "codes[:2]"
   ]
  },
  {
   "cell_type": "code",
   "execution_count": 50,
   "id": "f80e54f9",
   "metadata": {},
   "outputs": [
    {
     "data": {
      "text/plain": [
       "43     Kirov\n",
       "77    Moscow\n",
       "dtype: object"
      ]
     },
     "execution_count": 50,
     "metadata": {},
     "output_type": "execute_result"
    }
   ],
   "source": [
    "codes[1:]"
   ]
  },
  {
   "cell_type": "code",
   "execution_count": 51,
   "id": "f2e9eb10",
   "metadata": {},
   "outputs": [
    {
     "data": {
      "text/plain": [
       "Series([], dtype: object)"
      ]
     },
     "execution_count": 51,
     "metadata": {},
     "output_type": "execute_result"
    }
   ],
   "source": [
    "codes[1:1]\n",
    "# Последний не войдёт"
   ]
  },
  {
   "cell_type": "code",
   "execution_count": 52,
   "id": "7838a4b3",
   "metadata": {},
   "outputs": [
    {
     "data": {
      "text/plain": [
       "43     Kirov\n",
       "77    Moscow\n",
       "dtype: object"
      ]
     },
     "execution_count": 52,
     "metadata": {},
     "output_type": "execute_result"
    }
   ],
   "source": [
    "codes[-2:]\n",
    "# Да, срезы можно делать с конца именно так"
   ]
  },
  {
   "cell_type": "code",
   "execution_count": 53,
   "id": "9a1dd8ad",
   "metadata": {},
   "outputs": [
    {
     "data": {
      "text/plain": [
       "11      Komi\n",
       "43     Kirov\n",
       "77    Moscow\n",
       "dtype: object"
      ]
     },
     "execution_count": 53,
     "metadata": {},
     "output_type": "execute_result"
    }
   ],
   "source": [
    "codes[:6]"
   ]
  },
  {
   "cell_type": "code",
   "execution_count": 54,
   "id": "ab86610e",
   "metadata": {},
   "outputs": [
    {
     "data": {
      "text/plain": [
       "11      Komi\n",
       "77    Moscow\n",
       "dtype: object"
      ]
     },
     "execution_count": 54,
     "metadata": {},
     "output_type": "execute_result"
    }
   ],
   "source": [
    "codes[::2]\n",
    "# А третье число отвечает за частоту выборки элементов, тут каждый второй"
   ]
  },
  {
   "cell_type": "markdown",
   "id": "9d836ad1",
   "metadata": {},
   "source": [
    "А теперь давайте посмотрим на создание DataFrame."
   ]
  },
  {
   "cell_type": "code",
   "execution_count": 61,
   "id": "16381ab9",
   "metadata": {},
   "outputs": [
    {
     "data": {
      "text/html": [
       "<div>\n",
       "<style scoped>\n",
       "    .dataframe tbody tr th:only-of-type {\n",
       "        vertical-align: middle;\n",
       "    }\n",
       "\n",
       "    .dataframe tbody tr th {\n",
       "        vertical-align: top;\n",
       "    }\n",
       "\n",
       "    .dataframe thead th {\n",
       "        text-align: right;\n",
       "    }\n",
       "</style>\n",
       "<table border=\"1\" class=\"dataframe\">\n",
       "  <thead>\n",
       "    <tr style=\"text-align: right;\">\n",
       "      <th></th>\n",
       "      <th>Ivanov</th>\n",
       "      <th>Petrov</th>\n",
       "      <th>Sidorov</th>\n",
       "    </tr>\n",
       "  </thead>\n",
       "  <tbody>\n",
       "    <tr>\n",
       "      <th>Algebra</th>\n",
       "      <td>5</td>\n",
       "      <td>4</td>\n",
       "      <td>3</td>\n",
       "    </tr>\n",
       "    <tr>\n",
       "      <th>Geometry</th>\n",
       "      <td>5</td>\n",
       "      <td>3</td>\n",
       "      <td>3</td>\n",
       "    </tr>\n",
       "    <tr>\n",
       "      <th>Chemistry</th>\n",
       "      <td>4</td>\n",
       "      <td>5</td>\n",
       "      <td>3</td>\n",
       "    </tr>\n",
       "    <tr>\n",
       "      <th>Physics</th>\n",
       "      <td>4</td>\n",
       "      <td>4</td>\n",
       "      <td>3</td>\n",
       "    </tr>\n",
       "    <tr>\n",
       "      <th>History</th>\n",
       "      <td>4</td>\n",
       "      <td>5</td>\n",
       "      <td>3</td>\n",
       "    </tr>\n",
       "    <tr>\n",
       "      <th>Biology</th>\n",
       "      <td>4</td>\n",
       "      <td>5</td>\n",
       "      <td>3</td>\n",
       "    </tr>\n",
       "    <tr>\n",
       "      <th>Literature</th>\n",
       "      <td>4</td>\n",
       "      <td>4</td>\n",
       "      <td>5</td>\n",
       "    </tr>\n",
       "  </tbody>\n",
       "</table>\n",
       "</div>"
      ],
      "text/plain": [
       "            Ivanov  Petrov  Sidorov\n",
       "Algebra          5       4        3\n",
       "Geometry         5       3        3\n",
       "Chemistry        4       5        3\n",
       "Physics          4       4        3\n",
       "History          4       5        3\n",
       "Biology          4       5        3\n",
       "Literature       4       4        5"
      ]
     },
     "metadata": {},
     "output_type": "display_data"
    },
    {
     "data": {
      "text/plain": [
       "11      Komi\n",
       "43     Kirov\n",
       "77    Moscow\n",
       "dtype: object"
      ]
     },
     "execution_count": 61,
     "metadata": {},
     "output_type": "execute_result"
    }
   ],
   "source": [
    "students = ['Ivanov', 'Petrov', 'Sidorov']\n",
    "subjects = ['Algebra', 'Geometry', 'Chemistry', 'Physics', 'History', 'Biology', 'Literature']\n",
    "values = [[5, 4, 3], \n",
    "          [5, 3, 3], \n",
    "          [4, 5, 3], \n",
    "          [4, 4, 3], \n",
    "          [4, 5, 3],\n",
    "          [4, 5, 3],\n",
    "          [4, 4, 5]]\n",
    "\n",
    "marks = pd.DataFrame(data=values, index=subjects, columns=students)\n",
    "display(marks)\n",
    "codes"
   ]
  },
  {
   "cell_type": "markdown",
   "id": "a9d0108d",
   "metadata": {},
   "source": [
    "Как видите, тут мы можем задать ещё названия столбцов. Обратите внимание на то, как двумерный список преобразуется в таблицу DataFrame, это происходит построчно. Это важно помнить, чтобы не создать случайно транспонированную таблицу.\n",
    "\n",
    "Что за display? Да, можно было обойтись и без него, ведь последнюю строку Jupyter и так бы показал, но запомните эту функцию. Делает она то же самое, что и print, но фреймы выводит более красиво. Сравните со следующей ячейкой."
   ]
  },
  {
   "cell_type": "code",
   "execution_count": 62,
   "id": "2786c45d",
   "metadata": {},
   "outputs": [
    {
     "name": "stdout",
     "output_type": "stream",
     "text": [
      "            Ivanov  Petrov  Sidorov\n",
      "Algebra          5       4        3\n",
      "Geometry         5       3        3\n",
      "Chemistry        4       5        3\n",
      "Physics          4       4        3\n",
      "History          4       5        3\n",
      "Biology          4       5        3\n",
      "Literature       4       4        5\n"
     ]
    }
   ],
   "source": [
    "print(marks)"
   ]
  },
  {
   "cell_type": "markdown",
   "id": "caef9cf2",
   "metadata": {},
   "source": [
    "А теперь вновь пару слов об обращении к частям фрейма. В серии при простом обращении в квадратных скобках мы могли получить значение интересующей строки, во фреймах строку вы так не получите, только ошибку, а вот столбец - без проблем. "
   ]
  },
  {
   "cell_type": "code",
   "execution_count": 63,
   "id": "c1aa0264",
   "metadata": {},
   "outputs": [
    {
     "ename": "KeyError",
     "evalue": "'Algebra'",
     "output_type": "error",
     "traceback": [
      "\u001b[31m---------------------------------------------------------------------------\u001b[39m",
      "\u001b[31mKeyError\u001b[39m                                  Traceback (most recent call last)",
      "\u001b[36mFile \u001b[39m\u001b[32m~/Desktop/СГУ/Введение в ИИ/venv_0/lib/python3.13/site-packages/pandas/core/indexes/base.py:3812\u001b[39m, in \u001b[36mIndex.get_loc\u001b[39m\u001b[34m(self, key)\u001b[39m\n\u001b[32m   3811\u001b[39m \u001b[38;5;28;01mtry\u001b[39;00m:\n\u001b[32m-> \u001b[39m\u001b[32m3812\u001b[39m     \u001b[38;5;28;01mreturn\u001b[39;00m \u001b[38;5;28;43mself\u001b[39;49m\u001b[43m.\u001b[49m\u001b[43m_engine\u001b[49m\u001b[43m.\u001b[49m\u001b[43mget_loc\u001b[49m\u001b[43m(\u001b[49m\u001b[43mcasted_key\u001b[49m\u001b[43m)\u001b[49m\n\u001b[32m   3813\u001b[39m \u001b[38;5;28;01mexcept\u001b[39;00m \u001b[38;5;167;01mKeyError\u001b[39;00m \u001b[38;5;28;01mas\u001b[39;00m err:\n",
      "\u001b[36mFile \u001b[39m\u001b[32mpandas/_libs/index.pyx:167\u001b[39m, in \u001b[36mpandas._libs.index.IndexEngine.get_loc\u001b[39m\u001b[34m()\u001b[39m\n",
      "\u001b[36mFile \u001b[39m\u001b[32mpandas/_libs/index.pyx:196\u001b[39m, in \u001b[36mpandas._libs.index.IndexEngine.get_loc\u001b[39m\u001b[34m()\u001b[39m\n",
      "\u001b[36mFile \u001b[39m\u001b[32mpandas/_libs/hashtable_class_helper.pxi:7088\u001b[39m, in \u001b[36mpandas._libs.hashtable.PyObjectHashTable.get_item\u001b[39m\u001b[34m()\u001b[39m\n",
      "\u001b[36mFile \u001b[39m\u001b[32mpandas/_libs/hashtable_class_helper.pxi:7096\u001b[39m, in \u001b[36mpandas._libs.hashtable.PyObjectHashTable.get_item\u001b[39m\u001b[34m()\u001b[39m\n",
      "\u001b[31mKeyError\u001b[39m: 'Algebra'",
      "\nThe above exception was the direct cause of the following exception:\n",
      "\u001b[31mKeyError\u001b[39m                                  Traceback (most recent call last)",
      "\u001b[36mCell\u001b[39m\u001b[36m \u001b[39m\u001b[32mIn[63]\u001b[39m\u001b[32m, line 1\u001b[39m\n\u001b[32m----> \u001b[39m\u001b[32m1\u001b[39m \u001b[43mmarks\u001b[49m\u001b[43m[\u001b[49m\u001b[33;43m'\u001b[39;49m\u001b[33;43mAlgebra\u001b[39;49m\u001b[33;43m'\u001b[39;49m\u001b[43m]\u001b[49m\n\u001b[32m      2\u001b[39m \u001b[38;5;66;03m# Вызывает ошибку KeyError, так как среди столбцов не находится столбец 'Algebra'\u001b[39;00m\n",
      "\u001b[36mFile \u001b[39m\u001b[32m~/Desktop/СГУ/Введение в ИИ/venv_0/lib/python3.13/site-packages/pandas/core/frame.py:4107\u001b[39m, in \u001b[36mDataFrame.__getitem__\u001b[39m\u001b[34m(self, key)\u001b[39m\n\u001b[32m   4105\u001b[39m \u001b[38;5;28;01mif\u001b[39;00m \u001b[38;5;28mself\u001b[39m.columns.nlevels > \u001b[32m1\u001b[39m:\n\u001b[32m   4106\u001b[39m     \u001b[38;5;28;01mreturn\u001b[39;00m \u001b[38;5;28mself\u001b[39m._getitem_multilevel(key)\n\u001b[32m-> \u001b[39m\u001b[32m4107\u001b[39m indexer = \u001b[38;5;28;43mself\u001b[39;49m\u001b[43m.\u001b[49m\u001b[43mcolumns\u001b[49m\u001b[43m.\u001b[49m\u001b[43mget_loc\u001b[49m\u001b[43m(\u001b[49m\u001b[43mkey\u001b[49m\u001b[43m)\u001b[49m\n\u001b[32m   4108\u001b[39m \u001b[38;5;28;01mif\u001b[39;00m is_integer(indexer):\n\u001b[32m   4109\u001b[39m     indexer = [indexer]\n",
      "\u001b[36mFile \u001b[39m\u001b[32m~/Desktop/СГУ/Введение в ИИ/venv_0/lib/python3.13/site-packages/pandas/core/indexes/base.py:3819\u001b[39m, in \u001b[36mIndex.get_loc\u001b[39m\u001b[34m(self, key)\u001b[39m\n\u001b[32m   3814\u001b[39m     \u001b[38;5;28;01mif\u001b[39;00m \u001b[38;5;28misinstance\u001b[39m(casted_key, \u001b[38;5;28mslice\u001b[39m) \u001b[38;5;129;01mor\u001b[39;00m (\n\u001b[32m   3815\u001b[39m         \u001b[38;5;28misinstance\u001b[39m(casted_key, abc.Iterable)\n\u001b[32m   3816\u001b[39m         \u001b[38;5;129;01mand\u001b[39;00m \u001b[38;5;28many\u001b[39m(\u001b[38;5;28misinstance\u001b[39m(x, \u001b[38;5;28mslice\u001b[39m) \u001b[38;5;28;01mfor\u001b[39;00m x \u001b[38;5;129;01min\u001b[39;00m casted_key)\n\u001b[32m   3817\u001b[39m     ):\n\u001b[32m   3818\u001b[39m         \u001b[38;5;28;01mraise\u001b[39;00m InvalidIndexError(key)\n\u001b[32m-> \u001b[39m\u001b[32m3819\u001b[39m     \u001b[38;5;28;01mraise\u001b[39;00m \u001b[38;5;167;01mKeyError\u001b[39;00m(key) \u001b[38;5;28;01mfrom\u001b[39;00m\u001b[38;5;250m \u001b[39m\u001b[34;01merr\u001b[39;00m\n\u001b[32m   3820\u001b[39m \u001b[38;5;28;01mexcept\u001b[39;00m \u001b[38;5;167;01mTypeError\u001b[39;00m:\n\u001b[32m   3821\u001b[39m     \u001b[38;5;66;03m# If we have a listlike key, _check_indexing_error will raise\u001b[39;00m\n\u001b[32m   3822\u001b[39m     \u001b[38;5;66;03m#  InvalidIndexError. Otherwise we fall through and re-raise\u001b[39;00m\n\u001b[32m   3823\u001b[39m     \u001b[38;5;66;03m#  the TypeError.\u001b[39;00m\n\u001b[32m   3824\u001b[39m     \u001b[38;5;28mself\u001b[39m._check_indexing_error(key)\n",
      "\u001b[31mKeyError\u001b[39m: 'Algebra'"
     ]
    }
   ],
   "source": [
    "marks['Algebra']\n",
    "# Вызывает ошибку KeyError, так как среди столбцов не находится столбец 'Algebra'"
   ]
  },
  {
   "cell_type": "code",
   "execution_count": 64,
   "id": "91189318",
   "metadata": {},
   "outputs": [
    {
     "data": {
      "text/plain": [
       "Algebra       4\n",
       "Geometry      3\n",
       "Chemistry     5\n",
       "Physics       4\n",
       "History       5\n",
       "Biology       5\n",
       "Literature    4\n",
       "Name: Petrov, dtype: int64"
      ]
     },
     "execution_count": 64,
     "metadata": {},
     "output_type": "execute_result"
    }
   ],
   "source": [
    "marks['Petrov']"
   ]
  },
  {
   "cell_type": "markdown",
   "id": "97711e5d",
   "metadata": {},
   "source": [
    "А если требуются несколько столбцов, то мы не пишем несколько названий, а передаем список из этих столбцов, иначе получите ошибку."
   ]
  },
  {
   "cell_type": "code",
   "execution_count": 65,
   "id": "54c5beab",
   "metadata": {},
   "outputs": [
    {
     "ename": "KeyError",
     "evalue": "('Petrov', 'Sidorov')",
     "output_type": "error",
     "traceback": [
      "\u001b[31m---------------------------------------------------------------------------\u001b[39m",
      "\u001b[31mKeyError\u001b[39m                                  Traceback (most recent call last)",
      "\u001b[36mFile \u001b[39m\u001b[32m~/Desktop/СГУ/Введение в ИИ/venv_0/lib/python3.13/site-packages/pandas/core/indexes/base.py:3812\u001b[39m, in \u001b[36mIndex.get_loc\u001b[39m\u001b[34m(self, key)\u001b[39m\n\u001b[32m   3811\u001b[39m \u001b[38;5;28;01mtry\u001b[39;00m:\n\u001b[32m-> \u001b[39m\u001b[32m3812\u001b[39m     \u001b[38;5;28;01mreturn\u001b[39;00m \u001b[38;5;28;43mself\u001b[39;49m\u001b[43m.\u001b[49m\u001b[43m_engine\u001b[49m\u001b[43m.\u001b[49m\u001b[43mget_loc\u001b[49m\u001b[43m(\u001b[49m\u001b[43mcasted_key\u001b[49m\u001b[43m)\u001b[49m\n\u001b[32m   3813\u001b[39m \u001b[38;5;28;01mexcept\u001b[39;00m \u001b[38;5;167;01mKeyError\u001b[39;00m \u001b[38;5;28;01mas\u001b[39;00m err:\n",
      "\u001b[36mFile \u001b[39m\u001b[32mpandas/_libs/index.pyx:167\u001b[39m, in \u001b[36mpandas._libs.index.IndexEngine.get_loc\u001b[39m\u001b[34m()\u001b[39m\n",
      "\u001b[36mFile \u001b[39m\u001b[32mpandas/_libs/index.pyx:196\u001b[39m, in \u001b[36mpandas._libs.index.IndexEngine.get_loc\u001b[39m\u001b[34m()\u001b[39m\n",
      "\u001b[36mFile \u001b[39m\u001b[32mpandas/_libs/hashtable_class_helper.pxi:7088\u001b[39m, in \u001b[36mpandas._libs.hashtable.PyObjectHashTable.get_item\u001b[39m\u001b[34m()\u001b[39m\n",
      "\u001b[36mFile \u001b[39m\u001b[32mpandas/_libs/hashtable_class_helper.pxi:7096\u001b[39m, in \u001b[36mpandas._libs.hashtable.PyObjectHashTable.get_item\u001b[39m\u001b[34m()\u001b[39m\n",
      "\u001b[31mKeyError\u001b[39m: ('Petrov', 'Sidorov')",
      "\nThe above exception was the direct cause of the following exception:\n",
      "\u001b[31mKeyError\u001b[39m                                  Traceback (most recent call last)",
      "\u001b[36mCell\u001b[39m\u001b[36m \u001b[39m\u001b[32mIn[65]\u001b[39m\u001b[32m, line 1\u001b[39m\n\u001b[32m----> \u001b[39m\u001b[32m1\u001b[39m \u001b[43mmarks\u001b[49m\u001b[43m[\u001b[49m\u001b[33;43m'\u001b[39;49m\u001b[33;43mPetrov\u001b[39;49m\u001b[33;43m'\u001b[39;49m\u001b[43m,\u001b[49m\u001b[43m \u001b[49m\u001b[33;43m'\u001b[39;49m\u001b[33;43mSidorov\u001b[39;49m\u001b[33;43m'\u001b[39;49m\u001b[43m]\u001b[49m\n",
      "\u001b[36mFile \u001b[39m\u001b[32m~/Desktop/СГУ/Введение в ИИ/venv_0/lib/python3.13/site-packages/pandas/core/frame.py:4107\u001b[39m, in \u001b[36mDataFrame.__getitem__\u001b[39m\u001b[34m(self, key)\u001b[39m\n\u001b[32m   4105\u001b[39m \u001b[38;5;28;01mif\u001b[39;00m \u001b[38;5;28mself\u001b[39m.columns.nlevels > \u001b[32m1\u001b[39m:\n\u001b[32m   4106\u001b[39m     \u001b[38;5;28;01mreturn\u001b[39;00m \u001b[38;5;28mself\u001b[39m._getitem_multilevel(key)\n\u001b[32m-> \u001b[39m\u001b[32m4107\u001b[39m indexer = \u001b[38;5;28;43mself\u001b[39;49m\u001b[43m.\u001b[49m\u001b[43mcolumns\u001b[49m\u001b[43m.\u001b[49m\u001b[43mget_loc\u001b[49m\u001b[43m(\u001b[49m\u001b[43mkey\u001b[49m\u001b[43m)\u001b[49m\n\u001b[32m   4108\u001b[39m \u001b[38;5;28;01mif\u001b[39;00m is_integer(indexer):\n\u001b[32m   4109\u001b[39m     indexer = [indexer]\n",
      "\u001b[36mFile \u001b[39m\u001b[32m~/Desktop/СГУ/Введение в ИИ/venv_0/lib/python3.13/site-packages/pandas/core/indexes/base.py:3819\u001b[39m, in \u001b[36mIndex.get_loc\u001b[39m\u001b[34m(self, key)\u001b[39m\n\u001b[32m   3814\u001b[39m     \u001b[38;5;28;01mif\u001b[39;00m \u001b[38;5;28misinstance\u001b[39m(casted_key, \u001b[38;5;28mslice\u001b[39m) \u001b[38;5;129;01mor\u001b[39;00m (\n\u001b[32m   3815\u001b[39m         \u001b[38;5;28misinstance\u001b[39m(casted_key, abc.Iterable)\n\u001b[32m   3816\u001b[39m         \u001b[38;5;129;01mand\u001b[39;00m \u001b[38;5;28many\u001b[39m(\u001b[38;5;28misinstance\u001b[39m(x, \u001b[38;5;28mslice\u001b[39m) \u001b[38;5;28;01mfor\u001b[39;00m x \u001b[38;5;129;01min\u001b[39;00m casted_key)\n\u001b[32m   3817\u001b[39m     ):\n\u001b[32m   3818\u001b[39m         \u001b[38;5;28;01mraise\u001b[39;00m InvalidIndexError(key)\n\u001b[32m-> \u001b[39m\u001b[32m3819\u001b[39m     \u001b[38;5;28;01mraise\u001b[39;00m \u001b[38;5;167;01mKeyError\u001b[39;00m(key) \u001b[38;5;28;01mfrom\u001b[39;00m\u001b[38;5;250m \u001b[39m\u001b[34;01merr\u001b[39;00m\n\u001b[32m   3820\u001b[39m \u001b[38;5;28;01mexcept\u001b[39;00m \u001b[38;5;167;01mTypeError\u001b[39;00m:\n\u001b[32m   3821\u001b[39m     \u001b[38;5;66;03m# If we have a listlike key, _check_indexing_error will raise\u001b[39;00m\n\u001b[32m   3822\u001b[39m     \u001b[38;5;66;03m#  InvalidIndexError. Otherwise we fall through and re-raise\u001b[39;00m\n\u001b[32m   3823\u001b[39m     \u001b[38;5;66;03m#  the TypeError.\u001b[39;00m\n\u001b[32m   3824\u001b[39m     \u001b[38;5;28mself\u001b[39m._check_indexing_error(key)\n",
      "\u001b[31mKeyError\u001b[39m: ('Petrov', 'Sidorov')"
     ]
    }
   ],
   "source": [
    "marks['Petrov', 'Sidorov']"
   ]
  },
  {
   "cell_type": "code",
   "execution_count": 66,
   "id": "b3bc9666",
   "metadata": {},
   "outputs": [
    {
     "data": {
      "text/html": [
       "<div>\n",
       "<style scoped>\n",
       "    .dataframe tbody tr th:only-of-type {\n",
       "        vertical-align: middle;\n",
       "    }\n",
       "\n",
       "    .dataframe tbody tr th {\n",
       "        vertical-align: top;\n",
       "    }\n",
       "\n",
       "    .dataframe thead th {\n",
       "        text-align: right;\n",
       "    }\n",
       "</style>\n",
       "<table border=\"1\" class=\"dataframe\">\n",
       "  <thead>\n",
       "    <tr style=\"text-align: right;\">\n",
       "      <th></th>\n",
       "      <th>Petrov</th>\n",
       "      <th>Sidorov</th>\n",
       "    </tr>\n",
       "  </thead>\n",
       "  <tbody>\n",
       "    <tr>\n",
       "      <th>Algebra</th>\n",
       "      <td>4</td>\n",
       "      <td>3</td>\n",
       "    </tr>\n",
       "    <tr>\n",
       "      <th>Geometry</th>\n",
       "      <td>3</td>\n",
       "      <td>3</td>\n",
       "    </tr>\n",
       "    <tr>\n",
       "      <th>Chemistry</th>\n",
       "      <td>5</td>\n",
       "      <td>3</td>\n",
       "    </tr>\n",
       "    <tr>\n",
       "      <th>Physics</th>\n",
       "      <td>4</td>\n",
       "      <td>3</td>\n",
       "    </tr>\n",
       "    <tr>\n",
       "      <th>History</th>\n",
       "      <td>5</td>\n",
       "      <td>3</td>\n",
       "    </tr>\n",
       "    <tr>\n",
       "      <th>Biology</th>\n",
       "      <td>5</td>\n",
       "      <td>3</td>\n",
       "    </tr>\n",
       "    <tr>\n",
       "      <th>Literature</th>\n",
       "      <td>4</td>\n",
       "      <td>5</td>\n",
       "    </tr>\n",
       "  </tbody>\n",
       "</table>\n",
       "</div>"
      ],
      "text/plain": [
       "            Petrov  Sidorov\n",
       "Algebra          4        3\n",
       "Geometry         3        3\n",
       "Chemistry        5        3\n",
       "Physics          4        3\n",
       "History          5        3\n",
       "Biology          5        3\n",
       "Literature       4        5"
      ]
     },
     "execution_count": 66,
     "metadata": {},
     "output_type": "execute_result"
    }
   ],
   "source": [
    "marks[['Petrov', 'Sidorov']]"
   ]
  },
  {
   "cell_type": "markdown",
   "id": "4787a071",
   "metadata": {},
   "source": [
    "Тут самое время вспомнить про loc, он тут работает замечательно (iloc тоже)."
   ]
  },
  {
   "cell_type": "code",
   "execution_count": 77,
   "id": "f83f1e10",
   "metadata": {},
   "outputs": [
    {
     "data": {
      "text/plain": [
       "Ivanov     5\n",
       "Petrov     4\n",
       "Sidorov    3\n",
       "Name: Algebra, dtype: int64"
      ]
     },
     "metadata": {},
     "output_type": "display_data"
    },
    {
     "data": {
      "text/html": [
       "<div>\n",
       "<style scoped>\n",
       "    .dataframe tbody tr th:only-of-type {\n",
       "        vertical-align: middle;\n",
       "    }\n",
       "\n",
       "    .dataframe tbody tr th {\n",
       "        vertical-align: top;\n",
       "    }\n",
       "\n",
       "    .dataframe thead th {\n",
       "        text-align: right;\n",
       "    }\n",
       "</style>\n",
       "<table border=\"1\" class=\"dataframe\">\n",
       "  <thead>\n",
       "    <tr style=\"text-align: right;\">\n",
       "      <th></th>\n",
       "      <th>Ivanov</th>\n",
       "      <th>Petrov</th>\n",
       "      <th>Sidorov</th>\n",
       "    </tr>\n",
       "  </thead>\n",
       "  <tbody>\n",
       "    <tr>\n",
       "      <th>Algebra</th>\n",
       "      <td>5</td>\n",
       "      <td>4</td>\n",
       "      <td>3</td>\n",
       "    </tr>\n",
       "  </tbody>\n",
       "</table>\n",
       "</div>"
      ],
      "text/plain": [
       "         Ivanov  Petrov  Sidorov\n",
       "Algebra       5       4        3"
      ]
     },
     "metadata": {},
     "output_type": "display_data"
    }
   ],
   "source": [
    "display(marks.loc['Algebra'])\n",
    "display(marks['Algebra':'Algebra'])"
   ]
  },
  {
   "cell_type": "markdown",
   "id": "719c0661",
   "metadata": {},
   "source": [
    "А теперь можно сказать про полную форму этого метода, ведь в нём можно указать и индексы, и столбцы."
   ]
  },
  {
   "cell_type": "code",
   "execution_count": 70,
   "id": "aac45348",
   "metadata": {},
   "outputs": [
    {
     "data": {
      "text/plain": [
       "np.int64(4)"
      ]
     },
     "execution_count": 70,
     "metadata": {},
     "output_type": "execute_result"
    }
   ],
   "source": [
    "marks.loc['Algebra', 'Petrov']"
   ]
  },
  {
   "cell_type": "markdown",
   "id": "dd9d4e4b",
   "metadata": {},
   "source": [
    "С помощью этого метода можно даже делать срезы, главное быть аккуратными с индексами и столбцами."
   ]
  },
  {
   "cell_type": "code",
   "execution_count": 78,
   "id": "0557e450",
   "metadata": {},
   "outputs": [
    {
     "data": {
      "text/html": [
       "<div>\n",
       "<style scoped>\n",
       "    .dataframe tbody tr th:only-of-type {\n",
       "        vertical-align: middle;\n",
       "    }\n",
       "\n",
       "    .dataframe tbody tr th {\n",
       "        vertical-align: top;\n",
       "    }\n",
       "\n",
       "    .dataframe thead th {\n",
       "        text-align: right;\n",
       "    }\n",
       "</style>\n",
       "<table border=\"1\" class=\"dataframe\">\n",
       "  <thead>\n",
       "    <tr style=\"text-align: right;\">\n",
       "      <th></th>\n",
       "      <th>Algebra</th>\n",
       "      <th>Geometry</th>\n",
       "      <th>Chemistry</th>\n",
       "    </tr>\n",
       "  </thead>\n",
       "  <tbody>\n",
       "    <tr>\n",
       "      <th>Petrov</th>\n",
       "      <td>4</td>\n",
       "      <td>3</td>\n",
       "      <td>5</td>\n",
       "    </tr>\n",
       "    <tr>\n",
       "      <th>Sidorov</th>\n",
       "      <td>3</td>\n",
       "      <td>3</td>\n",
       "      <td>3</td>\n",
       "    </tr>\n",
       "  </tbody>\n",
       "</table>\n",
       "</div>"
      ],
      "text/plain": [
       "         Algebra  Geometry  Chemistry\n",
       "Petrov         4         3          5\n",
       "Sidorov        3         3          3"
      ]
     },
     "metadata": {},
     "output_type": "display_data"
    },
    {
     "data": {
      "text/html": [
       "<div>\n",
       "<style scoped>\n",
       "    .dataframe tbody tr th:only-of-type {\n",
       "        vertical-align: middle;\n",
       "    }\n",
       "\n",
       "    .dataframe tbody tr th {\n",
       "        vertical-align: top;\n",
       "    }\n",
       "\n",
       "    .dataframe thead th {\n",
       "        text-align: right;\n",
       "    }\n",
       "</style>\n",
       "<table border=\"1\" class=\"dataframe\">\n",
       "  <thead>\n",
       "    <tr style=\"text-align: right;\">\n",
       "      <th></th>\n",
       "      <th>Petrov</th>\n",
       "      <th>Sidorov</th>\n",
       "    </tr>\n",
       "  </thead>\n",
       "  <tbody>\n",
       "    <tr>\n",
       "      <th>Algebra</th>\n",
       "      <td>4</td>\n",
       "      <td>3</td>\n",
       "    </tr>\n",
       "    <tr>\n",
       "      <th>Geometry</th>\n",
       "      <td>3</td>\n",
       "      <td>3</td>\n",
       "    </tr>\n",
       "    <tr>\n",
       "      <th>Chemistry</th>\n",
       "      <td>5</td>\n",
       "      <td>3</td>\n",
       "    </tr>\n",
       "  </tbody>\n",
       "</table>\n",
       "</div>"
      ],
      "text/plain": [
       "           Petrov  Sidorov\n",
       "Algebra         4        3\n",
       "Geometry        3        3\n",
       "Chemistry       5        3"
      ]
     },
     "execution_count": 78,
     "metadata": {},
     "output_type": "execute_result"
    }
   ],
   "source": [
    "display(marks.loc['Algebra':'Chemistry', 'Petrov':'Sidorov'].T)\n",
    "marks.loc['Algebra':'Chemistry', 'Petrov':'Sidorov']"
   ]
  },
  {
   "cell_type": "markdown",
   "id": "18b38763",
   "metadata": {},
   "source": [
    "### Что расскажет DataFrame\n",
    "\n",
    "У фреймов есть несколько замечательных методов, позволяющих быстро ознакомиться с данными и понять, что лежит внутри.\n",
    "\n",
    "Как правило, смотрят на несколько первых строк, чтобы почитать их. Сейчас у нас маленький фрейм, но когда в нём тысячи строк, не имеет смысла выводить его весь (Jupyter и не сделает этого, он его сократит), но можно посмотреть несколько строк."
   ]
  },
  {
   "cell_type": "code",
   "execution_count": 79,
   "id": "4b499809",
   "metadata": {},
   "outputs": [
    {
     "data": {
      "text/html": [
       "<div>\n",
       "<style scoped>\n",
       "    .dataframe tbody tr th:only-of-type {\n",
       "        vertical-align: middle;\n",
       "    }\n",
       "\n",
       "    .dataframe tbody tr th {\n",
       "        vertical-align: top;\n",
       "    }\n",
       "\n",
       "    .dataframe thead th {\n",
       "        text-align: right;\n",
       "    }\n",
       "</style>\n",
       "<table border=\"1\" class=\"dataframe\">\n",
       "  <thead>\n",
       "    <tr style=\"text-align: right;\">\n",
       "      <th></th>\n",
       "      <th>Ivanov</th>\n",
       "      <th>Petrov</th>\n",
       "      <th>Sidorov</th>\n",
       "    </tr>\n",
       "  </thead>\n",
       "  <tbody>\n",
       "    <tr>\n",
       "      <th>Algebra</th>\n",
       "      <td>5</td>\n",
       "      <td>4</td>\n",
       "      <td>3</td>\n",
       "    </tr>\n",
       "    <tr>\n",
       "      <th>Geometry</th>\n",
       "      <td>5</td>\n",
       "      <td>3</td>\n",
       "      <td>3</td>\n",
       "    </tr>\n",
       "    <tr>\n",
       "      <th>Chemistry</th>\n",
       "      <td>4</td>\n",
       "      <td>5</td>\n",
       "      <td>3</td>\n",
       "    </tr>\n",
       "    <tr>\n",
       "      <th>Physics</th>\n",
       "      <td>4</td>\n",
       "      <td>4</td>\n",
       "      <td>3</td>\n",
       "    </tr>\n",
       "    <tr>\n",
       "      <th>History</th>\n",
       "      <td>4</td>\n",
       "      <td>5</td>\n",
       "      <td>3</td>\n",
       "    </tr>\n",
       "  </tbody>\n",
       "</table>\n",
       "</div>"
      ],
      "text/plain": [
       "           Ivanov  Petrov  Sidorov\n",
       "Algebra         5       4        3\n",
       "Geometry        5       3        3\n",
       "Chemistry       4       5        3\n",
       "Physics         4       4        3\n",
       "History         4       5        3"
      ]
     },
     "execution_count": 79,
     "metadata": {},
     "output_type": "execute_result"
    }
   ],
   "source": [
    "# Первые строки, по умолчанию 5 первых\n",
    "marks.head()"
   ]
  },
  {
   "cell_type": "code",
   "execution_count": 80,
   "id": "47abb814",
   "metadata": {},
   "outputs": [
    {
     "data": {
      "text/html": [
       "<div>\n",
       "<style scoped>\n",
       "    .dataframe tbody tr th:only-of-type {\n",
       "        vertical-align: middle;\n",
       "    }\n",
       "\n",
       "    .dataframe tbody tr th {\n",
       "        vertical-align: top;\n",
       "    }\n",
       "\n",
       "    .dataframe thead th {\n",
       "        text-align: right;\n",
       "    }\n",
       "</style>\n",
       "<table border=\"1\" class=\"dataframe\">\n",
       "  <thead>\n",
       "    <tr style=\"text-align: right;\">\n",
       "      <th></th>\n",
       "      <th>Ivanov</th>\n",
       "      <th>Petrov</th>\n",
       "      <th>Sidorov</th>\n",
       "    </tr>\n",
       "  </thead>\n",
       "  <tbody>\n",
       "    <tr>\n",
       "      <th>Algebra</th>\n",
       "      <td>5</td>\n",
       "      <td>4</td>\n",
       "      <td>3</td>\n",
       "    </tr>\n",
       "    <tr>\n",
       "      <th>Geometry</th>\n",
       "      <td>5</td>\n",
       "      <td>3</td>\n",
       "      <td>3</td>\n",
       "    </tr>\n",
       "    <tr>\n",
       "      <th>Chemistry</th>\n",
       "      <td>4</td>\n",
       "      <td>5</td>\n",
       "      <td>3</td>\n",
       "    </tr>\n",
       "  </tbody>\n",
       "</table>\n",
       "</div>"
      ],
      "text/plain": [
       "           Ivanov  Petrov  Sidorov\n",
       "Algebra         5       4        3\n",
       "Geometry        5       3        3\n",
       "Chemistry       4       5        3"
      ]
     },
     "execution_count": 80,
     "metadata": {},
     "output_type": "execute_result"
    }
   ],
   "source": [
    "# Но можно задать и свое число\n",
    "marks.head(3)"
   ]
  },
  {
   "cell_type": "code",
   "execution_count": 81,
   "id": "cdae1c63",
   "metadata": {},
   "outputs": [
    {
     "data": {
      "text/html": [
       "<div>\n",
       "<style scoped>\n",
       "    .dataframe tbody tr th:only-of-type {\n",
       "        vertical-align: middle;\n",
       "    }\n",
       "\n",
       "    .dataframe tbody tr th {\n",
       "        vertical-align: top;\n",
       "    }\n",
       "\n",
       "    .dataframe thead th {\n",
       "        text-align: right;\n",
       "    }\n",
       "</style>\n",
       "<table border=\"1\" class=\"dataframe\">\n",
       "  <thead>\n",
       "    <tr style=\"text-align: right;\">\n",
       "      <th></th>\n",
       "      <th>Ivanov</th>\n",
       "      <th>Petrov</th>\n",
       "      <th>Sidorov</th>\n",
       "    </tr>\n",
       "  </thead>\n",
       "  <tbody>\n",
       "    <tr>\n",
       "      <th>Chemistry</th>\n",
       "      <td>4</td>\n",
       "      <td>5</td>\n",
       "      <td>3</td>\n",
       "    </tr>\n",
       "    <tr>\n",
       "      <th>Physics</th>\n",
       "      <td>4</td>\n",
       "      <td>4</td>\n",
       "      <td>3</td>\n",
       "    </tr>\n",
       "    <tr>\n",
       "      <th>History</th>\n",
       "      <td>4</td>\n",
       "      <td>5</td>\n",
       "      <td>3</td>\n",
       "    </tr>\n",
       "    <tr>\n",
       "      <th>Biology</th>\n",
       "      <td>4</td>\n",
       "      <td>5</td>\n",
       "      <td>3</td>\n",
       "    </tr>\n",
       "    <tr>\n",
       "      <th>Literature</th>\n",
       "      <td>4</td>\n",
       "      <td>4</td>\n",
       "      <td>5</td>\n",
       "    </tr>\n",
       "  </tbody>\n",
       "</table>\n",
       "</div>"
      ],
      "text/plain": [
       "            Ivanov  Petrov  Sidorov\n",
       "Chemistry        4       5        3\n",
       "Physics          4       4        3\n",
       "History          4       5        3\n",
       "Biology          4       5        3\n",
       "Literature       4       4        5"
      ]
     },
     "execution_count": 81,
     "metadata": {},
     "output_type": "execute_result"
    }
   ],
   "source": [
    "# Последние строки\n",
    "marks.tail()"
   ]
  },
  {
   "cell_type": "code",
   "execution_count": 91,
   "id": "841f080a",
   "metadata": {},
   "outputs": [
    {
     "data": {
      "text/html": [
       "<div>\n",
       "<style scoped>\n",
       "    .dataframe tbody tr th:only-of-type {\n",
       "        vertical-align: middle;\n",
       "    }\n",
       "\n",
       "    .dataframe tbody tr th {\n",
       "        vertical-align: top;\n",
       "    }\n",
       "\n",
       "    .dataframe thead th {\n",
       "        text-align: right;\n",
       "    }\n",
       "</style>\n",
       "<table border=\"1\" class=\"dataframe\">\n",
       "  <thead>\n",
       "    <tr style=\"text-align: right;\">\n",
       "      <th></th>\n",
       "      <th>Ivanov</th>\n",
       "      <th>Petrov</th>\n",
       "      <th>Sidorov</th>\n",
       "    </tr>\n",
       "  </thead>\n",
       "  <tbody>\n",
       "    <tr>\n",
       "      <th>Algebra</th>\n",
       "      <td>5</td>\n",
       "      <td>4</td>\n",
       "      <td>3</td>\n",
       "    </tr>\n",
       "    <tr>\n",
       "      <th>Chemistry</th>\n",
       "      <td>4</td>\n",
       "      <td>5</td>\n",
       "      <td>3</td>\n",
       "    </tr>\n",
       "    <tr>\n",
       "      <th>Physics</th>\n",
       "      <td>4</td>\n",
       "      <td>4</td>\n",
       "      <td>3</td>\n",
       "    </tr>\n",
       "    <tr>\n",
       "      <th>Geometry</th>\n",
       "      <td>5</td>\n",
       "      <td>3</td>\n",
       "      <td>3</td>\n",
       "    </tr>\n",
       "    <tr>\n",
       "      <th>Geometry</th>\n",
       "      <td>5</td>\n",
       "      <td>3</td>\n",
       "      <td>3</td>\n",
       "    </tr>\n",
       "    <tr>\n",
       "      <th>Literature</th>\n",
       "      <td>4</td>\n",
       "      <td>4</td>\n",
       "      <td>5</td>\n",
       "    </tr>\n",
       "    <tr>\n",
       "      <th>Physics</th>\n",
       "      <td>4</td>\n",
       "      <td>4</td>\n",
       "      <td>3</td>\n",
       "    </tr>\n",
       "    <tr>\n",
       "      <th>History</th>\n",
       "      <td>4</td>\n",
       "      <td>5</td>\n",
       "      <td>3</td>\n",
       "    </tr>\n",
       "    <tr>\n",
       "      <th>Chemistry</th>\n",
       "      <td>4</td>\n",
       "      <td>5</td>\n",
       "      <td>3</td>\n",
       "    </tr>\n",
       "  </tbody>\n",
       "</table>\n",
       "</div>"
      ],
      "text/plain": [
       "            Ivanov  Petrov  Sidorov\n",
       "Algebra          5       4        3\n",
       "Chemistry        4       5        3\n",
       "Physics          4       4        3\n",
       "Geometry         5       3        3\n",
       "Geometry         5       3        3\n",
       "Literature       4       4        5\n",
       "Physics          4       4        3\n",
       "History          4       5        3\n",
       "Chemistry        4       5        3"
      ]
     },
     "execution_count": 91,
     "metadata": {},
     "output_type": "execute_result"
    }
   ],
   "source": [
    "# И случайный набор, тут по умолчанию одна строка, но можно запросить нужное количество\n",
    "marks.sample(9, replace=True)"
   ]
  },
  {
   "cell_type": "markdown",
   "id": "8668886a",
   "metadata": {},
   "source": [
    "Посмотрели на первые строки, что-то для себя поняли. Но часто в первых строках не видны тонкости. Можно посмотреть краткую информацию по фрейму."
   ]
  },
  {
   "cell_type": "code",
   "execution_count": 106,
   "id": "f1fc82e5-0e8b-49f4-ade9-32463cb894a2",
   "metadata": {},
   "outputs": [
    {
     "data": {
      "text/html": [
       "<div>\n",
       "<style scoped>\n",
       "    .dataframe tbody tr th:only-of-type {\n",
       "        vertical-align: middle;\n",
       "    }\n",
       "\n",
       "    .dataframe tbody tr th {\n",
       "        vertical-align: top;\n",
       "    }\n",
       "\n",
       "    .dataframe thead th {\n",
       "        text-align: right;\n",
       "    }\n",
       "</style>\n",
       "<table border=\"1\" class=\"dataframe\">\n",
       "  <thead>\n",
       "    <tr style=\"text-align: right;\">\n",
       "      <th></th>\n",
       "      <th>Ivanov</th>\n",
       "      <th>Petrov</th>\n",
       "      <th>Sidorov</th>\n",
       "    </tr>\n",
       "  </thead>\n",
       "  <tbody>\n",
       "    <tr>\n",
       "      <th>Algebra</th>\n",
       "      <td>5</td>\n",
       "      <td>None</td>\n",
       "      <td>3</td>\n",
       "    </tr>\n",
       "    <tr>\n",
       "      <th>Geometry</th>\n",
       "      <td>5</td>\n",
       "      <td>3</td>\n",
       "      <td>3</td>\n",
       "    </tr>\n",
       "    <tr>\n",
       "      <th>Chemistry</th>\n",
       "      <td>4</td>\n",
       "      <td>5</td>\n",
       "      <td>3</td>\n",
       "    </tr>\n",
       "    <tr>\n",
       "      <th>Physics</th>\n",
       "      <td>4</td>\n",
       "      <td>4</td>\n",
       "      <td>3</td>\n",
       "    </tr>\n",
       "    <tr>\n",
       "      <th>History</th>\n",
       "      <td>4</td>\n",
       "      <td>5</td>\n",
       "      <td>3</td>\n",
       "    </tr>\n",
       "    <tr>\n",
       "      <th>Biology</th>\n",
       "      <td>4</td>\n",
       "      <td>5</td>\n",
       "      <td>3</td>\n",
       "    </tr>\n",
       "    <tr>\n",
       "      <th>Literature</th>\n",
       "      <td>4</td>\n",
       "      <td>4</td>\n",
       "      <td>5</td>\n",
       "    </tr>\n",
       "  </tbody>\n",
       "</table>\n",
       "</div>"
      ],
      "text/plain": [
       "            Ivanov Petrov  Sidorov\n",
       "Algebra          5   None        3\n",
       "Geometry         5      3        3\n",
       "Chemistry        4      5        3\n",
       "Physics          4      4        3\n",
       "History          4      5        3\n",
       "Biology          4      5        3\n",
       "Literature       4      4        5"
      ]
     },
     "execution_count": 106,
     "metadata": {},
     "output_type": "execute_result"
    }
   ],
   "source": [
    "marks.loc['Algebra', 'Petrov'] = None\n",
    "marks"
   ]
  },
  {
   "cell_type": "code",
   "execution_count": 107,
   "id": "c2536895",
   "metadata": {},
   "outputs": [
    {
     "name": "stdout",
     "output_type": "stream",
     "text": [
      "<class 'pandas.core.frame.DataFrame'>\n",
      "Index: 7 entries, Algebra to Literature\n",
      "Data columns (total 3 columns):\n",
      " #   Column   Non-Null Count  Dtype \n",
      "---  ------   --------------  ----- \n",
      " 0   Ivanov   7 non-null      int64 \n",
      " 1   Petrov   6 non-null      object\n",
      " 2   Sidorov  7 non-null      int64 \n",
      "dtypes: int64(2), object(1)\n",
      "memory usage: 524.0+ bytes\n"
     ]
    }
   ],
   "source": [
    "marks.info()"
   ]
  },
  {
   "cell_type": "markdown",
   "id": "1f156e67",
   "metadata": {},
   "source": [
    "Получаем очень полезную таблицу. В ней указано, что имеется 7 записей с индексами от Algebra до Literature, а также три столбца, причём для каждого указано, сколько в столбце непустых значений, а также тип данных. У нас пропусков нет и везде целые числа int.\n",
    "\n",
    "Давайте добавим пустое значение и посмотрим,что изменится. Заодно запомним. как через loc можно задавать значение."
   ]
  },
  {
   "cell_type": "code",
   "execution_count": 111,
   "id": "21ec5def",
   "metadata": {},
   "outputs": [],
   "source": [
    "marks.loc['Geometry', 'Sidorov'] = None"
   ]
  },
  {
   "cell_type": "code",
   "execution_count": 112,
   "id": "57b9ed13",
   "metadata": {},
   "outputs": [
    {
     "name": "stdout",
     "output_type": "stream",
     "text": [
      "<class 'pandas.core.frame.DataFrame'>\n",
      "Index: 7 entries, Algebra to Literature\n",
      "Data columns (total 3 columns):\n",
      " #   Column   Non-Null Count  Dtype  \n",
      "---  ------   --------------  -----  \n",
      " 0   Ivanov   7 non-null      int64  \n",
      " 1   Petrov   6 non-null      object \n",
      " 2   Sidorov  6 non-null      float64\n",
      "dtypes: float64(1), int64(1), object(1)\n",
      "memory usage: 524.0+ bytes\n"
     ]
    }
   ],
   "source": [
    "marks.info()"
   ]
  },
  {
   "cell_type": "markdown",
   "id": "0ef3fa9d",
   "metadata": {},
   "source": [
    "В столбце Sidorov теперь и правда отмечается только 6 непустых значений. А вот тип данных почему-то поменялся на float. Дело в том, что None имеет тип float, а столбец в случае спорной ситуации всегда переходит к более широкому типу."
   ]
  },
  {
   "cell_type": "code",
   "execution_count": 113,
   "id": "92f11cd2",
   "metadata": {},
   "outputs": [
    {
     "data": {
      "text/html": [
       "<div>\n",
       "<style scoped>\n",
       "    .dataframe tbody tr th:only-of-type {\n",
       "        vertical-align: middle;\n",
       "    }\n",
       "\n",
       "    .dataframe tbody tr th {\n",
       "        vertical-align: top;\n",
       "    }\n",
       "\n",
       "    .dataframe thead th {\n",
       "        text-align: right;\n",
       "    }\n",
       "</style>\n",
       "<table border=\"1\" class=\"dataframe\">\n",
       "  <thead>\n",
       "    <tr style=\"text-align: right;\">\n",
       "      <th></th>\n",
       "      <th>Ivanov</th>\n",
       "      <th>Petrov</th>\n",
       "      <th>Sidorov</th>\n",
       "    </tr>\n",
       "  </thead>\n",
       "  <tbody>\n",
       "    <tr>\n",
       "      <th>Algebra</th>\n",
       "      <td>5</td>\n",
       "      <td>None</td>\n",
       "      <td>3.0</td>\n",
       "    </tr>\n",
       "    <tr>\n",
       "      <th>Geometry</th>\n",
       "      <td>5</td>\n",
       "      <td>3</td>\n",
       "      <td>NaN</td>\n",
       "    </tr>\n",
       "    <tr>\n",
       "      <th>Chemistry</th>\n",
       "      <td>4</td>\n",
       "      <td>5</td>\n",
       "      <td>3.0</td>\n",
       "    </tr>\n",
       "    <tr>\n",
       "      <th>Physics</th>\n",
       "      <td>4</td>\n",
       "      <td>4</td>\n",
       "      <td>3.0</td>\n",
       "    </tr>\n",
       "    <tr>\n",
       "      <th>History</th>\n",
       "      <td>4</td>\n",
       "      <td>5</td>\n",
       "      <td>3.0</td>\n",
       "    </tr>\n",
       "    <tr>\n",
       "      <th>Biology</th>\n",
       "      <td>4</td>\n",
       "      <td>5</td>\n",
       "      <td>3.0</td>\n",
       "    </tr>\n",
       "    <tr>\n",
       "      <th>Literature</th>\n",
       "      <td>4</td>\n",
       "      <td>4</td>\n",
       "      <td>5.0</td>\n",
       "    </tr>\n",
       "  </tbody>\n",
       "</table>\n",
       "</div>"
      ],
      "text/plain": [
       "            Ivanov Petrov  Sidorov\n",
       "Algebra          5   None      3.0\n",
       "Geometry         5      3      NaN\n",
       "Chemistry        4      5      3.0\n",
       "Physics          4      4      3.0\n",
       "History          4      5      3.0\n",
       "Biology          4      5      3.0\n",
       "Literature       4      4      5.0"
      ]
     },
     "execution_count": 113,
     "metadata": {},
     "output_type": "execute_result"
    }
   ],
   "source": [
    "marks"
   ]
  },
  {
   "cell_type": "markdown",
   "id": "0fcf3255",
   "metadata": {},
   "source": [
    "Пока у нас есть пустое значение, давайте посмотрим, как эти пустые значения искать, для этого есть свой метод."
   ]
  },
  {
   "cell_type": "code",
   "execution_count": 114,
   "id": "857e5412",
   "metadata": {},
   "outputs": [
    {
     "data": {
      "text/html": [
       "<div>\n",
       "<style scoped>\n",
       "    .dataframe tbody tr th:only-of-type {\n",
       "        vertical-align: middle;\n",
       "    }\n",
       "\n",
       "    .dataframe tbody tr th {\n",
       "        vertical-align: top;\n",
       "    }\n",
       "\n",
       "    .dataframe thead th {\n",
       "        text-align: right;\n",
       "    }\n",
       "</style>\n",
       "<table border=\"1\" class=\"dataframe\">\n",
       "  <thead>\n",
       "    <tr style=\"text-align: right;\">\n",
       "      <th></th>\n",
       "      <th>Ivanov</th>\n",
       "      <th>Petrov</th>\n",
       "      <th>Sidorov</th>\n",
       "    </tr>\n",
       "  </thead>\n",
       "  <tbody>\n",
       "    <tr>\n",
       "      <th>Algebra</th>\n",
       "      <td>False</td>\n",
       "      <td>True</td>\n",
       "      <td>False</td>\n",
       "    </tr>\n",
       "    <tr>\n",
       "      <th>Geometry</th>\n",
       "      <td>False</td>\n",
       "      <td>False</td>\n",
       "      <td>True</td>\n",
       "    </tr>\n",
       "    <tr>\n",
       "      <th>Chemistry</th>\n",
       "      <td>False</td>\n",
       "      <td>False</td>\n",
       "      <td>False</td>\n",
       "    </tr>\n",
       "    <tr>\n",
       "      <th>Physics</th>\n",
       "      <td>False</td>\n",
       "      <td>False</td>\n",
       "      <td>False</td>\n",
       "    </tr>\n",
       "    <tr>\n",
       "      <th>History</th>\n",
       "      <td>False</td>\n",
       "      <td>False</td>\n",
       "      <td>False</td>\n",
       "    </tr>\n",
       "    <tr>\n",
       "      <th>Biology</th>\n",
       "      <td>False</td>\n",
       "      <td>False</td>\n",
       "      <td>False</td>\n",
       "    </tr>\n",
       "    <tr>\n",
       "      <th>Literature</th>\n",
       "      <td>False</td>\n",
       "      <td>False</td>\n",
       "      <td>False</td>\n",
       "    </tr>\n",
       "  </tbody>\n",
       "</table>\n",
       "</div>"
      ],
      "text/plain": [
       "            Ivanov  Petrov  Sidorov\n",
       "Algebra      False    True    False\n",
       "Geometry     False   False     True\n",
       "Chemistry    False   False    False\n",
       "Physics      False   False    False\n",
       "History      False   False    False\n",
       "Biology      False   False    False\n",
       "Literature   False   False    False"
      ]
     },
     "execution_count": 114,
     "metadata": {},
     "output_type": "execute_result"
    }
   ],
   "source": [
    "marks.isna()"
   ]
  },
  {
   "cell_type": "markdown",
   "id": "12e7ea00",
   "metadata": {},
   "source": [
    "Мы получим True, если ячейка пустая. Правда, в таком виде не очень удобно. Но мы можем просто сложить числа по столбцам, при этом True считается за единицу, а False за ноль. Посмотрим на число пустых ячеек в столбцах."
   ]
  },
  {
   "cell_type": "code",
   "execution_count": 115,
   "id": "99d6aedd",
   "metadata": {},
   "outputs": [
    {
     "data": {
      "text/plain": [
       "Ivanov     0\n",
       "Petrov     1\n",
       "Sidorov    1\n",
       "dtype: int64"
      ]
     },
     "execution_count": 115,
     "metadata": {},
     "output_type": "execute_result"
    }
   ],
   "source": [
    "marks.isna().sum()"
   ]
  },
  {
   "cell_type": "markdown",
   "id": "0a1406fd",
   "metadata": {},
   "source": [
    "Также во фреймах бывают дубликаты (иногда они оправданы, но чаще всего нет), и их тоже можно найти."
   ]
  },
  {
   "cell_type": "code",
   "execution_count": 121,
   "id": "b4503d8f",
   "metadata": {},
   "outputs": [
    {
     "data": {
      "text/plain": [
       "Algebra       False\n",
       "Geometry      False\n",
       "Chemistry     False\n",
       "Physics       False\n",
       "Literature    False\n",
       "dtype: bool"
      ]
     },
     "execution_count": 121,
     "metadata": {},
     "output_type": "execute_result"
    }
   ],
   "source": [
    "marks.duplicated()"
   ]
  },
  {
   "cell_type": "markdown",
   "id": "076b5a67",
   "metadata": {},
   "source": [
    "Если посмотри на сам фрейм, то увидим, что строки истории и биологии одинаковы по значениям и совпадают со строкой химии. Да, таблица просматривается сверху вниз, дубликатами помечаются те строки, которые идентичны уже встречавшимся сверху. Как посмотреть на количество дубликатов вы, наверно, уже догадались.\n",
    "\n",
    "А я покажу, как их удалить (если это необходимо, конечно)."
   ]
  },
  {
   "cell_type": "code",
   "execution_count": 122,
   "id": "8cd59b58",
   "metadata": {},
   "outputs": [
    {
     "data": {
      "text/html": [
       "<div>\n",
       "<style scoped>\n",
       "    .dataframe tbody tr th:only-of-type {\n",
       "        vertical-align: middle;\n",
       "    }\n",
       "\n",
       "    .dataframe tbody tr th {\n",
       "        vertical-align: top;\n",
       "    }\n",
       "\n",
       "    .dataframe thead th {\n",
       "        text-align: right;\n",
       "    }\n",
       "</style>\n",
       "<table border=\"1\" class=\"dataframe\">\n",
       "  <thead>\n",
       "    <tr style=\"text-align: right;\">\n",
       "      <th></th>\n",
       "      <th>Ivanov</th>\n",
       "      <th>Petrov</th>\n",
       "      <th>Sidorov</th>\n",
       "    </tr>\n",
       "  </thead>\n",
       "  <tbody>\n",
       "    <tr>\n",
       "      <th>Algebra</th>\n",
       "      <td>5</td>\n",
       "      <td>None</td>\n",
       "      <td>3.0</td>\n",
       "    </tr>\n",
       "    <tr>\n",
       "      <th>Geometry</th>\n",
       "      <td>5</td>\n",
       "      <td>3</td>\n",
       "      <td>NaN</td>\n",
       "    </tr>\n",
       "    <tr>\n",
       "      <th>Chemistry</th>\n",
       "      <td>4</td>\n",
       "      <td>5</td>\n",
       "      <td>3.0</td>\n",
       "    </tr>\n",
       "    <tr>\n",
       "      <th>Physics</th>\n",
       "      <td>4</td>\n",
       "      <td>4</td>\n",
       "      <td>3.0</td>\n",
       "    </tr>\n",
       "    <tr>\n",
       "      <th>Literature</th>\n",
       "      <td>4</td>\n",
       "      <td>4</td>\n",
       "      <td>5.0</td>\n",
       "    </tr>\n",
       "  </tbody>\n",
       "</table>\n",
       "</div>"
      ],
      "text/plain": [
       "            Ivanov Petrov  Sidorov\n",
       "Algebra          5   None      3.0\n",
       "Geometry         5      3      NaN\n",
       "Chemistry        4      5      3.0\n",
       "Physics          4      4      3.0\n",
       "Literature       4      4      5.0"
      ]
     },
     "execution_count": 122,
     "metadata": {},
     "output_type": "execute_result"
    }
   ],
   "source": [
    "marks.drop_duplicates()"
   ]
  },
  {
   "cell_type": "markdown",
   "id": "41832c9d",
   "metadata": {},
   "source": [
    "Строк-дубликатов и правда нет, но, если мы вновь выведем фрейм..."
   ]
  },
  {
   "cell_type": "code",
   "execution_count": 123,
   "id": "27cade1c",
   "metadata": {},
   "outputs": [
    {
     "data": {
      "text/html": [
       "<div>\n",
       "<style scoped>\n",
       "    .dataframe tbody tr th:only-of-type {\n",
       "        vertical-align: middle;\n",
       "    }\n",
       "\n",
       "    .dataframe tbody tr th {\n",
       "        vertical-align: top;\n",
       "    }\n",
       "\n",
       "    .dataframe thead th {\n",
       "        text-align: right;\n",
       "    }\n",
       "</style>\n",
       "<table border=\"1\" class=\"dataframe\">\n",
       "  <thead>\n",
       "    <tr style=\"text-align: right;\">\n",
       "      <th></th>\n",
       "      <th>Ivanov</th>\n",
       "      <th>Petrov</th>\n",
       "      <th>Sidorov</th>\n",
       "    </tr>\n",
       "  </thead>\n",
       "  <tbody>\n",
       "    <tr>\n",
       "      <th>Algebra</th>\n",
       "      <td>5</td>\n",
       "      <td>None</td>\n",
       "      <td>3.0</td>\n",
       "    </tr>\n",
       "    <tr>\n",
       "      <th>Geometry</th>\n",
       "      <td>5</td>\n",
       "      <td>3</td>\n",
       "      <td>NaN</td>\n",
       "    </tr>\n",
       "    <tr>\n",
       "      <th>Chemistry</th>\n",
       "      <td>4</td>\n",
       "      <td>5</td>\n",
       "      <td>3.0</td>\n",
       "    </tr>\n",
       "    <tr>\n",
       "      <th>Physics</th>\n",
       "      <td>4</td>\n",
       "      <td>4</td>\n",
       "      <td>3.0</td>\n",
       "    </tr>\n",
       "    <tr>\n",
       "      <th>Literature</th>\n",
       "      <td>4</td>\n",
       "      <td>4</td>\n",
       "      <td>5.0</td>\n",
       "    </tr>\n",
       "  </tbody>\n",
       "</table>\n",
       "</div>"
      ],
      "text/plain": [
       "            Ivanov Petrov  Sidorov\n",
       "Algebra          5   None      3.0\n",
       "Geometry         5      3      NaN\n",
       "Chemistry        4      5      3.0\n",
       "Physics          4      4      3.0\n",
       "Literature       4      4      5.0"
      ]
     },
     "execution_count": 123,
     "metadata": {},
     "output_type": "execute_result"
    }
   ],
   "source": [
    "marks"
   ]
  },
  {
   "cell_type": "markdown",
   "id": "57931981",
   "metadata": {},
   "source": [
    "Всё на месте. Дело в том, что метод удаляет дубликаты и создает новый фрейм без них. А чтобы сохранить изменения. их нужно записать. Это можно сделать прямым присваиванием, либо хитрым параметром."
   ]
  },
  {
   "cell_type": "code",
   "execution_count": 124,
   "id": "6ff68120",
   "metadata": {},
   "outputs": [],
   "source": [
    "marks.drop_duplicates(inplace=True)"
   ]
  },
  {
   "cell_type": "code",
   "execution_count": 125,
   "id": "74f09c8f",
   "metadata": {},
   "outputs": [
    {
     "data": {
      "text/html": [
       "<div>\n",
       "<style scoped>\n",
       "    .dataframe tbody tr th:only-of-type {\n",
       "        vertical-align: middle;\n",
       "    }\n",
       "\n",
       "    .dataframe tbody tr th {\n",
       "        vertical-align: top;\n",
       "    }\n",
       "\n",
       "    .dataframe thead th {\n",
       "        text-align: right;\n",
       "    }\n",
       "</style>\n",
       "<table border=\"1\" class=\"dataframe\">\n",
       "  <thead>\n",
       "    <tr style=\"text-align: right;\">\n",
       "      <th></th>\n",
       "      <th>Ivanov</th>\n",
       "      <th>Petrov</th>\n",
       "      <th>Sidorov</th>\n",
       "    </tr>\n",
       "  </thead>\n",
       "  <tbody>\n",
       "    <tr>\n",
       "      <th>Algebra</th>\n",
       "      <td>5</td>\n",
       "      <td>None</td>\n",
       "      <td>3.0</td>\n",
       "    </tr>\n",
       "    <tr>\n",
       "      <th>Geometry</th>\n",
       "      <td>5</td>\n",
       "      <td>3</td>\n",
       "      <td>NaN</td>\n",
       "    </tr>\n",
       "    <tr>\n",
       "      <th>Chemistry</th>\n",
       "      <td>4</td>\n",
       "      <td>5</td>\n",
       "      <td>3.0</td>\n",
       "    </tr>\n",
       "    <tr>\n",
       "      <th>Physics</th>\n",
       "      <td>4</td>\n",
       "      <td>4</td>\n",
       "      <td>3.0</td>\n",
       "    </tr>\n",
       "    <tr>\n",
       "      <th>Literature</th>\n",
       "      <td>4</td>\n",
       "      <td>4</td>\n",
       "      <td>5.0</td>\n",
       "    </tr>\n",
       "  </tbody>\n",
       "</table>\n",
       "</div>"
      ],
      "text/plain": [
       "            Ivanov Petrov  Sidorov\n",
       "Algebra          5   None      3.0\n",
       "Geometry         5      3      NaN\n",
       "Chemistry        4      5      3.0\n",
       "Physics          4      4      3.0\n",
       "Literature       4      4      5.0"
      ]
     },
     "execution_count": 125,
     "metadata": {},
     "output_type": "execute_result"
    }
   ],
   "source": [
    "marks"
   ]
  },
  {
   "cell_type": "markdown",
   "id": "c3f89f00",
   "metadata": {},
   "source": [
    "Но помните, что inplace работает не во всех методах, требующих перезаписи, так что не забывайте о явном присваивании."
   ]
  },
  {
   "cell_type": "markdown",
   "id": "f62e1429",
   "metadata": {},
   "source": [
    "Непорядок, обнаружились ошибки в заполнении журнала. Давайте исправим оценки по геометрии у Петрова и Сидорова."
   ]
  },
  {
   "cell_type": "code",
   "execution_count": 139,
   "id": "f65524fd",
   "metadata": {},
   "outputs": [],
   "source": [
    "marks.loc['Geometry', ['Petrov', 'Sidorov']] = [4, 3]"
   ]
  },
  {
   "cell_type": "code",
   "execution_count": 140,
   "id": "e60e9bde",
   "metadata": {},
   "outputs": [
    {
     "data": {
      "text/html": [
       "<div>\n",
       "<style scoped>\n",
       "    .dataframe tbody tr th:only-of-type {\n",
       "        vertical-align: middle;\n",
       "    }\n",
       "\n",
       "    .dataframe tbody tr th {\n",
       "        vertical-align: top;\n",
       "    }\n",
       "\n",
       "    .dataframe thead th {\n",
       "        text-align: right;\n",
       "    }\n",
       "</style>\n",
       "<table border=\"1\" class=\"dataframe\">\n",
       "  <thead>\n",
       "    <tr style=\"text-align: right;\">\n",
       "      <th></th>\n",
       "      <th>Ivanov</th>\n",
       "      <th>Petrov</th>\n",
       "      <th>Sidorov</th>\n",
       "    </tr>\n",
       "  </thead>\n",
       "  <tbody>\n",
       "    <tr>\n",
       "      <th>Algebra</th>\n",
       "      <td>5</td>\n",
       "      <td>None</td>\n",
       "      <td>3</td>\n",
       "    </tr>\n",
       "    <tr>\n",
       "      <th>Geometry</th>\n",
       "      <td>5</td>\n",
       "      <td>4</td>\n",
       "      <td>3</td>\n",
       "    </tr>\n",
       "    <tr>\n",
       "      <th>Chemistry</th>\n",
       "      <td>4</td>\n",
       "      <td>5</td>\n",
       "      <td>3</td>\n",
       "    </tr>\n",
       "    <tr>\n",
       "      <th>Physics</th>\n",
       "      <td>4</td>\n",
       "      <td>4</td>\n",
       "      <td>3</td>\n",
       "    </tr>\n",
       "    <tr>\n",
       "      <th>Literature</th>\n",
       "      <td>4</td>\n",
       "      <td>4</td>\n",
       "      <td>5</td>\n",
       "    </tr>\n",
       "  </tbody>\n",
       "</table>\n",
       "</div>"
      ],
      "text/plain": [
       "            Ivanov Petrov  Sidorov\n",
       "Algebra          5   None        3\n",
       "Geometry         5      4        3\n",
       "Chemistry        4      5        3\n",
       "Physics          4      4        3\n",
       "Literature       4      4        5"
      ]
     },
     "execution_count": 140,
     "metadata": {},
     "output_type": "execute_result"
    }
   ],
   "source": [
    "marks"
   ]
  },
  {
   "cell_type": "markdown",
   "id": "d8c8cfec",
   "metadata": {},
   "source": [
    "Обратили внимание, как были заданы значения? Запоминайте все варианты.\n",
    "\n",
    "Вот только тип данных последнего столбца не поменялся. Да, к более узкому типу данный столбцы автоматически не переводятся, но это всегда можно сделать вручную."
   ]
  },
  {
   "cell_type": "code",
   "execution_count": 141,
   "id": "db29f2b5",
   "metadata": {},
   "outputs": [],
   "source": [
    "marks['Sidorov'] = marks['Sidorov'].astype('int')"
   ]
  },
  {
   "cell_type": "code",
   "execution_count": 142,
   "id": "86e21a72",
   "metadata": {},
   "outputs": [
    {
     "data": {
      "text/html": [
       "<div>\n",
       "<style scoped>\n",
       "    .dataframe tbody tr th:only-of-type {\n",
       "        vertical-align: middle;\n",
       "    }\n",
       "\n",
       "    .dataframe tbody tr th {\n",
       "        vertical-align: top;\n",
       "    }\n",
       "\n",
       "    .dataframe thead th {\n",
       "        text-align: right;\n",
       "    }\n",
       "</style>\n",
       "<table border=\"1\" class=\"dataframe\">\n",
       "  <thead>\n",
       "    <tr style=\"text-align: right;\">\n",
       "      <th></th>\n",
       "      <th>Ivanov</th>\n",
       "      <th>Petrov</th>\n",
       "      <th>Sidorov</th>\n",
       "    </tr>\n",
       "  </thead>\n",
       "  <tbody>\n",
       "    <tr>\n",
       "      <th>Algebra</th>\n",
       "      <td>5</td>\n",
       "      <td>None</td>\n",
       "      <td>3</td>\n",
       "    </tr>\n",
       "    <tr>\n",
       "      <th>Geometry</th>\n",
       "      <td>5</td>\n",
       "      <td>4</td>\n",
       "      <td>3</td>\n",
       "    </tr>\n",
       "    <tr>\n",
       "      <th>Chemistry</th>\n",
       "      <td>4</td>\n",
       "      <td>5</td>\n",
       "      <td>3</td>\n",
       "    </tr>\n",
       "    <tr>\n",
       "      <th>Physics</th>\n",
       "      <td>4</td>\n",
       "      <td>4</td>\n",
       "      <td>3</td>\n",
       "    </tr>\n",
       "    <tr>\n",
       "      <th>Literature</th>\n",
       "      <td>4</td>\n",
       "      <td>4</td>\n",
       "      <td>5</td>\n",
       "    </tr>\n",
       "  </tbody>\n",
       "</table>\n",
       "</div>"
      ],
      "text/plain": [
       "            Ivanov Petrov  Sidorov\n",
       "Algebra          5   None        3\n",
       "Geometry         5      4        3\n",
       "Chemistry        4      5        3\n",
       "Physics          4      4        3\n",
       "Literature       4      4        5"
      ]
     },
     "execution_count": 142,
     "metadata": {},
     "output_type": "execute_result"
    }
   ],
   "source": [
    "marks"
   ]
  },
  {
   "cell_type": "markdown",
   "id": "b2918faf",
   "metadata": {},
   "source": [
    "Ранее мы уже складывали значения в столбцах. Но их можно не только складывать, есть несколько методов:\n",
    "\n",
    "- count - количество непустых записей\n",
    "- sum - сумма\n",
    "- min - минимум\n",
    "- max - максимум\n",
    "- mean - среднее \n",
    "- median - медиана\n",
    "- std - среднеквадратичное отклонение\n",
    "\n",
    "Их можно применять как ко всему фрейму, так и к отдельным столбцам."
   ]
  },
  {
   "cell_type": "code",
   "execution_count": 157,
   "id": "e24fb751",
   "metadata": {},
   "outputs": [
    {
     "name": "stdout",
     "output_type": "stream",
     "text": [
      "3.4\n"
     ]
    },
    {
     "data": {
      "text/plain": [
       "np.float64(4.25)"
      ]
     },
     "execution_count": 157,
     "metadata": {},
     "output_type": "execute_result"
    }
   ],
   "source": [
    "marks['Petrov'] = marks['Petrov'].astype('float')\n",
    "print(marks['Petrov'].sum() / len(marks['Petrov']))\n",
    "marks['Petrov'].mean()"
   ]
  },
  {
   "cell_type": "markdown",
   "id": "f31d552b",
   "metadata": {},
   "source": [
    "Выполнять эти агрегирующие методы можно и по строкам, если указать ось выполнения."
   ]
  },
  {
   "cell_type": "code",
   "execution_count": 158,
   "id": "94bacf2d",
   "metadata": {},
   "outputs": [
    {
     "data": {
      "text/plain": [
       "Algebra        8.0\n",
       "Geometry      12.0\n",
       "Chemistry     12.0\n",
       "Physics       11.0\n",
       "Literature    13.0\n",
       "dtype: float64"
      ]
     },
     "execution_count": 158,
     "metadata": {},
     "output_type": "execute_result"
    }
   ],
   "source": [
    "marks.sum(axis=1)"
   ]
  },
  {
   "cell_type": "markdown",
   "id": "e85195de",
   "metadata": {},
   "source": [
    "Скажем ещё об одном чудесном методе, позволяющем получить целый набор основных метрик, позволяющих делать выводы о данных. Что говорить, посмотрим. как он работает."
   ]
  },
  {
   "cell_type": "code",
   "execution_count": 159,
   "id": "e8d67f28",
   "metadata": {},
   "outputs": [
    {
     "data": {
      "text/html": [
       "<div>\n",
       "<style scoped>\n",
       "    .dataframe tbody tr th:only-of-type {\n",
       "        vertical-align: middle;\n",
       "    }\n",
       "\n",
       "    .dataframe tbody tr th {\n",
       "        vertical-align: top;\n",
       "    }\n",
       "\n",
       "    .dataframe thead th {\n",
       "        text-align: right;\n",
       "    }\n",
       "</style>\n",
       "<table border=\"1\" class=\"dataframe\">\n",
       "  <thead>\n",
       "    <tr style=\"text-align: right;\">\n",
       "      <th></th>\n",
       "      <th>Ivanov</th>\n",
       "      <th>Petrov</th>\n",
       "      <th>Sidorov</th>\n",
       "    </tr>\n",
       "  </thead>\n",
       "  <tbody>\n",
       "    <tr>\n",
       "      <th>count</th>\n",
       "      <td>5.000000</td>\n",
       "      <td>4.00</td>\n",
       "      <td>5.000000</td>\n",
       "    </tr>\n",
       "    <tr>\n",
       "      <th>mean</th>\n",
       "      <td>4.400000</td>\n",
       "      <td>4.25</td>\n",
       "      <td>3.400000</td>\n",
       "    </tr>\n",
       "    <tr>\n",
       "      <th>std</th>\n",
       "      <td>0.547723</td>\n",
       "      <td>0.50</td>\n",
       "      <td>0.894427</td>\n",
       "    </tr>\n",
       "    <tr>\n",
       "      <th>min</th>\n",
       "      <td>4.000000</td>\n",
       "      <td>4.00</td>\n",
       "      <td>3.000000</td>\n",
       "    </tr>\n",
       "    <tr>\n",
       "      <th>25%</th>\n",
       "      <td>4.000000</td>\n",
       "      <td>4.00</td>\n",
       "      <td>3.000000</td>\n",
       "    </tr>\n",
       "    <tr>\n",
       "      <th>50%</th>\n",
       "      <td>4.000000</td>\n",
       "      <td>4.00</td>\n",
       "      <td>3.000000</td>\n",
       "    </tr>\n",
       "    <tr>\n",
       "      <th>75%</th>\n",
       "      <td>5.000000</td>\n",
       "      <td>4.25</td>\n",
       "      <td>3.000000</td>\n",
       "    </tr>\n",
       "    <tr>\n",
       "      <th>max</th>\n",
       "      <td>5.000000</td>\n",
       "      <td>5.00</td>\n",
       "      <td>5.000000</td>\n",
       "    </tr>\n",
       "  </tbody>\n",
       "</table>\n",
       "</div>"
      ],
      "text/plain": [
       "         Ivanov  Petrov   Sidorov\n",
       "count  5.000000    4.00  5.000000\n",
       "mean   4.400000    4.25  3.400000\n",
       "std    0.547723    0.50  0.894427\n",
       "min    4.000000    4.00  3.000000\n",
       "25%    4.000000    4.00  3.000000\n",
       "50%    4.000000    4.00  3.000000\n",
       "75%    5.000000    4.25  3.000000\n",
       "max    5.000000    5.00  5.000000"
      ]
     },
     "execution_count": 159,
     "metadata": {},
     "output_type": "execute_result"
    }
   ],
   "source": [
    "marks.describe()"
   ]
  },
  {
   "cell_type": "markdown",
   "id": "b538a56f",
   "metadata": {},
   "source": [
    "Тут и количество, и среднее, и среднеквадратичное отклонение... Далее есть минимальное, максимальное значение и проценты какие-то... Это квартили. То есть в строке \"25%\" указано такое значение, что 25% всех значений столбца не больше этого значения, а 75% не меньше. Несложно догадаться, что 50% - это медиана.\n",
    "\n",
    "К слову о квартилях. Эти квартили делят набор данных на 4 блока (поэтому и квартили), но вообще мы можем получить такое число для любого уровня - квантиль (а если идём по процентам, то можно назвать процентиль)."
   ]
  },
  {
   "cell_type": "code",
   "execution_count": 163,
   "id": "1e77935d",
   "metadata": {},
   "outputs": [
    {
     "data": {
      "text/plain": [
       "np.float64(4.0)"
      ]
     },
     "execution_count": 163,
     "metadata": {},
     "output_type": "execute_result"
    }
   ],
   "source": [
    "marks['Ivanov'].quantile(0.37)"
   ]
  },
  {
   "cell_type": "markdown",
   "id": "8e77d0cf",
   "metadata": {},
   "source": [
    "Здесь мы посмотрели, какое число поделит наш набор данных так, чтобы 37% значений были не больше, а остальные не меньше этого числа.\n",
    "\n",
    "Дробить можно сколько угодно, особенно в больших наборах данных с тысячами строк."
   ]
  },
  {
   "cell_type": "markdown",
   "id": "556c05b9",
   "metadata": {},
   "source": [
    "Обязательно стоит сказать о фильтрации данных. Когда мы хотим как-то отсеять часть информации, легко добавить фильтры. Ознакомьтесь со следующими ячейками, это очень просто."
   ]
  },
  {
   "cell_type": "code",
   "execution_count": 164,
   "id": "07097058",
   "metadata": {},
   "outputs": [
    {
     "data": {
      "text/html": [
       "<div>\n",
       "<style scoped>\n",
       "    .dataframe tbody tr th:only-of-type {\n",
       "        vertical-align: middle;\n",
       "    }\n",
       "\n",
       "    .dataframe tbody tr th {\n",
       "        vertical-align: top;\n",
       "    }\n",
       "\n",
       "    .dataframe thead th {\n",
       "        text-align: right;\n",
       "    }\n",
       "</style>\n",
       "<table border=\"1\" class=\"dataframe\">\n",
       "  <thead>\n",
       "    <tr style=\"text-align: right;\">\n",
       "      <th></th>\n",
       "      <th>Ivanov</th>\n",
       "      <th>Petrov</th>\n",
       "      <th>Sidorov</th>\n",
       "    </tr>\n",
       "  </thead>\n",
       "  <tbody>\n",
       "    <tr>\n",
       "      <th>Algebra</th>\n",
       "      <td>5</td>\n",
       "      <td>NaN</td>\n",
       "      <td>3</td>\n",
       "    </tr>\n",
       "    <tr>\n",
       "      <th>Geometry</th>\n",
       "      <td>5</td>\n",
       "      <td>4.0</td>\n",
       "      <td>3</td>\n",
       "    </tr>\n",
       "  </tbody>\n",
       "</table>\n",
       "</div>"
      ],
      "text/plain": [
       "          Ivanov  Petrov  Sidorov\n",
       "Algebra        5     NaN        3\n",
       "Geometry       5     4.0        3"
      ]
     },
     "execution_count": 164,
     "metadata": {},
     "output_type": "execute_result"
    }
   ],
   "source": [
    "marks[marks['Ivanov'] > 4]"
   ]
  },
  {
   "cell_type": "code",
   "execution_count": 165,
   "id": "38beaa0a",
   "metadata": {},
   "outputs": [
    {
     "data": {
      "text/html": [
       "<div>\n",
       "<style scoped>\n",
       "    .dataframe tbody tr th:only-of-type {\n",
       "        vertical-align: middle;\n",
       "    }\n",
       "\n",
       "    .dataframe tbody tr th {\n",
       "        vertical-align: top;\n",
       "    }\n",
       "\n",
       "    .dataframe thead th {\n",
       "        text-align: right;\n",
       "    }\n",
       "</style>\n",
       "<table border=\"1\" class=\"dataframe\">\n",
       "  <thead>\n",
       "    <tr style=\"text-align: right;\">\n",
       "      <th></th>\n",
       "      <th>Ivanov</th>\n",
       "      <th>Petrov</th>\n",
       "      <th>Sidorov</th>\n",
       "    </tr>\n",
       "  </thead>\n",
       "  <tbody>\n",
       "    <tr>\n",
       "      <th>Literature</th>\n",
       "      <td>4</td>\n",
       "      <td>4.0</td>\n",
       "      <td>5</td>\n",
       "    </tr>\n",
       "  </tbody>\n",
       "</table>\n",
       "</div>"
      ],
      "text/plain": [
       "            Ivanov  Petrov  Sidorov\n",
       "Literature       4     4.0        5"
      ]
     },
     "execution_count": 165,
     "metadata": {},
     "output_type": "execute_result"
    }
   ],
   "source": [
    "marks[marks['Sidorov'] == marks['Sidorov'].max()]"
   ]
  },
  {
   "cell_type": "markdown",
   "id": "9fae5da9",
   "metadata": {},
   "source": [
    "Если же нужно два фильтра и более, то можно применять их последовательно, на что питон слегка возмутится, либо через логические операции (& - и, | - или, ~ - не). только важно взять сами фильтры в скобки, иначе получите ошибку."
   ]
  },
  {
   "cell_type": "code",
   "execution_count": 166,
   "id": "542cd143",
   "metadata": {},
   "outputs": [
    {
     "name": "stderr",
     "output_type": "stream",
     "text": [
      "/var/folders/nn/nnrrnydn6z35nnsdqhvlhrj40000gn/T/ipykernel_36139/1612115017.py:1: UserWarning: Boolean Series key will be reindexed to match DataFrame index.\n",
      "  marks[marks['Sidorov'] != 5][marks['Petrov'] != 5]\n"
     ]
    },
    {
     "data": {
      "text/html": [
       "<div>\n",
       "<style scoped>\n",
       "    .dataframe tbody tr th:only-of-type {\n",
       "        vertical-align: middle;\n",
       "    }\n",
       "\n",
       "    .dataframe tbody tr th {\n",
       "        vertical-align: top;\n",
       "    }\n",
       "\n",
       "    .dataframe thead th {\n",
       "        text-align: right;\n",
       "    }\n",
       "</style>\n",
       "<table border=\"1\" class=\"dataframe\">\n",
       "  <thead>\n",
       "    <tr style=\"text-align: right;\">\n",
       "      <th></th>\n",
       "      <th>Ivanov</th>\n",
       "      <th>Petrov</th>\n",
       "      <th>Sidorov</th>\n",
       "    </tr>\n",
       "  </thead>\n",
       "  <tbody>\n",
       "    <tr>\n",
       "      <th>Algebra</th>\n",
       "      <td>5</td>\n",
       "      <td>NaN</td>\n",
       "      <td>3</td>\n",
       "    </tr>\n",
       "    <tr>\n",
       "      <th>Geometry</th>\n",
       "      <td>5</td>\n",
       "      <td>4.0</td>\n",
       "      <td>3</td>\n",
       "    </tr>\n",
       "    <tr>\n",
       "      <th>Physics</th>\n",
       "      <td>4</td>\n",
       "      <td>4.0</td>\n",
       "      <td>3</td>\n",
       "    </tr>\n",
       "  </tbody>\n",
       "</table>\n",
       "</div>"
      ],
      "text/plain": [
       "          Ivanov  Petrov  Sidorov\n",
       "Algebra        5     NaN        3\n",
       "Geometry       5     4.0        3\n",
       "Physics        4     4.0        3"
      ]
     },
     "execution_count": 166,
     "metadata": {},
     "output_type": "execute_result"
    }
   ],
   "source": [
    "marks[marks['Sidorov'] != 5][marks['Petrov'] != 5]"
   ]
  },
  {
   "cell_type": "code",
   "execution_count": 168,
   "id": "3d67161c",
   "metadata": {},
   "outputs": [
    {
     "data": {
      "text/html": [
       "<div>\n",
       "<style scoped>\n",
       "    .dataframe tbody tr th:only-of-type {\n",
       "        vertical-align: middle;\n",
       "    }\n",
       "\n",
       "    .dataframe tbody tr th {\n",
       "        vertical-align: top;\n",
       "    }\n",
       "\n",
       "    .dataframe thead th {\n",
       "        text-align: right;\n",
       "    }\n",
       "</style>\n",
       "<table border=\"1\" class=\"dataframe\">\n",
       "  <thead>\n",
       "    <tr style=\"text-align: right;\">\n",
       "      <th></th>\n",
       "      <th>Ivanov</th>\n",
       "      <th>Petrov</th>\n",
       "      <th>Sidorov</th>\n",
       "    </tr>\n",
       "  </thead>\n",
       "  <tbody>\n",
       "    <tr>\n",
       "      <th>Algebra</th>\n",
       "      <td>5</td>\n",
       "      <td>NaN</td>\n",
       "      <td>3</td>\n",
       "    </tr>\n",
       "    <tr>\n",
       "      <th>Geometry</th>\n",
       "      <td>5</td>\n",
       "      <td>4.0</td>\n",
       "      <td>3</td>\n",
       "    </tr>\n",
       "    <tr>\n",
       "      <th>Physics</th>\n",
       "      <td>4</td>\n",
       "      <td>4.0</td>\n",
       "      <td>3</td>\n",
       "    </tr>\n",
       "  </tbody>\n",
       "</table>\n",
       "</div>"
      ],
      "text/plain": [
       "          Ivanov  Petrov  Sidorov\n",
       "Algebra        5     NaN        3\n",
       "Geometry       5     4.0        3\n",
       "Physics        4     4.0        3"
      ]
     },
     "execution_count": 168,
     "metadata": {},
     "output_type": "execute_result"
    }
   ],
   "source": [
    "marks[(marks['Sidorov'] != 5) & (marks['Petrov'] != 5)]"
   ]
  },
  {
   "cell_type": "markdown",
   "id": "d1d6792d",
   "metadata": {},
   "source": [
    "Ещё одна чудесная функция. Например, мы хотим узнать, сколько каких оценок у Петрова. Это очень легко сделать, сосчитав количество следующей функцией."
   ]
  },
  {
   "cell_type": "code",
   "execution_count": 172,
   "id": "d99cddc8-6c9e-46d5-ac64-7652c52eef88",
   "metadata": {},
   "outputs": [
    {
     "name": "stdout",
     "output_type": "stream",
     "text": [
      "[nan  4.  5.]\n",
      "2\n"
     ]
    }
   ],
   "source": [
    "print(marks['Petrov'].unique())\n",
    "print(marks['Petrov'].nunique())"
   ]
  },
  {
   "cell_type": "code",
   "execution_count": 173,
   "id": "1b3ddf90",
   "metadata": {},
   "outputs": [
    {
     "data": {
      "text/plain": [
       "Petrov\n",
       "4.0    3\n",
       "5.0    1\n",
       "Name: count, dtype: int64"
      ]
     },
     "execution_count": 173,
     "metadata": {},
     "output_type": "execute_result"
    }
   ],
   "source": [
    "marks['Petrov'].value_counts()"
   ]
  },
  {
   "cell_type": "markdown",
   "id": "f5b3ff05",
   "metadata": {},
   "source": [
    "Ох, чуть не забыл. Сортировка! Ведь сортировка по возрастанию или убыванию очень нужна, а выполняется очень просто."
   ]
  },
  {
   "cell_type": "code",
   "execution_count": 174,
   "id": "4e60c382",
   "metadata": {},
   "outputs": [
    {
     "data": {
      "text/plain": [
       "Geometry      4.0\n",
       "Physics       4.0\n",
       "Literature    4.0\n",
       "Chemistry     5.0\n",
       "Algebra       NaN\n",
       "Name: Petrov, dtype: float64"
      ]
     },
     "execution_count": 174,
     "metadata": {},
     "output_type": "execute_result"
    }
   ],
   "source": [
    "marks['Petrov'].sort_values()"
   ]
  },
  {
   "cell_type": "code",
   "execution_count": 175,
   "id": "7ccea8cf",
   "metadata": {},
   "outputs": [
    {
     "data": {
      "text/html": [
       "<div>\n",
       "<style scoped>\n",
       "    .dataframe tbody tr th:only-of-type {\n",
       "        vertical-align: middle;\n",
       "    }\n",
       "\n",
       "    .dataframe tbody tr th {\n",
       "        vertical-align: top;\n",
       "    }\n",
       "\n",
       "    .dataframe thead th {\n",
       "        text-align: right;\n",
       "    }\n",
       "</style>\n",
       "<table border=\"1\" class=\"dataframe\">\n",
       "  <thead>\n",
       "    <tr style=\"text-align: right;\">\n",
       "      <th></th>\n",
       "      <th>Ivanov</th>\n",
       "      <th>Petrov</th>\n",
       "      <th>Sidorov</th>\n",
       "    </tr>\n",
       "  </thead>\n",
       "  <tbody>\n",
       "    <tr>\n",
       "      <th>Geometry</th>\n",
       "      <td>5</td>\n",
       "      <td>4.0</td>\n",
       "      <td>3</td>\n",
       "    </tr>\n",
       "    <tr>\n",
       "      <th>Physics</th>\n",
       "      <td>4</td>\n",
       "      <td>4.0</td>\n",
       "      <td>3</td>\n",
       "    </tr>\n",
       "    <tr>\n",
       "      <th>Literature</th>\n",
       "      <td>4</td>\n",
       "      <td>4.0</td>\n",
       "      <td>5</td>\n",
       "    </tr>\n",
       "    <tr>\n",
       "      <th>Chemistry</th>\n",
       "      <td>4</td>\n",
       "      <td>5.0</td>\n",
       "      <td>3</td>\n",
       "    </tr>\n",
       "    <tr>\n",
       "      <th>Algebra</th>\n",
       "      <td>5</td>\n",
       "      <td>NaN</td>\n",
       "      <td>3</td>\n",
       "    </tr>\n",
       "  </tbody>\n",
       "</table>\n",
       "</div>"
      ],
      "text/plain": [
       "            Ivanov  Petrov  Sidorov\n",
       "Geometry         5     4.0        3\n",
       "Physics          4     4.0        3\n",
       "Literature       4     4.0        5\n",
       "Chemistry        4     5.0        3\n",
       "Algebra          5     NaN        3"
      ]
     },
     "execution_count": 175,
     "metadata": {},
     "output_type": "execute_result"
    }
   ],
   "source": [
    "# Или так\n",
    "marks.sort_values('Petrov')"
   ]
  },
  {
   "cell_type": "code",
   "execution_count": 176,
   "id": "9a367fca",
   "metadata": {},
   "outputs": [
    {
     "data": {
      "text/plain": [
       "Chemistry     5.0\n",
       "Geometry      4.0\n",
       "Physics       4.0\n",
       "Literature    4.0\n",
       "Algebra       NaN\n",
       "Name: Petrov, dtype: float64"
      ]
     },
     "execution_count": 176,
     "metadata": {},
     "output_type": "execute_result"
    }
   ],
   "source": [
    "# И по убыванию\n",
    "marks['Petrov'].sort_values(ascending=False)"
   ]
  },
  {
   "cell_type": "code",
   "execution_count": 177,
   "id": "93be710b-90db-4af5-92b7-61be3215cb75",
   "metadata": {},
   "outputs": [
    {
     "data": {
      "text/plain": [
       "Algebra       NaN\n",
       "Geometry      4.0\n",
       "Chemistry     5.0\n",
       "Physics       4.0\n",
       "Literature    4.0\n",
       "Name: Petrov, dtype: float64"
      ]
     },
     "execution_count": 177,
     "metadata": {},
     "output_type": "execute_result"
    }
   ],
   "source": [
    "marks.Petrov"
   ]
  },
  {
   "cell_type": "markdown",
   "id": "177dcd22",
   "metadata": {},
   "source": [
    "## Пара слов о признаках\n",
    "\n",
    "Когда мы изучаем датафрейм с целью анализа данных, то стоит понимать, какие признаки встречаются в столбцах. Их можно разделить на следующие группы:\n",
    "\n",
    "1. Количественные\n",
    "   1. Дискретные\n",
    "   2. Непрерывные\n",
    "2. Качественные (категориальные)\n",
    "   1. Порядковые\n",
    "   2. Номинальные\n",
    "\n",
    "В чем их отличие?\n",
    "\n",
    "Количественные признаки задаются числом. При этом дискретные задаются конкретными числами с неким шагом. Например, число студентов в аудитории мы можем описать только целыми неотрицательными числами. У нас не может сидеть полтора студента. А вот непрерывные признаки можно задать любым числом. Например, масса камня или скорость автомобиля.\n",
    "\n",
    "Качественные признаки могут быть заданы текстово, либо числами, если отражают разбиение на категории. Например, наличие детей в семье, заданное числами 0 и 1 будет не количественным, а качественным признаком, хоть и указано числами. Порядковые признаки отражают некий порядок. Например, уровень образования: начальное, общее, среднее и т.д. А номинальные нельзя распределить по порядку. Примером этих признаков могут быть цвета воздушных шариков: красный. синий, зеленый...\n",
    "\n",
    "Какие признаки в нашем фрейме с оценками?"
   ]
  },
  {
   "cell_type": "markdown",
   "id": "078f01e6",
   "metadata": {},
   "source": [
    "## Работа с файлами\n",
    "\n",
    "Как знакомиться с данными мы выяснили, но где данные брать? Чаще всего большие наборы или датасеты можно найти с разрешением .csv - Comma-Separated Values - значения, разделённые запятыми. Это удобный способ хранения данных. И Pandas легко может их прочитать, для это есть специальная функция (есть и для чтения excel и прочих файлов).\n",
    "\n",
    "Один из самый популярных датасетов - titanic.csv, на нём многие учатся и тренируются. Это список пассажиров Титаника.\n",
    "\n",
    "Чтобы подключить файл, мы просто должны указать путь до него в функции. В зависимости от платформы, где вы работаете, могут возникать тонкости процесса, но проще всего разместить файл в той же директории, что и этот ноутбук. Тогда проблем с подключением не будет. Положите titanic.csv в ту же папку и загрузите в ноутбук, выполнив следующий код."
   ]
  },
  {
   "cell_type": "code",
   "execution_count": 231,
   "id": "17e01c32",
   "metadata": {},
   "outputs": [
    {
     "data": {
      "text/html": [
       "<div>\n",
       "<style scoped>\n",
       "    .dataframe tbody tr th:only-of-type {\n",
       "        vertical-align: middle;\n",
       "    }\n",
       "\n",
       "    .dataframe tbody tr th {\n",
       "        vertical-align: top;\n",
       "    }\n",
       "\n",
       "    .dataframe thead th {\n",
       "        text-align: right;\n",
       "    }\n",
       "</style>\n",
       "<table border=\"1\" class=\"dataframe\">\n",
       "  <thead>\n",
       "    <tr style=\"text-align: right;\">\n",
       "      <th></th>\n",
       "      <th>Survived</th>\n",
       "      <th>Pclass</th>\n",
       "      <th>Name</th>\n",
       "      <th>Sex</th>\n",
       "      <th>Age</th>\n",
       "      <th>SibSp</th>\n",
       "      <th>Parch</th>\n",
       "      <th>Ticket</th>\n",
       "      <th>Fare</th>\n",
       "      <th>Cabin</th>\n",
       "      <th>Embarked</th>\n",
       "    </tr>\n",
       "    <tr>\n",
       "      <th>PassengerId</th>\n",
       "      <th></th>\n",
       "      <th></th>\n",
       "      <th></th>\n",
       "      <th></th>\n",
       "      <th></th>\n",
       "      <th></th>\n",
       "      <th></th>\n",
       "      <th></th>\n",
       "      <th></th>\n",
       "      <th></th>\n",
       "      <th></th>\n",
       "    </tr>\n",
       "  </thead>\n",
       "  <tbody>\n",
       "    <tr>\n",
       "      <th>1</th>\n",
       "      <td>0</td>\n",
       "      <td>3</td>\n",
       "      <td>Braund, Mr. Owen Harris</td>\n",
       "      <td>male</td>\n",
       "      <td>22.0</td>\n",
       "      <td>1</td>\n",
       "      <td>0</td>\n",
       "      <td>A/5 21171</td>\n",
       "      <td>7.2500</td>\n",
       "      <td>NaN</td>\n",
       "      <td>S</td>\n",
       "    </tr>\n",
       "    <tr>\n",
       "      <th>2</th>\n",
       "      <td>1</td>\n",
       "      <td>1</td>\n",
       "      <td>Cumings, Mrs. John Bradley (Florence Briggs Th...</td>\n",
       "      <td>female</td>\n",
       "      <td>38.0</td>\n",
       "      <td>1</td>\n",
       "      <td>0</td>\n",
       "      <td>PC 17599</td>\n",
       "      <td>71.2833</td>\n",
       "      <td>C85</td>\n",
       "      <td>C</td>\n",
       "    </tr>\n",
       "    <tr>\n",
       "      <th>3</th>\n",
       "      <td>1</td>\n",
       "      <td>3</td>\n",
       "      <td>Heikkinen, Miss. Laina</td>\n",
       "      <td>female</td>\n",
       "      <td>26.0</td>\n",
       "      <td>0</td>\n",
       "      <td>0</td>\n",
       "      <td>STON/O2. 3101282</td>\n",
       "      <td>7.9250</td>\n",
       "      <td>NaN</td>\n",
       "      <td>S</td>\n",
       "    </tr>\n",
       "    <tr>\n",
       "      <th>4</th>\n",
       "      <td>1</td>\n",
       "      <td>1</td>\n",
       "      <td>Futrelle, Mrs. Jacques Heath (Lily May Peel)</td>\n",
       "      <td>female</td>\n",
       "      <td>35.0</td>\n",
       "      <td>1</td>\n",
       "      <td>0</td>\n",
       "      <td>113803</td>\n",
       "      <td>53.1000</td>\n",
       "      <td>C123</td>\n",
       "      <td>S</td>\n",
       "    </tr>\n",
       "    <tr>\n",
       "      <th>5</th>\n",
       "      <td>0</td>\n",
       "      <td>3</td>\n",
       "      <td>Allen, Mr. William Henry</td>\n",
       "      <td>male</td>\n",
       "      <td>35.0</td>\n",
       "      <td>0</td>\n",
       "      <td>0</td>\n",
       "      <td>373450</td>\n",
       "      <td>8.0500</td>\n",
       "      <td>NaN</td>\n",
       "      <td>S</td>\n",
       "    </tr>\n",
       "    <tr>\n",
       "      <th>...</th>\n",
       "      <td>...</td>\n",
       "      <td>...</td>\n",
       "      <td>...</td>\n",
       "      <td>...</td>\n",
       "      <td>...</td>\n",
       "      <td>...</td>\n",
       "      <td>...</td>\n",
       "      <td>...</td>\n",
       "      <td>...</td>\n",
       "      <td>...</td>\n",
       "      <td>...</td>\n",
       "    </tr>\n",
       "    <tr>\n",
       "      <th>887</th>\n",
       "      <td>0</td>\n",
       "      <td>2</td>\n",
       "      <td>Montvila, Rev. Juozas</td>\n",
       "      <td>male</td>\n",
       "      <td>27.0</td>\n",
       "      <td>0</td>\n",
       "      <td>0</td>\n",
       "      <td>211536</td>\n",
       "      <td>13.0000</td>\n",
       "      <td>NaN</td>\n",
       "      <td>S</td>\n",
       "    </tr>\n",
       "    <tr>\n",
       "      <th>888</th>\n",
       "      <td>1</td>\n",
       "      <td>1</td>\n",
       "      <td>Graham, Miss. Margaret Edith</td>\n",
       "      <td>female</td>\n",
       "      <td>19.0</td>\n",
       "      <td>0</td>\n",
       "      <td>0</td>\n",
       "      <td>112053</td>\n",
       "      <td>30.0000</td>\n",
       "      <td>B42</td>\n",
       "      <td>S</td>\n",
       "    </tr>\n",
       "    <tr>\n",
       "      <th>889</th>\n",
       "      <td>0</td>\n",
       "      <td>3</td>\n",
       "      <td>Johnston, Miss. Catherine Helen \"Carrie\"</td>\n",
       "      <td>female</td>\n",
       "      <td>NaN</td>\n",
       "      <td>1</td>\n",
       "      <td>2</td>\n",
       "      <td>W./C. 6607</td>\n",
       "      <td>23.4500</td>\n",
       "      <td>NaN</td>\n",
       "      <td>S</td>\n",
       "    </tr>\n",
       "    <tr>\n",
       "      <th>890</th>\n",
       "      <td>1</td>\n",
       "      <td>1</td>\n",
       "      <td>Behr, Mr. Karl Howell</td>\n",
       "      <td>male</td>\n",
       "      <td>26.0</td>\n",
       "      <td>0</td>\n",
       "      <td>0</td>\n",
       "      <td>111369</td>\n",
       "      <td>30.0000</td>\n",
       "      <td>C148</td>\n",
       "      <td>C</td>\n",
       "    </tr>\n",
       "    <tr>\n",
       "      <th>891</th>\n",
       "      <td>0</td>\n",
       "      <td>3</td>\n",
       "      <td>Dooley, Mr. Patrick</td>\n",
       "      <td>male</td>\n",
       "      <td>32.0</td>\n",
       "      <td>0</td>\n",
       "      <td>0</td>\n",
       "      <td>370376</td>\n",
       "      <td>7.7500</td>\n",
       "      <td>NaN</td>\n",
       "      <td>Q</td>\n",
       "    </tr>\n",
       "  </tbody>\n",
       "</table>\n",
       "<p>891 rows × 11 columns</p>\n",
       "</div>"
      ],
      "text/plain": [
       "             Survived  Pclass  \\\n",
       "PassengerId                     \n",
       "1                   0       3   \n",
       "2                   1       1   \n",
       "3                   1       3   \n",
       "4                   1       1   \n",
       "5                   0       3   \n",
       "...               ...     ...   \n",
       "887                 0       2   \n",
       "888                 1       1   \n",
       "889                 0       3   \n",
       "890                 1       1   \n",
       "891                 0       3   \n",
       "\n",
       "                                                          Name     Sex   Age  \\\n",
       "PassengerId                                                                    \n",
       "1                                      Braund, Mr. Owen Harris    male  22.0   \n",
       "2            Cumings, Mrs. John Bradley (Florence Briggs Th...  female  38.0   \n",
       "3                                       Heikkinen, Miss. Laina  female  26.0   \n",
       "4                 Futrelle, Mrs. Jacques Heath (Lily May Peel)  female  35.0   \n",
       "5                                     Allen, Mr. William Henry    male  35.0   \n",
       "...                                                        ...     ...   ...   \n",
       "887                                      Montvila, Rev. Juozas    male  27.0   \n",
       "888                               Graham, Miss. Margaret Edith  female  19.0   \n",
       "889                   Johnston, Miss. Catherine Helen \"Carrie\"  female   NaN   \n",
       "890                                      Behr, Mr. Karl Howell    male  26.0   \n",
       "891                                        Dooley, Mr. Patrick    male  32.0   \n",
       "\n",
       "             SibSp  Parch            Ticket     Fare Cabin Embarked  \n",
       "PassengerId                                                          \n",
       "1                1      0         A/5 21171   7.2500   NaN        S  \n",
       "2                1      0          PC 17599  71.2833   C85        C  \n",
       "3                0      0  STON/O2. 3101282   7.9250   NaN        S  \n",
       "4                1      0            113803  53.1000  C123        S  \n",
       "5                0      0            373450   8.0500   NaN        S  \n",
       "...            ...    ...               ...      ...   ...      ...  \n",
       "887              0      0            211536  13.0000   NaN        S  \n",
       "888              0      0            112053  30.0000   B42        S  \n",
       "889              1      2        W./C. 6607  23.4500   NaN        S  \n",
       "890              0      0            111369  30.0000  C148        C  \n",
       "891              0      0            370376   7.7500   NaN        Q  \n",
       "\n",
       "[891 rows x 11 columns]"
      ]
     },
     "execution_count": 231,
     "metadata": {},
     "output_type": "execute_result"
    }
   ],
   "source": [
    "df = pd.read_csv('../datasets/titanic.csv', index_col='PassengerId')\n",
    "df"
   ]
  },
  {
   "cell_type": "markdown",
   "id": "017cc3c9",
   "metadata": {},
   "source": [
    "Здесь мы также указали, что за столбец индексов нужно взять столбец 'PassengerId'. У функции много дополнительных параметров, с ними всегда можно ознакомиться в документации (для этой функции https://pandas.pydata.org/pandas-docs/stable/reference/api/pandas.read_csv.html)\n",
    "\n",
    "Кстати, документация - крайне полезная вещь. Очень рекомендую всегда туда заглядывать, можно узнать много нового о знакомых функциях."
   ]
  },
  {
   "cell_type": "markdown",
   "id": "9e79c312",
   "metadata": {},
   "source": [
    "## Последнее плавание Титаника\n",
    "\n",
    "Теперь у вас есть возможность разобраться со всеми изученными функциями и методами на примере полноценного датасета.\n",
    "\n",
    "Я дам вам лишь объяснение значений столбцов.\n",
    "\n",
    "Каждая строчка наборов данных содержит следующие поля:\n",
    "\n",
    "- Survived — выжил ли пассажир;\n",
    "- Pclass — класс пассажира (1 — высший, 2 — средний, 3 — низший);\n",
    "- Name — имя;\n",
    "- Sex — пол;\n",
    "- Age — возраст;\n",
    "- SibSp — количество братьев, сестер, сводных братьев, сводных сестер, супругов на борту титаника;\n",
    "- Parch — количество родителей, детей (в том числе приемных) на борту титаника;\n",
    "- Ticket — номер билета;\n",
    "- Fare — плата за проезд;\n",
    "- Cabin — каюта;\n",
    "- Embarked — порт посадки (C — Шербур; Q — Квинстаун; S — Саутгемптон).\n",
    "\n",
    "Теперь вы можете самостоятельно изучить весь набор. Примерный список вопросов для изучения:\n",
    "\n",
    "- Размеры выборки, количество пассажиров;\n",
    "- Типы данных в столбцах;\n",
    "- Какие признаки в столбцах, количественные, качественные и т.д.;\n",
    "- Стоит ли заменить тип данных в каких-то столбцах;\n",
    "- Основные статистики для столбцов (средние, минимумы и максимумы и т.д.);\n",
    "- Самые-самые (самые дорогие билеты, самые дешевые, самые взрослые пассажиры);\n",
    "- Количество пассажиров по полу или классу;\n",
    "- Прочее.\n",
    "\n",
    "Сможете найти интересных пассажиров, странные вещи в датасете, удивительные факты? Потратьте время на изучение набора данных и отработку функций и методов. И, конечно, всегда можете искать другие функции, не описанные в данном ноутбуке.\n",
    "\n",
    "Если у вас остаются вопросы или замечания, всегда можете связаться со мной по контактам, указанным в самом начале ноутбука."
   ]
  },
  {
   "cell_type": "code",
   "execution_count": 232,
   "id": "a075c341",
   "metadata": {},
   "outputs": [
    {
     "data": {
      "text/html": [
       "<div>\n",
       "<style scoped>\n",
       "    .dataframe tbody tr th:only-of-type {\n",
       "        vertical-align: middle;\n",
       "    }\n",
       "\n",
       "    .dataframe tbody tr th {\n",
       "        vertical-align: top;\n",
       "    }\n",
       "\n",
       "    .dataframe thead th {\n",
       "        text-align: right;\n",
       "    }\n",
       "</style>\n",
       "<table border=\"1\" class=\"dataframe\">\n",
       "  <thead>\n",
       "    <tr style=\"text-align: right;\">\n",
       "      <th></th>\n",
       "      <th>Survived</th>\n",
       "      <th>Pclass</th>\n",
       "      <th>Name</th>\n",
       "      <th>Sex</th>\n",
       "      <th>Age</th>\n",
       "      <th>SibSp</th>\n",
       "      <th>Parch</th>\n",
       "      <th>Ticket</th>\n",
       "      <th>Fare</th>\n",
       "      <th>Cabin</th>\n",
       "      <th>Embarked</th>\n",
       "    </tr>\n",
       "    <tr>\n",
       "      <th>PassengerId</th>\n",
       "      <th></th>\n",
       "      <th></th>\n",
       "      <th></th>\n",
       "      <th></th>\n",
       "      <th></th>\n",
       "      <th></th>\n",
       "      <th></th>\n",
       "      <th></th>\n",
       "      <th></th>\n",
       "      <th></th>\n",
       "      <th></th>\n",
       "    </tr>\n",
       "  </thead>\n",
       "  <tbody>\n",
       "    <tr>\n",
       "      <th>1</th>\n",
       "      <td>0</td>\n",
       "      <td>3</td>\n",
       "      <td>Braund, Mr. Owen Harris</td>\n",
       "      <td>male</td>\n",
       "      <td>22.0</td>\n",
       "      <td>1</td>\n",
       "      <td>0</td>\n",
       "      <td>A/5 21171</td>\n",
       "      <td>7.2500</td>\n",
       "      <td>NaN</td>\n",
       "      <td>S</td>\n",
       "    </tr>\n",
       "    <tr>\n",
       "      <th>2</th>\n",
       "      <td>1</td>\n",
       "      <td>1</td>\n",
       "      <td>Cumings, Mrs. John Bradley (Florence Briggs Th...</td>\n",
       "      <td>female</td>\n",
       "      <td>38.0</td>\n",
       "      <td>1</td>\n",
       "      <td>0</td>\n",
       "      <td>PC 17599</td>\n",
       "      <td>71.2833</td>\n",
       "      <td>C85</td>\n",
       "      <td>C</td>\n",
       "    </tr>\n",
       "    <tr>\n",
       "      <th>3</th>\n",
       "      <td>1</td>\n",
       "      <td>3</td>\n",
       "      <td>Heikkinen, Miss. Laina</td>\n",
       "      <td>female</td>\n",
       "      <td>26.0</td>\n",
       "      <td>0</td>\n",
       "      <td>0</td>\n",
       "      <td>STON/O2. 3101282</td>\n",
       "      <td>7.9250</td>\n",
       "      <td>NaN</td>\n",
       "      <td>S</td>\n",
       "    </tr>\n",
       "    <tr>\n",
       "      <th>4</th>\n",
       "      <td>1</td>\n",
       "      <td>1</td>\n",
       "      <td>Futrelle, Mrs. Jacques Heath (Lily May Peel)</td>\n",
       "      <td>female</td>\n",
       "      <td>35.0</td>\n",
       "      <td>1</td>\n",
       "      <td>0</td>\n",
       "      <td>113803</td>\n",
       "      <td>53.1000</td>\n",
       "      <td>C123</td>\n",
       "      <td>S</td>\n",
       "    </tr>\n",
       "    <tr>\n",
       "      <th>5</th>\n",
       "      <td>0</td>\n",
       "      <td>3</td>\n",
       "      <td>Allen, Mr. William Henry</td>\n",
       "      <td>male</td>\n",
       "      <td>35.0</td>\n",
       "      <td>0</td>\n",
       "      <td>0</td>\n",
       "      <td>373450</td>\n",
       "      <td>8.0500</td>\n",
       "      <td>NaN</td>\n",
       "      <td>S</td>\n",
       "    </tr>\n",
       "  </tbody>\n",
       "</table>\n",
       "</div>"
      ],
      "text/plain": [
       "             Survived  Pclass  \\\n",
       "PassengerId                     \n",
       "1                   0       3   \n",
       "2                   1       1   \n",
       "3                   1       3   \n",
       "4                   1       1   \n",
       "5                   0       3   \n",
       "\n",
       "                                                          Name     Sex   Age  \\\n",
       "PassengerId                                                                    \n",
       "1                                      Braund, Mr. Owen Harris    male  22.0   \n",
       "2            Cumings, Mrs. John Bradley (Florence Briggs Th...  female  38.0   \n",
       "3                                       Heikkinen, Miss. Laina  female  26.0   \n",
       "4                 Futrelle, Mrs. Jacques Heath (Lily May Peel)  female  35.0   \n",
       "5                                     Allen, Mr. William Henry    male  35.0   \n",
       "\n",
       "             SibSp  Parch            Ticket     Fare Cabin Embarked  \n",
       "PassengerId                                                          \n",
       "1                1      0         A/5 21171   7.2500   NaN        S  \n",
       "2                1      0          PC 17599  71.2833   C85        C  \n",
       "3                0      0  STON/O2. 3101282   7.9250   NaN        S  \n",
       "4                1      0            113803  53.1000  C123        S  \n",
       "5                0      0            373450   8.0500   NaN        S  "
      ]
     },
     "metadata": {},
     "output_type": "display_data"
    },
    {
     "data": {
      "text/plain": [
       "(891, 11)"
      ]
     },
     "execution_count": 232,
     "metadata": {},
     "output_type": "execute_result"
    }
   ],
   "source": [
    "display(df.head())\n",
    "df.shape"
   ]
  },
  {
   "cell_type": "code",
   "execution_count": 233,
   "id": "0efd6123",
   "metadata": {},
   "outputs": [
    {
     "name": "stdout",
     "output_type": "stream",
     "text": [
      "<class 'pandas.core.frame.DataFrame'>\n",
      "Index: 891 entries, 1 to 891\n",
      "Data columns (total 11 columns):\n",
      " #   Column    Non-Null Count  Dtype  \n",
      "---  ------    --------------  -----  \n",
      " 0   Survived  891 non-null    int64  \n",
      " 1   Pclass    891 non-null    int64  \n",
      " 2   Name      891 non-null    object \n",
      " 3   Sex       891 non-null    object \n",
      " 4   Age       714 non-null    float64\n",
      " 5   SibSp     891 non-null    int64  \n",
      " 6   Parch     891 non-null    int64  \n",
      " 7   Ticket    891 non-null    object \n",
      " 8   Fare      891 non-null    float64\n",
      " 9   Cabin     204 non-null    object \n",
      " 10  Embarked  889 non-null    object \n",
      "dtypes: float64(2), int64(4), object(5)\n",
      "memory usage: 83.5+ KB\n"
     ]
    }
   ],
   "source": [
    "df.info()"
   ]
  },
  {
   "cell_type": "markdown",
   "id": "43702036-69be-456f-8fdc-c11a2713e2fc",
   "metadata": {},
   "source": [
    "Количественные: Sex, Parch, Fare, SibSp\n",
    "\n",
    "Категориальные: Survived, Pclass, Name, Sex, Ticket, Cabin, Embarked"
   ]
  },
  {
   "cell_type": "markdown",
   "id": "69348d85-0d90-4027-9208-260e6ed22de4",
   "metadata": {},
   "source": [
    "Можно было бы заменить возраст на целочисленное значение, но для этого надо избавиться от пропусков"
   ]
  },
  {
   "cell_type": "code",
   "execution_count": 234,
   "id": "21fb5c37-79cd-452f-b98f-c968abbf62d2",
   "metadata": {},
   "outputs": [
    {
     "data": {
      "text/html": [
       "<div>\n",
       "<style scoped>\n",
       "    .dataframe tbody tr th:only-of-type {\n",
       "        vertical-align: middle;\n",
       "    }\n",
       "\n",
       "    .dataframe tbody tr th {\n",
       "        vertical-align: top;\n",
       "    }\n",
       "\n",
       "    .dataframe thead th {\n",
       "        text-align: right;\n",
       "    }\n",
       "</style>\n",
       "<table border=\"1\" class=\"dataframe\">\n",
       "  <thead>\n",
       "    <tr style=\"text-align: right;\">\n",
       "      <th></th>\n",
       "      <th>Survived</th>\n",
       "      <th>Pclass</th>\n",
       "      <th>Age</th>\n",
       "      <th>SibSp</th>\n",
       "      <th>Parch</th>\n",
       "      <th>Fare</th>\n",
       "    </tr>\n",
       "  </thead>\n",
       "  <tbody>\n",
       "    <tr>\n",
       "      <th>count</th>\n",
       "      <td>891.000000</td>\n",
       "      <td>891.000000</td>\n",
       "      <td>714.000000</td>\n",
       "      <td>891.000000</td>\n",
       "      <td>891.000000</td>\n",
       "      <td>891.000000</td>\n",
       "    </tr>\n",
       "    <tr>\n",
       "      <th>mean</th>\n",
       "      <td>0.383838</td>\n",
       "      <td>2.308642</td>\n",
       "      <td>29.699118</td>\n",
       "      <td>0.523008</td>\n",
       "      <td>0.381594</td>\n",
       "      <td>32.204208</td>\n",
       "    </tr>\n",
       "    <tr>\n",
       "      <th>std</th>\n",
       "      <td>0.486592</td>\n",
       "      <td>0.836071</td>\n",
       "      <td>14.526497</td>\n",
       "      <td>1.102743</td>\n",
       "      <td>0.806057</td>\n",
       "      <td>49.693429</td>\n",
       "    </tr>\n",
       "    <tr>\n",
       "      <th>min</th>\n",
       "      <td>0.000000</td>\n",
       "      <td>1.000000</td>\n",
       "      <td>0.420000</td>\n",
       "      <td>0.000000</td>\n",
       "      <td>0.000000</td>\n",
       "      <td>0.000000</td>\n",
       "    </tr>\n",
       "    <tr>\n",
       "      <th>25%</th>\n",
       "      <td>0.000000</td>\n",
       "      <td>2.000000</td>\n",
       "      <td>20.125000</td>\n",
       "      <td>0.000000</td>\n",
       "      <td>0.000000</td>\n",
       "      <td>7.910400</td>\n",
       "    </tr>\n",
       "    <tr>\n",
       "      <th>50%</th>\n",
       "      <td>0.000000</td>\n",
       "      <td>3.000000</td>\n",
       "      <td>28.000000</td>\n",
       "      <td>0.000000</td>\n",
       "      <td>0.000000</td>\n",
       "      <td>14.454200</td>\n",
       "    </tr>\n",
       "    <tr>\n",
       "      <th>75%</th>\n",
       "      <td>1.000000</td>\n",
       "      <td>3.000000</td>\n",
       "      <td>38.000000</td>\n",
       "      <td>1.000000</td>\n",
       "      <td>0.000000</td>\n",
       "      <td>31.000000</td>\n",
       "    </tr>\n",
       "    <tr>\n",
       "      <th>max</th>\n",
       "      <td>1.000000</td>\n",
       "      <td>3.000000</td>\n",
       "      <td>80.000000</td>\n",
       "      <td>8.000000</td>\n",
       "      <td>6.000000</td>\n",
       "      <td>512.329200</td>\n",
       "    </tr>\n",
       "  </tbody>\n",
       "</table>\n",
       "</div>"
      ],
      "text/plain": [
       "         Survived      Pclass         Age       SibSp       Parch        Fare\n",
       "count  891.000000  891.000000  714.000000  891.000000  891.000000  891.000000\n",
       "mean     0.383838    2.308642   29.699118    0.523008    0.381594   32.204208\n",
       "std      0.486592    0.836071   14.526497    1.102743    0.806057   49.693429\n",
       "min      0.000000    1.000000    0.420000    0.000000    0.000000    0.000000\n",
       "25%      0.000000    2.000000   20.125000    0.000000    0.000000    7.910400\n",
       "50%      0.000000    3.000000   28.000000    0.000000    0.000000   14.454200\n",
       "75%      1.000000    3.000000   38.000000    1.000000    0.000000   31.000000\n",
       "max      1.000000    3.000000   80.000000    8.000000    6.000000  512.329200"
      ]
     },
     "execution_count": 234,
     "metadata": {},
     "output_type": "execute_result"
    }
   ],
   "source": [
    "df.describe()"
   ]
  },
  {
   "cell_type": "markdown",
   "id": "dcf0d1e9-113a-402e-a611-0d2b005d5756",
   "metadata": {},
   "source": [
    "В строке max указаны максимальные значения для каждого числового столбца"
   ]
  },
  {
   "cell_type": "code",
   "execution_count": 235,
   "id": "c55f8269-309a-4d7b-b939-cfb5d9639694",
   "metadata": {},
   "outputs": [
    {
     "data": {
      "text/plain": [
       "Sex\n",
       "female    314\n",
       "male      577\n",
       "Name: Name, dtype: int64"
      ]
     },
     "execution_count": 235,
     "metadata": {},
     "output_type": "execute_result"
    }
   ],
   "source": [
    "df.groupby('Sex')['Name'].count()"
   ]
  },
  {
   "cell_type": "code",
   "execution_count": 236,
   "id": "1efeefb0-cf41-4711-a7c3-d7109e8636ff",
   "metadata": {},
   "outputs": [
    {
     "data": {
      "text/plain": [
       "Sex\n",
       "male      577\n",
       "female    314\n",
       "Name: count, dtype: int64"
      ]
     },
     "execution_count": 236,
     "metadata": {},
     "output_type": "execute_result"
    }
   ],
   "source": [
    "df['Sex'].value_counts()"
   ]
  },
  {
   "cell_type": "code",
   "execution_count": 237,
   "id": "af4677ac-c5b2-48bc-8727-fb5bfa4310e3",
   "metadata": {},
   "outputs": [
    {
     "data": {
      "text/plain": [
       "PassengerId\n",
       "259    512.3292\n",
       "738    512.3292\n",
       "680    512.3292\n",
       "89     263.0000\n",
       "28     263.0000\n",
       "Name: Fare, dtype: float64"
      ]
     },
     "execution_count": 237,
     "metadata": {},
     "output_type": "execute_result"
    }
   ],
   "source": [
    "df['Fare'].sort_values(ascending=False).head()"
   ]
  },
  {
   "cell_type": "code",
   "execution_count": 239,
   "id": "1332eb0c-4374-4552-b9c8-86b34e9aa02f",
   "metadata": {},
   "outputs": [
    {
     "data": {
      "text/plain": [
       "np.int64(342)"
      ]
     },
     "execution_count": 239,
     "metadata": {},
     "output_type": "execute_result"
    }
   ],
   "source": [
    "df[df['Survived'] == 1]['Survived'].count() #Выжившие"
   ]
  },
  {
   "cell_type": "code",
   "execution_count": null,
   "id": "63a96e8f-6cf5-404c-a4af-1eeede96e45c",
   "metadata": {},
   "outputs": [],
   "source": []
  }
 ],
 "metadata": {
  "kernelspec": {
   "display_name": "Python 3 (ipykernel)",
   "language": "python",
   "name": "python3"
  },
  "language_info": {
   "codemirror_mode": {
    "name": "ipython",
    "version": 3
   },
   "file_extension": ".py",
   "mimetype": "text/x-python",
   "name": "python",
   "nbconvert_exporter": "python",
   "pygments_lexer": "ipython3",
   "version": "3.13.4"
  },
  "toc": {
   "base_numbering": 1,
   "nav_menu": {},
   "number_sections": true,
   "sideBar": true,
   "skip_h1_title": false,
   "title_cell": "Table of Contents",
   "title_sidebar": "Contents",
   "toc_cell": false,
   "toc_position": {},
   "toc_section_display": true,
   "toc_window_display": false
  }
 },
 "nbformat": 4,
 "nbformat_minor": 5
}
