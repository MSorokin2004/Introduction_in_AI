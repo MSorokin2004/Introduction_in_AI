{
 "cells": [
  {
   "cell_type": "code",
   "execution_count": 1,
   "id": "af17f62d-dc4e-42a0-b2a0-622316b06b06",
   "metadata": {
    "scrolled": true
   },
   "outputs": [],
   "source": [
    "import pandas as pd\n",
    "import requests\n",
    "import json\n",
    "import matplotlib.pyplot as plt"
   ]
  },
  {
   "cell_type": "markdown",
   "id": "dc0719b0-ddaa-4271-9bfe-b1b5abaaf08b",
   "metadata": {},
   "source": [
    "## ДЗ работа с API"
   ]
  },
  {
   "cell_type": "markdown",
   "id": "744117c3-17fe-46fd-9850-af955bca2223",
   "metadata": {},
   "source": [
    "Как максимум я хочу, чтобы вы собрали большую таблицу по вакансиям и проанализировали её. При этом выберите ту должность, которая интересно лично вам.\n",
    "\n",
    "Предлагаю такие шаги:\n",
    "\n",
    "1. Какие данные из вакансии заслуживают внимания? Что стоит доставать и помещать в таблицу? Уделите особое внимание численным параметрам - с остальными мы пока не особо учились работать.\n",
    "2. Какие данные могут быть проблемными? Где-то могут встречаться пропуски, как в зарплатах, их нужно обработать.\n",
    "3. Как собрать больше вакансий? Больше 100 на странице не получится, а страниц может быть несколько. Надо собрать данные со всех.\n",
    "4. Какой базовый анализ можно провести? Интересно, какие зарплаты предлагают по должностям, в каких городах сколько вакансий, и прочее, прочее, прочее...\n",
    "\n",
    "Уверен, это не составит большого труда, у вас всё получится!"
   ]
  },
  {
   "cell_type": "markdown",
   "id": "4b0553cd-b056-4595-b6f0-193fdb213143",
   "metadata": {},
   "source": [
    "1) Список необходимых столбцов для добавления в таблицу, указаны в пункте формирования датафрейма. Численных параметров оказалось не так много.\n",
    "2) АПИ в целом заставляет проводить проверку каждого параметра на нахождение его в возвращаемом словаре, так как в случае пропуска можем поймать ошибку. При попытке перевести значения зарплаты перевести в целочисленное значение возникла ошибка. Оказалось `None` наследуется только от `float`, поэтому перевел значения в данный тип.\n",
    "3) Больше вакансий собирал через цикл, времени занимает немного даже для 2000 вакансий, в коде приведены результаты замеров.\n",
    "4) Мне было интересно вытащить вакансии связанные с математикой, но не учитель и педагог. После анализа я заметил также менеджеров, попытался добавить менеджера в поле исключения `excluted_text`, некоторые вакансии менеджеров все равно остались (странно почему не сработало). Количество вакансий по городам представлено в конце кода."
   ]
  },
  {
   "cell_type": "code",
   "execution_count": 2,
   "id": "af4c603a-d471-49b3-8bd7-c1f49480ac1b",
   "metadata": {},
   "outputs": [],
   "source": [
    "# Ваш код"
   ]
  },
  {
   "cell_type": "markdown",
   "id": "2616e02c-83cf-4c63-a3d5-d393fb5a5db6",
   "metadata": {},
   "source": [
    "## Собираем вакансии\n",
    "\n",
    "Одна страница ваканский — 1 элемент списка `jsons_list`.\n",
    "\n",
    "На каждой странице 100 вакансий, всего 20 страниц.\n",
    "\n",
    "Поиск будет по слову \"математик\", исключая из поиска \"учитель, педагог\"\n",
    "\n",
    "Сбор осуществляем с помощью цикла."
   ]
  },
  {
   "cell_type": "code",
   "execution_count": 3,
   "id": "e452313d-0d5d-47ea-b0df-c2294ffb72da",
   "metadata": {},
   "outputs": [],
   "source": [
    "jsons_list = []\n",
    "def get_vacansies():\n",
    "    url = 'https://api.hh.ru/vacancies'\n",
    "    \n",
    "    for num_page in range(20):\n",
    "        params = {'text': 'математик', 'per_page': '100', 'page': num_page, 'excluted_text': 'учитель, педагог, менеджер'} \n",
    "        src = requests.get(url, params=params)\n",
    "        jsons_list.append(src.json())\n",
    "\n",
    "    return jsons_list"
   ]
  },
  {
   "cell_type": "code",
   "execution_count": 4,
   "id": "f90a9ef5-78de-4a1c-b96c-4afb8ddeb3f8",
   "metadata": {},
   "outputs": [
    {
     "name": "stdout",
     "output_type": "stream",
     "text": [
      "CPU times: user 1.25 s, sys: 99.6 ms, total: 1.35 s\n",
      "Wall time: 13.2 s\n"
     ]
    }
   ],
   "source": [
    "%%time\n",
    "jsons_list = get_vacansies()"
   ]
  },
  {
   "cell_type": "code",
   "execution_count": 5,
   "id": "145ae1ad-e9c1-42c6-89fe-c8d7581a93ec",
   "metadata": {},
   "outputs": [
    {
     "data": {
      "text/plain": [
       "(20, 100)"
      ]
     },
     "execution_count": 5,
     "metadata": {},
     "output_type": "execute_result"
    }
   ],
   "source": [
    "len(jsons_list), len(jsons_list[0]['items'])"
   ]
  },
  {
   "cell_type": "markdown",
   "id": "fee7bb28-4e41-4c7b-9ddf-7f8aa3da895c",
   "metadata": {},
   "source": [
    "## Формируем таблицу с данными\n",
    "\n",
    "Формируем dataframe из файлов json, проходя поочередно по каждой вакансии и проверяя наличие полей, которые нам вернул API."
   ]
  },
  {
   "cell_type": "code",
   "execution_count": 6,
   "id": "7831e62a-138c-4a8d-8803-8789d906af14",
   "metadata": {},
   "outputs": [
    {
     "data": {
      "text/html": [
       "<div>\n",
       "<style scoped>\n",
       "    .dataframe tbody tr th:only-of-type {\n",
       "        vertical-align: middle;\n",
       "    }\n",
       "\n",
       "    .dataframe tbody tr th {\n",
       "        vertical-align: top;\n",
       "    }\n",
       "\n",
       "    .dataframe thead th {\n",
       "        text-align: right;\n",
       "    }\n",
       "</style>\n",
       "<table border=\"1\" class=\"dataframe\">\n",
       "  <thead>\n",
       "    <tr style=\"text-align: right;\">\n",
       "      <th></th>\n",
       "      <th>name</th>\n",
       "      <th>alternate_url</th>\n",
       "      <th>created_at</th>\n",
       "      <th>archived</th>\n",
       "      <th>experience</th>\n",
       "      <th>salary_from</th>\n",
       "      <th>salary_to</th>\n",
       "      <th>salary_currency</th>\n",
       "      <th>salary_how</th>\n",
       "      <th>gross</th>\n",
       "      <th>...</th>\n",
       "      <th>accept_temporary</th>\n",
       "      <th>has_test</th>\n",
       "      <th>internship</th>\n",
       "      <th>night_shifts</th>\n",
       "      <th>employer</th>\n",
       "      <th>employer_url</th>\n",
       "      <th>accredited_it</th>\n",
       "      <th>city</th>\n",
       "      <th>street</th>\n",
       "      <th>building</th>\n",
       "    </tr>\n",
       "  </thead>\n",
       "  <tbody>\n",
       "  </tbody>\n",
       "</table>\n",
       "<p>0 rows × 24 columns</p>\n",
       "</div>"
      ],
      "text/plain": [
       "Empty DataFrame\n",
       "Columns: [name, alternate_url, created_at, archived, experience, salary_from, salary_to, salary_currency, salary_how, gross, work_format, working_hours, work_days, employment_form, accept_temporary, has_test, internship, night_shifts, employer, employer_url, accredited_it, city, street, building]\n",
       "Index: []\n",
       "\n",
       "[0 rows x 24 columns]"
      ]
     },
     "execution_count": 6,
     "metadata": {},
     "output_type": "execute_result"
    }
   ],
   "source": [
    "df = pd.DataFrame(columns=['name', 'alternate_url',  'created_at', 'archived', 'experience',\n",
    "                            'salary_from', 'salary_to', 'salary_currency', 'salary_how', 'gross',\n",
    "                            'work_format', 'working_hours', 'work_days', 'employment_form',\n",
    "                            'accept_temporary', 'has_test', 'internship', 'night_shifts',\n",
    "                            'employer', 'employer_url', 'accredited_it',\n",
    "                            'city', 'street', 'building'])\n",
    "df"
   ]
  },
  {
   "cell_type": "code",
   "execution_count": 7,
   "id": "b7f9d936-f7aa-4edd-9251-fcac5ca31fc8",
   "metadata": {},
   "outputs": [
    {
     "name": "stdout",
     "output_type": "stream",
     "text": [
      "CPU times: user 2.1 s, sys: 31.2 ms, total: 2.13 s\n",
      "Wall time: 2.13 s\n"
     ]
    }
   ],
   "source": [
    "%%time\n",
    "\n",
    "def full_dataframe():\n",
    "    for page in jsons_list:\n",
    "        for vacancy in page['items']:\n",
    "            id = vacancy['id']\n",
    "            name = vacancy['name']\n",
    "            \n",
    "            if vacancy['salary_range']:\n",
    "                salary_from = vacancy['salary_range'].get('from', None)\n",
    "                salary_to = vacancy['salary_range'].get('to', None)\n",
    "                salary_currency = vacancy['salary_range'].get('currency', None)\n",
    "                gross = vacancy['salary_range'].get('gross', False)\n",
    "                salary_how = vacancy['salary_range']['mode']['name'] if vacancy['salary_range']['mode'] else None\n",
    "            else:\n",
    "                salary_from, salary_to, salary_currency, gross, salary_how = None, None, None, None, None\n",
    "            \n",
    "            accept_temporary = vacancy.get('accept_temporary', None)\n",
    "            \n",
    "            if vacancy['address']:\n",
    "                city = vacancy['address'].get('city', None)\n",
    "                street = vacancy['address'].get('street', None)\n",
    "                building = vacancy['address'].get('building', None)\n",
    "            else:\n",
    "                city, street, building = None, None, None\n",
    "\n",
    "            alternate_url = vacancy.get('alternate_url', None)\n",
    "            archived = vacancy.get('archived', None)\n",
    "            created_at = vacancy.get('created_at', None)\n",
    "            \n",
    "            if vacancy['employer']:\n",
    "                employer = vacancy['employer'].get('name', None)\n",
    "                employer_url = vacancy['employer'].get('alternate_url', None)\n",
    "                accredited_it = vacancy['employer'].get('accredited_it_employer', None)\n",
    "            else:\n",
    "                employer, employer_url, accredited_it = None, None, None\n",
    "\n",
    "            experience = vacancy['experience']['name'] if vacancy['experience'] else None\n",
    "            has_test = vacancy.get('has_test', None)\n",
    "            internship = vacancy.get('internship', None)\n",
    "            night_shifts = vacancy.get('night_shifts', None)\n",
    "            employment_form = vacancy['employment_form']['name'] if vacancy['employment_form'] else None\n",
    "            work_format = vacancy['work_format'][0]['name'] if vacancy['work_format'] else None\n",
    "            work_days = vacancy['work_schedule_by_days'][0]['name'] if vacancy['work_schedule_by_days'] else None\n",
    "            working_hours = vacancy['working_hours'][0]['name'] if vacancy['working_hours'] else None\n",
    "\n",
    "            df.loc[id] = [# Основная информация о вакансии\n",
    "                            name, alternate_url,  created_at, archived, experience,\n",
    "                            # Зарплата\n",
    "                            salary_from, salary_to, salary_currency, salary_how, gross,\n",
    "                            # Условия работы\n",
    "                            work_format, working_hours, work_days, employment_form,\n",
    "                            accept_temporary, has_test, internship, night_shifts,\n",
    "                            # Работодатель\n",
    "                            employer, employer_url, accredited_it,\n",
    "                            # Местоположение\n",
    "                            city, street, building]\n",
    "\n",
    "\n",
    "\n",
    "full_dataframe() #последовательно заполняем датафрейм"
   ]
  },
  {
   "cell_type": "code",
   "execution_count": 8,
   "id": "732dc28a-ccb6-4c00-bc5f-60ffaf5b5ce9",
   "metadata": {
    "scrolled": true
   },
   "outputs": [
    {
     "name": "stdout",
     "output_type": "stream",
     "text": [
      "<class 'pandas.core.frame.DataFrame'>\n",
      "Index: 2000 entries, 126633328 to 126746820\n",
      "Data columns (total 24 columns):\n",
      " #   Column            Non-Null Count  Dtype \n",
      "---  ------            --------------  ----- \n",
      " 0   name              2000 non-null   object\n",
      " 1   alternate_url     2000 non-null   object\n",
      " 2   created_at        2000 non-null   object\n",
      " 3   archived          2000 non-null   bool  \n",
      " 4   experience        2000 non-null   object\n",
      " 5   salary_from       1055 non-null   object\n",
      " 6   salary_to         714 non-null    object\n",
      " 7   salary_currency   1125 non-null   object\n",
      " 8   salary_how        1125 non-null   object\n",
      " 9   gross             1125 non-null   object\n",
      " 10  work_format       1647 non-null   object\n",
      " 11  working_hours     2000 non-null   object\n",
      " 12  work_days         1999 non-null   object\n",
      " 13  employment_form   2000 non-null   object\n",
      " 14  accept_temporary  2000 non-null   bool  \n",
      " 15  has_test          2000 non-null   bool  \n",
      " 16  internship        2000 non-null   bool  \n",
      " 17  night_shifts      2000 non-null   bool  \n",
      " 18  employer          2000 non-null   object\n",
      " 19  employer_url      1996 non-null   object\n",
      " 20  accredited_it     1996 non-null   object\n",
      " 21  city              1525 non-null   object\n",
      " 22  street            1441 non-null   object\n",
      " 23  building          1381 non-null   object\n",
      "dtypes: bool(5), object(19)\n",
      "memory usage: 322.3+ KB\n"
     ]
    }
   ],
   "source": [
    "df.info() #увидели, что большинство полей имеют тип объекта, приведем поля зарплаты и даты к типу числа и даты соответственно"
   ]
  },
  {
   "cell_type": "code",
   "execution_count": 9,
   "id": "dc58ceff-8cd4-41aa-b034-fba64d8fb4f6",
   "metadata": {},
   "outputs": [
    {
     "data": {
      "text/plain": [
       "(2000, 24)"
      ]
     },
     "execution_count": 9,
     "metadata": {},
     "output_type": "execute_result"
    }
   ],
   "source": [
    "#Приводим типы\n",
    "df['salary_from'] = df['salary_from'].astype('float')\n",
    "df['salary_to'] = df['salary_to'].astype('float')\n",
    "df['created_at'] = pd.to_datetime(df['created_at'])\n",
    "df.shape"
   ]
  },
  {
   "cell_type": "code",
   "execution_count": 10,
   "id": "e34802de-4182-4b34-96e6-8a4bf14596a6",
   "metadata": {
    "scrolled": true
   },
   "outputs": [
    {
     "data": {
      "text/html": [
       "<div>\n",
       "<style scoped>\n",
       "    .dataframe tbody tr th:only-of-type {\n",
       "        vertical-align: middle;\n",
       "    }\n",
       "\n",
       "    .dataframe tbody tr th {\n",
       "        vertical-align: top;\n",
       "    }\n",
       "\n",
       "    .dataframe thead th {\n",
       "        text-align: right;\n",
       "    }\n",
       "</style>\n",
       "<table border=\"1\" class=\"dataframe\">\n",
       "  <thead>\n",
       "    <tr style=\"text-align: right;\">\n",
       "      <th></th>\n",
       "      <th>name</th>\n",
       "      <th>alternate_url</th>\n",
       "      <th>created_at</th>\n",
       "      <th>archived</th>\n",
       "      <th>experience</th>\n",
       "      <th>salary_from</th>\n",
       "      <th>salary_to</th>\n",
       "      <th>salary_currency</th>\n",
       "      <th>salary_how</th>\n",
       "      <th>gross</th>\n",
       "      <th>work_format</th>\n",
       "      <th>working_hours</th>\n",
       "      <th>work_days</th>\n",
       "      <th>employment_form</th>\n",
       "      <th>accept_temporary</th>\n",
       "      <th>has_test</th>\n",
       "      <th>internship</th>\n",
       "      <th>night_shifts</th>\n",
       "      <th>employer</th>\n",
       "      <th>employer_url</th>\n",
       "      <th>accredited_it</th>\n",
       "      <th>city</th>\n",
       "      <th>street</th>\n",
       "      <th>building</th>\n",
       "    </tr>\n",
       "  </thead>\n",
       "  <tbody>\n",
       "    <tr>\n",
       "      <th>126633328</th>\n",
       "      <td>Офис-менеджер</td>\n",
       "      <td>https://hh.ru/vacancy/126633328</td>\n",
       "      <td>2025-10-17 06:58:48+03:00</td>\n",
       "      <td>False</td>\n",
       "      <td>От 1 года до 3 лет</td>\n",
       "      <td>400000.0</td>\n",
       "      <td>400000.0</td>\n",
       "      <td>KZT</td>\n",
       "      <td>За месяц</td>\n",
       "      <td>True</td>\n",
       "      <td>На месте работодателя</td>\n",
       "      <td>8 часов</td>\n",
       "      <td>5/2</td>\n",
       "      <td>Полная</td>\n",
       "      <td>False</td>\n",
       "      <td>False</td>\n",
       "      <td>False</td>\n",
       "      <td>False</td>\n",
       "      <td>Акционерное общество Национальный холдинг QazB...</td>\n",
       "      <td>https://hh.ru/employer/10192567</td>\n",
       "      <td>False</td>\n",
       "      <td>None</td>\n",
       "      <td>None</td>\n",
       "      <td>None</td>\n",
       "    </tr>\n",
       "    <tr>\n",
       "      <th>126743529</th>\n",
       "      <td>Стажёр — менеджер продукта</td>\n",
       "      <td>https://hh.ru/vacancy/126743529</td>\n",
       "      <td>2025-10-20 19:11:17+03:00</td>\n",
       "      <td>False</td>\n",
       "      <td>Нет опыта</td>\n",
       "      <td>80000.0</td>\n",
       "      <td>80000.0</td>\n",
       "      <td>RUR</td>\n",
       "      <td>За месяц</td>\n",
       "      <td>True</td>\n",
       "      <td>Гибрид</td>\n",
       "      <td>8 часов</td>\n",
       "      <td>5/2</td>\n",
       "      <td>Полная</td>\n",
       "      <td>False</td>\n",
       "      <td>False</td>\n",
       "      <td>True</td>\n",
       "      <td>False</td>\n",
       "      <td>VK</td>\n",
       "      <td>https://hh.ru/employer/15478</td>\n",
       "      <td>True</td>\n",
       "      <td>None</td>\n",
       "      <td>None</td>\n",
       "      <td>None</td>\n",
       "    </tr>\n",
       "    <tr>\n",
       "      <th>126915879</th>\n",
       "      <td>Программист</td>\n",
       "      <td>https://hh.ru/vacancy/126915879</td>\n",
       "      <td>2025-10-24 14:24:39+03:00</td>\n",
       "      <td>False</td>\n",
       "      <td>Нет опыта</td>\n",
       "      <td>69000.0</td>\n",
       "      <td>80000.0</td>\n",
       "      <td>RUR</td>\n",
       "      <td>За месяц</td>\n",
       "      <td>True</td>\n",
       "      <td>На месте работодателя</td>\n",
       "      <td>8 часов</td>\n",
       "      <td>5/2</td>\n",
       "      <td>Полная</td>\n",
       "      <td>False</td>\n",
       "      <td>False</td>\n",
       "      <td>False</td>\n",
       "      <td>False</td>\n",
       "      <td>ГБУЗ РБ Поликлиника №43 г.Уфа</td>\n",
       "      <td>https://hh.ru/employer/2157597</td>\n",
       "      <td>False</td>\n",
       "      <td>Уфа</td>\n",
       "      <td>улица Маршала Жукова</td>\n",
       "      <td>4/1</td>\n",
       "    </tr>\n",
       "    <tr>\n",
       "      <th>126413575</th>\n",
       "      <td>Экономист-аналитик | Texnopark</td>\n",
       "      <td>https://hh.ru/vacancy/126413575</td>\n",
       "      <td>2025-10-10 15:51:11+03:00</td>\n",
       "      <td>False</td>\n",
       "      <td>Нет опыта</td>\n",
       "      <td>4000000.0</td>\n",
       "      <td>NaN</td>\n",
       "      <td>UZS</td>\n",
       "      <td>За месяц</td>\n",
       "      <td>False</td>\n",
       "      <td>На месте работодателя</td>\n",
       "      <td>Другое</td>\n",
       "      <td>Другое</td>\n",
       "      <td>Полная</td>\n",
       "      <td>False</td>\n",
       "      <td>False</td>\n",
       "      <td>False</td>\n",
       "      <td>False</td>\n",
       "      <td>Artel Electronics</td>\n",
       "      <td>https://hh.ru/employer/2420844</td>\n",
       "      <td>False</td>\n",
       "      <td>Ташкент</td>\n",
       "      <td>Яшнабадский район, махаллинский сход граждан Ф...</td>\n",
       "      <td>None</td>\n",
       "    </tr>\n",
       "    <tr>\n",
       "      <th>126907392</th>\n",
       "      <td>Директор по цифровой трансформации</td>\n",
       "      <td>https://hh.ru/vacancy/126907392</td>\n",
       "      <td>2025-10-24 11:44:54+03:00</td>\n",
       "      <td>False</td>\n",
       "      <td>Более 6 лет</td>\n",
       "      <td>420000.0</td>\n",
       "      <td>NaN</td>\n",
       "      <td>RUR</td>\n",
       "      <td>За месяц</td>\n",
       "      <td>False</td>\n",
       "      <td>На месте работодателя</td>\n",
       "      <td>8 часов</td>\n",
       "      <td>5/2</td>\n",
       "      <td>Полная</td>\n",
       "      <td>False</td>\n",
       "      <td>False</td>\n",
       "      <td>False</td>\n",
       "      <td>False</td>\n",
       "      <td>Ликви Моли Руссланд</td>\n",
       "      <td>https://hh.ru/employer/9520</td>\n",
       "      <td>False</td>\n",
       "      <td>Москва</td>\n",
       "      <td>Рябиновая</td>\n",
       "      <td>44</td>\n",
       "    </tr>\n",
       "  </tbody>\n",
       "</table>\n",
       "</div>"
      ],
      "text/plain": [
       "                                         name  \\\n",
       "126633328                       Офис-менеджер   \n",
       "126743529          Стажёр — менеджер продукта   \n",
       "126915879                         Программист   \n",
       "126413575      Экономист-аналитик | Texnopark   \n",
       "126907392  Директор по цифровой трансформации   \n",
       "\n",
       "                             alternate_url                created_at  \\\n",
       "126633328  https://hh.ru/vacancy/126633328 2025-10-17 06:58:48+03:00   \n",
       "126743529  https://hh.ru/vacancy/126743529 2025-10-20 19:11:17+03:00   \n",
       "126915879  https://hh.ru/vacancy/126915879 2025-10-24 14:24:39+03:00   \n",
       "126413575  https://hh.ru/vacancy/126413575 2025-10-10 15:51:11+03:00   \n",
       "126907392  https://hh.ru/vacancy/126907392 2025-10-24 11:44:54+03:00   \n",
       "\n",
       "           archived          experience  salary_from  salary_to  \\\n",
       "126633328     False  От 1 года до 3 лет     400000.0   400000.0   \n",
       "126743529     False           Нет опыта      80000.0    80000.0   \n",
       "126915879     False           Нет опыта      69000.0    80000.0   \n",
       "126413575     False           Нет опыта    4000000.0        NaN   \n",
       "126907392     False         Более 6 лет     420000.0        NaN   \n",
       "\n",
       "          salary_currency salary_how  gross            work_format  \\\n",
       "126633328             KZT   За месяц   True  На месте работодателя   \n",
       "126743529             RUR   За месяц   True                 Гибрид   \n",
       "126915879             RUR   За месяц   True  На месте работодателя   \n",
       "126413575             UZS   За месяц  False  На месте работодателя   \n",
       "126907392             RUR   За месяц  False  На месте работодателя   \n",
       "\n",
       "          working_hours work_days employment_form  accept_temporary  has_test  \\\n",
       "126633328       8 часов       5/2          Полная             False     False   \n",
       "126743529       8 часов       5/2          Полная             False     False   \n",
       "126915879       8 часов       5/2          Полная             False     False   \n",
       "126413575        Другое    Другое          Полная             False     False   \n",
       "126907392       8 часов       5/2          Полная             False     False   \n",
       "\n",
       "           internship  night_shifts  \\\n",
       "126633328       False         False   \n",
       "126743529        True         False   \n",
       "126915879       False         False   \n",
       "126413575       False         False   \n",
       "126907392       False         False   \n",
       "\n",
       "                                                    employer  \\\n",
       "126633328  Акционерное общество Национальный холдинг QazB...   \n",
       "126743529                                                 VK   \n",
       "126915879                      ГБУЗ РБ Поликлиника №43 г.Уфа   \n",
       "126413575                                  Artel Electronics   \n",
       "126907392                                Ликви Моли Руссланд   \n",
       "\n",
       "                              employer_url accredited_it     city  \\\n",
       "126633328  https://hh.ru/employer/10192567         False     None   \n",
       "126743529     https://hh.ru/employer/15478          True     None   \n",
       "126915879   https://hh.ru/employer/2157597         False      Уфа   \n",
       "126413575   https://hh.ru/employer/2420844         False  Ташкент   \n",
       "126907392      https://hh.ru/employer/9520         False   Москва   \n",
       "\n",
       "                                                      street building  \n",
       "126633328                                               None     None  \n",
       "126743529                                               None     None  \n",
       "126915879                               улица Маршала Жукова      4/1  \n",
       "126413575  Яшнабадский район, махаллинский сход граждан Ф...     None  \n",
       "126907392                                          Рябиновая       44  "
      ]
     },
     "execution_count": 10,
     "metadata": {},
     "output_type": "execute_result"
    }
   ],
   "source": [
    "pd.set_option('display.max_columns', None) #Расширим просмотр столбцов в нашем датафрейме\n",
    "df.head() #посмотрим на итоговый результат"
   ]
  },
  {
   "cell_type": "markdown",
   "id": "ac3e4926-0849-4825-9532-4e7d8cc99abd",
   "metadata": {},
   "source": [
    "## Немного посмотим на данные"
   ]
  },
  {
   "cell_type": "code",
   "execution_count": 11,
   "id": "24f2df45-bb79-4fd4-98ed-4530493ad63f",
   "metadata": {
    "scrolled": true
   },
   "outputs": [],
   "source": [
    "pd.set_option('display.max_rows', None)\n",
    "vacancy_cities = df.groupby('city').count()['name']"
   ]
  },
  {
   "cell_type": "code",
   "execution_count": 12,
   "id": "d1493076-e88a-42ea-86a7-7b9a39fd723c",
   "metadata": {},
   "outputs": [
    {
     "data": {
      "text/plain": [
       "city\n",
       "Другие             555\n",
       "Москва             497\n",
       "Санкт-Петербург    122\n",
       "Алматы              72\n",
       "Ташкент             52\n",
       "Астана              46\n",
       "Минск               40\n",
       "Екатеринбург        30\n",
       "Челябинск           24\n",
       "Нижний Новгород     23\n",
       "Новосибирск         22\n",
       "Казань              21\n",
       "Краснодар           21\n",
       "Name: name, dtype: int64"
      ]
     },
     "execution_count": 12,
     "metadata": {},
     "output_type": "execute_result"
    }
   ],
   "source": [
    "mask = vacancy_cities < 20\n",
    "other_sum = vacancy_cities[mask].sum()\n",
    "vacancy_cities = vacancy_cities[~mask]\n",
    "vacancy_cities['Другие'] = other_sum\n",
    "vacancy_cities = vacancy_cities.sort_values(ascending=False)\n",
    "vacancy_cities"
   ]
  },
  {
   "cell_type": "code",
   "execution_count": 13,
   "id": "5a5ccaf7-d441-4d4f-b353-a0faeb4dd810",
   "metadata": {},
   "outputs": [
    {
     "data": {
      "text/plain": [
       "(176, 8.8)"
      ]
     },
     "execution_count": 13,
     "metadata": {},
     "output_type": "execute_result"
    }
   ],
   "source": [
    "# Количество и процент аккредитованных айти компаний\n",
    "cnt = df['accredited_it'].sum()\n",
    "procent = round(cnt / len(df['accredited_it']) * 100, 2)\n",
    "cnt, procent"
   ]
  },
  {
   "cell_type": "code",
   "execution_count": 14,
   "id": "3649ea0e-807d-435d-b271-978ecc1e4bec",
   "metadata": {},
   "outputs": [
    {
     "data": {
      "image/png": "[encoded data removed]",
      "text/plain": [
       "<Figure size 1200x800 with 1 Axes>"
      ]
     },
     "metadata": {},
     "output_type": "display_data"
    }
   ],
   "source": [
    "plt.figure(figsize=(12, 8))\n",
    "\n",
    "bars = plt.bar(vacancy_cities.index, vacancy_cities.values)\n",
    "\n",
    "plt.title('Распределение вакансий по городам', fontsize=16, fontweight='bold', pad=20)\n",
    "plt.ylabel('Количество вакансий в городе', fontsize=12, labelpad=10)\n",
    "plt.xticks(rotation=45, ha='right')\n",
    "plt.grid(axis='y', alpha=0.3) \n",
    "\n",
    "for bar in bars:\n",
    "    height = bar.get_height()\n",
    "    plt.text(bar.get_x() + bar.get_width()/2., height,\n",
    "             f'{int(height)}',\n",
    "             ha='center', va='bottom')\n",
    "\n",
    "plt.tight_layout() \n",
    "\n",
    "plt.show()"
   ]
  },
  {
   "cell_type": "markdown",
   "id": "57ab66a4-9123-4d03-afa5-9a9b5bdfe320",
   "metadata": {},
   "source": [
    "# Закончили\n",
    "АПИ удивило скоростью работы, в целом несложно, тем более когда есть документация."
   ]
  }
 ],
 "metadata": {
  "kernelspec": {
   "display_name": "Python 3 (ipykernel)",
   "language": "python",
   "name": "python3"
  },
  "language_info": {
   "codemirror_mode": {
    "name": "ipython",
    "version": 3
   },
   "file_extension": ".py",
   "mimetype": "text/x-python",
   "name": "python",
   "nbconvert_exporter": "python",
   "pygments_lexer": "ipython3",
   "version": "3.13.7"
  }
 },
 "nbformat": 4,
 "nbformat_minor": 5
}
