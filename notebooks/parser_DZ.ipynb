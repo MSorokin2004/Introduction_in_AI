{
 "cells": [
  {
   "cell_type": "markdown",
   "id": "ca32e043-8761-4eb4-8e28-b9846d152295",
   "metadata": {},
   "source": [
    "# ДЗ Парсер сайта\n",
    "\n",
    "http://magnitogorsk-citystar.ru/realty/prodazha-kvartir/"
   ]
  },
  {
   "cell_type": "markdown",
   "id": "acbadc17-8255-4d0b-aa09-28c84a64696f",
   "metadata": {},
   "source": [
    "#### Библиотеки"
   ]
  },
  {
   "cell_type": "code",
   "execution_count": 1,
   "id": "c70cd231-6fce-4fac-b864-d50d6d5b1686",
   "metadata": {},
   "outputs": [],
   "source": [
    "#!pip3 install requests bs4 pandas\n",
    "import requests\n",
    "from bs4 import BeautifulSoup\n",
    "import pandas as pd\n",
    "import numpy as np\n",
    "import re"
   ]
  },
  {
   "cell_type": "markdown",
   "id": "9da81296-e9c1-4eba-a50e-3e7dd4397796",
   "metadata": {},
   "source": [
    "#### Получение и преобразование html страницы списка квартир и страницы самой квартиры"
   ]
  },
  {
   "cell_type": "code",
   "execution_count": 2,
   "id": "e94fd955-5a83-4707-b92f-0fe8dba20d40",
   "metadata": {
    "scrolled": true
   },
   "outputs": [
    {
     "data": {
      "text/plain": [
       "<Response [200]>"
      ]
     },
     "execution_count": 2,
     "metadata": {},
     "output_type": "execute_result"
    }
   ],
   "source": [
    "table_content = requests.get('http://magnitogorsk-citystar.ru/realty/prodazha-kvartir/')\n",
    "table_content"
   ]
  },
  {
   "cell_type": "code",
   "execution_count": 3,
   "id": "157f6c87-38ca-4edf-85a1-f695193b11ad",
   "metadata": {
    "scrolled": true
   },
   "outputs": [],
   "source": [
    "table_content = BeautifulSoup(table_content.text, 'lxml')\n",
    "#table_content # разобрали страницу на понятный, более менее упорядоченный html код"
   ]
  },
  {
   "cell_type": "code",
   "execution_count": 4,
   "id": "10489bcf-6977-49a0-bcd9-c34b0873d698",
   "metadata": {
    "scrolled": true
   },
   "outputs": [],
   "source": [
    "flat_page = requests.get('http://magnitogorsk-citystar.ru/realty/prodazha-kvartir/prodam-kvartiru-pravoberezhnyy-23240323.html')\n",
    "flat_page = BeautifulSoup(flat_page.text, 'lxml')\n",
    "#flat_page #посмотрим на код страницы квартиры, чтобы понять, как нам извлекать данные"
   ]
  },
  {
   "cell_type": "markdown",
   "id": "3f9f6806-f209-4b7a-b970-a0883d731183",
   "metadata": {},
   "source": [
    "### Извлечем параметры квартиры с каждой из страниц"
   ]
  },
  {
   "cell_type": "markdown",
   "id": "982cfeb7-956d-4562-b0da-d5077c75f90f",
   "metadata": {},
   "source": [
    "Перед извлечением параметров было проведено ручное исследование страниц квартир и страниц со спискоми квартир. Было выявлено, что информация на странице квартиры наиболее полная, а также хранится в более удобном формате. Следовательно парсить данные по квартирам со страницы со списком квартир имеет смысл только для получения айди объявления. Этот айди затем будет использоваться в качестве индекса в нашей таблице с данными.\n",
    "<img src=\"../datasets/flat_page.png\" width=\"500\"> <img src=\"../datasets/table_content.png\" width=\"550\">"
   ]
  },
  {
   "cell_type": "markdown",
   "id": "54c70faf-92d4-4523-9a60-9be5554fc606",
   "metadata": {},
   "source": [
    "#### 1) Парсим идентификаторы квартир"
   ]
  },
  {
   "cell_type": "code",
   "execution_count": 5,
   "id": "d3a728de-5428-4594-8efb-4350d9e34a13",
   "metadata": {},
   "outputs": [
    {
     "data": {
      "text/plain": [
       "<div class=\"pager__pages\"><span class=\"pager__page_state_current\">1</span><a class=\"pager__page\" href=\"/realty/prodazha-kvartir/?p=2\">2</a><a class=\"pager__page\" href=\"/realty/prodazha-kvartir/?p=3\">3</a><a class=\"pager__page\" href=\"/realty/prodazha-kvartir/?p=4\">4</a><a class=\"pager__page\" href=\"/realty/prodazha-kvartir/?p=5\">5</a><a class=\"pager__page common-link-visited\" href=\"/realty/prodazha-kvartir/?p=6\">...</a><a class=\"pager__page\" href=\"/realty/prodazha-kvartir/?p=17\">17</a></div>"
      ]
     },
     "execution_count": 5,
     "metadata": {},
     "output_type": "execute_result"
    }
   ],
   "source": [
    "# Для начала найдем сколько страниц нам придется парсить\n",
    "div = table_content.find('div', 'pager__pages')\n",
    "div"
   ]
  },
  {
   "cell_type": "code",
   "execution_count": 6,
   "id": "ce42ec0f-bab4-458d-b625-4bbf82ca3437",
   "metadata": {},
   "outputs": [
    {
     "name": "stdout",
     "output_type": "stream",
     "text": [
      "[2, 3, 4, 5, 17]\n"
     ]
    },
    {
     "data": {
      "text/plain": [
       "17"
      ]
     },
     "execution_count": 6,
     "metadata": {},
     "output_type": "execute_result"
    }
   ],
   "source": [
    "numeric_list = [int(i.get_text()) for i in div.find_all('a') if i.get_text().isdigit()]\n",
    "print(numeric_list)\n",
    "page_count = max(numeric_list) # Лучше было сделать так: page_count = int(list(div)[-1].get_text())\n",
    "page_count # Значение можно было получить взяв последний элемент списка, но мало ли как расположит автор сайта нумерацию страниц :)"
   ]
  },
  {
   "cell_type": "code",
   "execution_count": 7,
   "id": "9e274162-51e7-4dcf-8233-0f27d6fe7420",
   "metadata": {},
   "outputs": [
    {
     "data": {
      "text/plain": [
       "range(1, 18)"
      ]
     },
     "execution_count": 7,
     "metadata": {},
     "output_type": "execute_result"
    }
   ],
   "source": [
    "list_pages = range(1, page_count + 1) # Прямо во время выполнения задания страниц стало 21, вместо 20)\n",
    "list_pages"
   ]
  },
  {
   "cell_type": "markdown",
   "id": "36c38375-a08b-4728-a4dc-ae4d8026d9fe",
   "metadata": {},
   "source": [
    "При просмотре кода страницы с объявлениями видно, что айди квартиры находится в первом и во втором столбцах таблицы. Мы будем брать данные из первого столбца.\n",
    "<img src=\"../datasets/flat_id.png\">"
   ]
  },
  {
   "cell_type": "code",
   "execution_count": 8,
   "id": "a75afac9-4ee8-4258-b913-566713afa11e",
   "metadata": {
    "scrolled": true
   },
   "outputs": [],
   "source": [
    "# Находим на странице таблицу, отсеиваем ненужные строки, получаем список из айдишников квартир\n",
    "table = table_content.find('table', 'table')\n",
    "#table"
   ]
  },
  {
   "cell_type": "code",
   "execution_count": 9,
   "id": "c126aaf8-2e1d-4dd9-a3d6-a30259d3b751",
   "metadata": {},
   "outputs": [],
   "source": [
    "# Нас инетересует содержание столбеца notebook-column\n",
    "tr_list = [td for td in table.find_all('tr', recursive=False) if td.find('td', 'notebook-column')]\n",
    "#tr_list[0] # 30 штук"
   ]
  },
  {
   "cell_type": "code",
   "execution_count": 10,
   "id": "ed735362-6a2a-4464-b9b1-184702fc7a40",
   "metadata": {
    "scrolled": true
   },
   "outputs": [],
   "source": [
    "id_list = [i.find('input', {'name': 'cs_note_tg'})['value'] for i in tr_list]\n",
    "link_list = [i.find_all('a')[0]['href'] for i in tr_list]\n",
    "#list(zip(id_list, link_list)) # тоже 30 штук, осталось поставить все \"на поток\""
   ]
  },
  {
   "cell_type": "code",
   "execution_count": 11,
   "id": "be62d9dd-9b1c-487e-9168-967bea65f3f5",
   "metadata": {},
   "outputs": [],
   "source": [
    "#  Вынесем получение списка айдишек в отдельную функцию\n",
    "\n",
    "SITE = \"http://magnitogorsk-citystar.ru/realty/prodazha-kvartir/\"\n",
    "\n",
    "def get_id_list(num_page):\n",
    "    if num_page == 1:\n",
    "        page = requests.get(SITE)\n",
    "    else:\n",
    "        page = requests.get(SITE + f'?p={num_page}')\n",
    "    page = BeautifulSoup(page.text, 'lxml')\n",
    "    tr_list = [td for td in page.find('table', 'table').find_all('tr', recursive=False) if td.find('td', 'notebook-column')]\n",
    "    id_list = [i.find('input', {'name': 'cs_note_tg'})['value'] for i in tr_list]\n",
    "    link_list = [i.find_all('a')[0]['href'] for i in tr_list]\n",
    "\n",
    "    return id_list, link_list"
   ]
  },
  {
   "cell_type": "code",
   "execution_count": 12,
   "id": "40a8c9c0-f50e-451d-825c-84006295d8d5",
   "metadata": {
    "scrolled": true
   },
   "outputs": [
    {
     "name": "stdout",
     "output_type": "stream",
     "text": [
      "CPU times: user 1.54 s, sys: 161 ms, total: 1.71 s\n",
      "Wall time: 3min 32s\n"
     ]
    },
    {
     "data": {
      "text/plain": [
       "(504, 504)"
      ]
     },
     "execution_count": 12,
     "metadata": {},
     "output_type": "execute_result"
    }
   ],
   "source": [
    "%%time\n",
    "\n",
    "full_id_list, full_link_list = [], []\n",
    "for num_page in list_pages:\n",
    "    id_list, link_list = get_id_list(num_page) \n",
    "    full_id_list.extend(id_list)\n",
    "    full_link_list.extend(link_list)\n",
    "\n",
    "#full_id_list, , full_link_list\n",
    "len(full_id_list), len(full_link_list)"
   ]
  },
  {
   "cell_type": "code",
   "execution_count": 13,
   "id": "6bbc165f-b320-4513-94ce-926cbd3efcae",
   "metadata": {},
   "outputs": [
    {
     "data": {
      "text/plain": [
       "(504, 504)"
      ]
     },
     "execution_count": 13,
     "metadata": {},
     "output_type": "execute_result"
    }
   ],
   "source": [
    "len(set(full_id_list)), len(set(full_link_list))"
   ]
  },
  {
   "cell_type": "markdown",
   "id": "923b4ca4-6c80-457e-84e8-aa52e539d607",
   "metadata": {},
   "source": [
    "#### 2) Создаем колонки"
   ]
  },
  {
   "cell_type": "markdown",
   "id": "97b874d1-3d43-4ce8-b13a-20b5b6b9ad9b",
   "metadata": {
    "jp-MarkdownHeadingCollapsed": true
   },
   "source": [
    "Данные будут собираться по 11 параметрам: Ссылка, Цена, Район, Адрес, Этаж, Высота потолка, Планировка, Площадь, Состояние квартиры, Кол-во комнат, Описание.\n",
    "\n",
    "Из объявлений квартир видно, что данные где-то заполнены не полностью, соответственно в конечной таблице у нас будут пропуски. Так как на каждой странице квартиры таблица с данными разного размера, то ориентироваться будем по названию строк, а затем вставлять их в нужную колонку в нашем датафрейме.\n",
    "\n",
    "<img src='../datasets/flat_1.png' width=400> <img src='../datasets/flat_2.png' width=400>"
   ]
  },
  {
   "cell_type": "code",
   "execution_count": 14,
   "id": "9d0fcfef-fe6f-4727-9807-53ce838798c7",
   "metadata": {},
   "outputs": [
    {
     "data": {
      "text/plain": [
       "['Ссылка',\n",
       " 'Цена',\n",
       " 'Район',\n",
       " 'Адрес',\n",
       " 'Этаж',\n",
       " 'Высота потолка',\n",
       " 'Планировка',\n",
       " 'Площадь',\n",
       " 'Состояние квартиры',\n",
       " 'Кол-во комнат',\n",
       " 'Описание']"
      ]
     },
     "execution_count": 14,
     "metadata": {},
     "output_type": "execute_result"
    }
   ],
   "source": [
    "# Создаем колонки\n",
    "columns = ['Ссылка', 'Цена', 'Район', 'Адрес', 'Этаж',\n",
    "           'Высота потолка', 'Планировка', 'Площадь', \n",
    "           'Состояние квартиры', 'Кол-во комнат', 'Описание']\n",
    "columns"
   ]
  },
  {
   "cell_type": "markdown",
   "id": "715f1a6d-e174-43e3-8554-0d71420d21ae",
   "metadata": {},
   "source": [
    "#### 3) Парсим данные со страницы и через словарь вставляем их в датафрем"
   ]
  },
  {
   "cell_type": "markdown",
   "id": "941bffc9-2342-4e48-ad1c-1308ccea6364",
   "metadata": {},
   "source": [
    "Оказалось, что просто идентификатора объявления недостаточно, чтобы перейти на страницу этого объявления...\n",
    "\n",
    "Так как:\n",
    "- http://magnitogorsk-citystar.ru/realty/prodazha-kvartir/prodam-kvartiru-23257029.html\n",
    "- http://magnitogorsk-citystar.ru/realty/prodazha-kvartir/prodam-kvartiru-leninskiy-23257030.html\n",
    "- http://magnitogorsk-citystar.ru/realty/prodazha-kvartir/prodam-kvartiru-ordzhonikidzevskiy-23182211.html\n",
    "- http://magnitogorsk-citystar.ru/realty/prodazha-kvartir/prodam-kvartiru-pravoberezhnyy-23188503.html\n",
    "\n",
    "То есть если квартира в описании имеет название района, то в адресной строке добавляется название этого района, если же район не указан, то окончание строки просто \"prodam-kvartiru-айди объявления\". Следовательно, чтобы перейти на страницу объявления мы вынуждены вместе с айдишниками парсить район.\n",
    "\n",
    "Тут я хотел было расстроиться, затем просто вписать вручную транслитерацию районов (их оказывается всего 4), но заметил, что все гораздо проще. Каждая строка таблицы (как же это было очевидно...) имеет внутри себя ссылку на само объявление. Поэтому вместе с айдишками, можно сразу собирать ссылки, которые потом использовать для перехода и сбора данных."
   ]
  },
  {
   "cell_type": "code",
   "execution_count": 15,
   "id": "b0c7065d-cc34-4b10-9a4a-50a959f1a28c",
   "metadata": {},
   "outputs": [],
   "source": [
    "# Возвращаемся на пункт \"Парсим идентификаторы квартир\"\n",
    "...\n",
    "# Теперь все отлично, можно создать датафрейм"
   ]
  },
  {
   "cell_type": "code",
   "execution_count": 16,
   "id": "99a03489-ed41-46f8-b676-2de053dceec6",
   "metadata": {},
   "outputs": [
    {
     "data": {
      "text/html": [
       "<div>\n",
       "<style scoped>\n",
       "    .dataframe tbody tr th:only-of-type {\n",
       "        vertical-align: middle;\n",
       "    }\n",
       "\n",
       "    .dataframe tbody tr th {\n",
       "        vertical-align: top;\n",
       "    }\n",
       "\n",
       "    .dataframe thead th {\n",
       "        text-align: right;\n",
       "    }\n",
       "</style>\n",
       "<table border=\"1\" class=\"dataframe\">\n",
       "  <thead>\n",
       "    <tr style=\"text-align: right;\">\n",
       "      <th></th>\n",
       "      <th>Ссылка</th>\n",
       "      <th>Цена</th>\n",
       "      <th>Район</th>\n",
       "      <th>Адрес</th>\n",
       "      <th>Этаж</th>\n",
       "      <th>Высота потолка</th>\n",
       "      <th>Планировка</th>\n",
       "      <th>Площадь</th>\n",
       "      <th>Состояние квартиры</th>\n",
       "      <th>Кол-во комнат</th>\n",
       "      <th>Описание</th>\n",
       "    </tr>\n",
       "  </thead>\n",
       "  <tbody>\n",
       "    <tr>\n",
       "      <th>23417266</th>\n",
       "      <td>/realty/prodazha-kvartir/prodam-kvartiru-pravo...</td>\n",
       "      <td>NaN</td>\n",
       "      <td>NaN</td>\n",
       "      <td>NaN</td>\n",
       "      <td>NaN</td>\n",
       "      <td>NaN</td>\n",
       "      <td>NaN</td>\n",
       "      <td>NaN</td>\n",
       "      <td>NaN</td>\n",
       "      <td>NaN</td>\n",
       "      <td>NaN</td>\n",
       "    </tr>\n",
       "    <tr>\n",
       "      <th>23408391</th>\n",
       "      <td>/realty/prodazha-kvartir/prodam-kvartiru-23408...</td>\n",
       "      <td>NaN</td>\n",
       "      <td>NaN</td>\n",
       "      <td>NaN</td>\n",
       "      <td>NaN</td>\n",
       "      <td>NaN</td>\n",
       "      <td>NaN</td>\n",
       "      <td>NaN</td>\n",
       "      <td>NaN</td>\n",
       "      <td>NaN</td>\n",
       "      <td>NaN</td>\n",
       "    </tr>\n",
       "    <tr>\n",
       "      <th>23408389</th>\n",
       "      <td>/realty/prodazha-kvartir/prodam-kvartiru-23408...</td>\n",
       "      <td>NaN</td>\n",
       "      <td>NaN</td>\n",
       "      <td>NaN</td>\n",
       "      <td>NaN</td>\n",
       "      <td>NaN</td>\n",
       "      <td>NaN</td>\n",
       "      <td>NaN</td>\n",
       "      <td>NaN</td>\n",
       "      <td>NaN</td>\n",
       "      <td>NaN</td>\n",
       "    </tr>\n",
       "    <tr>\n",
       "      <th>19673514</th>\n",
       "      <td>/realty/prodazha-kvartir/prodam-kvartiru-ordzh...</td>\n",
       "      <td>NaN</td>\n",
       "      <td>NaN</td>\n",
       "      <td>NaN</td>\n",
       "      <td>NaN</td>\n",
       "      <td>NaN</td>\n",
       "      <td>NaN</td>\n",
       "      <td>NaN</td>\n",
       "      <td>NaN</td>\n",
       "      <td>NaN</td>\n",
       "      <td>NaN</td>\n",
       "    </tr>\n",
       "    <tr>\n",
       "      <th>23163976</th>\n",
       "      <td>/realty/prodazha-kvartir/prodam-kvartiru-lenin...</td>\n",
       "      <td>NaN</td>\n",
       "      <td>NaN</td>\n",
       "      <td>NaN</td>\n",
       "      <td>NaN</td>\n",
       "      <td>NaN</td>\n",
       "      <td>NaN</td>\n",
       "      <td>NaN</td>\n",
       "      <td>NaN</td>\n",
       "      <td>NaN</td>\n",
       "      <td>NaN</td>\n",
       "    </tr>\n",
       "  </tbody>\n",
       "</table>\n",
       "</div>"
      ],
      "text/plain": [
       "                                                     Ссылка Цена Район Адрес  \\\n",
       "23417266  /realty/prodazha-kvartir/prodam-kvartiru-pravo...  NaN   NaN   NaN   \n",
       "23408391  /realty/prodazha-kvartir/prodam-kvartiru-23408...  NaN   NaN   NaN   \n",
       "23408389  /realty/prodazha-kvartir/prodam-kvartiru-23408...  NaN   NaN   NaN   \n",
       "19673514  /realty/prodazha-kvartir/prodam-kvartiru-ordzh...  NaN   NaN   NaN   \n",
       "23163976  /realty/prodazha-kvartir/prodam-kvartiru-lenin...  NaN   NaN   NaN   \n",
       "\n",
       "         Этаж Высота потолка Планировка Площадь Состояние квартиры  \\\n",
       "23417266  NaN            NaN        NaN     NaN                NaN   \n",
       "23408391  NaN            NaN        NaN     NaN                NaN   \n",
       "23408389  NaN            NaN        NaN     NaN                NaN   \n",
       "19673514  NaN            NaN        NaN     NaN                NaN   \n",
       "23163976  NaN            NaN        NaN     NaN                NaN   \n",
       "\n",
       "         Кол-во комнат Описание  \n",
       "23417266           NaN      NaN  \n",
       "23408391           NaN      NaN  \n",
       "23408389           NaN      NaN  \n",
       "19673514           NaN      NaN  \n",
       "23163976           NaN      NaN  "
      ]
     },
     "execution_count": 16,
     "metadata": {},
     "output_type": "execute_result"
    }
   ],
   "source": [
    "df = pd.DataFrame(index=full_id_list, columns=columns)\n",
    "df['Ссылка'] = full_link_list\n",
    "df.head()"
   ]
  },
  {
   "cell_type": "code",
   "execution_count": 17,
   "id": "0138b3b3-0f24-4fbb-8e4a-0c118a48231d",
   "metadata": {
    "scrolled": true
   },
   "outputs": [],
   "source": [
    "# http://magnitogorsk-citystar.ru/realty/prodazha-kvartir/prodam-kvartiru-pravoberezhnyy-23188503.html\n",
    "flat_page =  requests.get('http://magnitogorsk-citystar.ru/realty/prodazha-kvartir/prodam-kvartiru-pravoberezhnyy-23188503.html')\n",
    "flat_page = BeautifulSoup(flat_page.text, 'lxml')\n",
    "#flat_page"
   ]
  },
  {
   "cell_type": "code",
   "execution_count": 18,
   "id": "12d51031-5ac6-41fc-9097-90cbcbb8e5ce",
   "metadata": {
    "scrolled": true
   },
   "outputs": [],
   "source": [
    "div = flat_page.find('div', 'adv-main-data')\n",
    "#div"
   ]
  },
  {
   "cell_type": "code",
   "execution_count": 19,
   "id": "836300a6-1081-43b2-b5de-ccd4268c4c82",
   "metadata": {
    "scrolled": true
   },
   "outputs": [],
   "source": [
    "tr_list = div.find_all('tr')\n",
    "#tr_list"
   ]
  },
  {
   "cell_type": "code",
   "execution_count": 20,
   "id": "4b6c1e9e-cce1-46c8-9329-bebbf0efd92a",
   "metadata": {
    "scrolled": true
   },
   "outputs": [
    {
     "data": {
      "text/plain": [
       "{'Цена': '4050000р. (66069р./м2)Подать заявку на ипотеку',\n",
       " 'Район': 'Правобережный',\n",
       " 'Адрес': 'Суворова, 139',\n",
       " 'Этаж': '2/5',\n",
       " 'Высота потолка': '2,5 м.',\n",
       " 'Планировка': 'хрущевка',\n",
       " 'Площадь': 'общая 61,3 м2, жилая 46 м2, кухни 6 м2',\n",
       " 'Состояние квартиры': 'Среднее',\n",
       " 'Кол-во комнат': 'Трехкомнатная',\n",
       " 'Этажность дома': '5',\n",
       " 'Описание': '🏠 Продается уютная 3-комнатная квартира 61,3 м² в отличном состоянии\\n📍 Адрес: ул. Суворова, 139, 2 этаж 5-этажного блочного дома\\n🔍 О квартире:\\n•📐 Площадь: 61.3 м²\\n•🏢 Этаж: 2/5\\n•🧭 Ориентация окон: Восток-Запад → светлая, весь день солнце\\n•🪟 Окна: Пластиковые стеклопакеты\\n•🧊 Балкон: Застекленный с выносом\\n•⚡ Электрика: Медная проводка\\n•💧 Коммуникации: Трубы пластик, установлены водомеры\\n•🚻 Санузел: Раздельный в кафеле\\n•🧱 Отделка: Полы — стяжка, в коридоре — кафель. Стены ровные. Потолки: натяжной и двухуровневый из гипсокартона.\\n🛋️ Остается вся мебель и техника:\\n•🍽️ Кухня: кухонный гарнитур, обеденный стол\\n•🚪 Прихожая: мебельная стенка\\n•👶 Детская: стенка с кроватью\\n•🛋️ Зал: шкаф\\n•🛏️ Спальня: шкаф-купе, диван с атаманкой\\n•🧺 Ванная: стиральная машина\\n🏡 О доме и районе:\\n•🚪 Подъезд: Чистый, ухоженный\\n•🎥 Домофон: Умная система «Интерсвязь» с видеонаблюдением\\n•🚗 Парковка: Много свободных мест во дворе\\n•🌳 Отдых: В шаговой доступности сквер Суворова и парк «Притяжение»\\n•🎓 Образование: Рядом школы №8, №39, профильный лицей №1, детские сады №145, 137\\n•🤸 Развитие: Студия балета «Фуэте», велоклуб, школа боевых искусств «Славяне»\\n•🛒 Магазины: «Магнит», «Пятерочка» — все рядом\\n•🚋 Транспорт: Остановки маршруток и трамвая рядом с домом. Удобный выезд на ул. Суворова и ул. Советской Армии.\\n✅ Юридические аспекты:\\n•👤 Собственник: Один взрослый\\n•📑 Прописка: Никто не прописан\\n•📋 Документы: Готовы к сделке, чистота юридическая гарантирована\\n•🔑 Сделка: Ключи и расчет в день подписания договора\\n•⛔ Обременений: Нет\\n📞 Звоните для записи на просмотр! Показ в удобное для Вас время, но, пожалуйста, договоритесь о времени визита заранее. '}"
      ]
     },
     "execution_count": 20,
     "metadata": {},
     "output_type": "execute_result"
    }
   ],
   "source": [
    "# field-title – ключ к словарю, field – его значение, поиск в словаре происходит за O(1), так что все ок\n",
    "# Подумал сначала сразу получить разделенные данные, но получить их в грязном виде,\n",
    "# а потом почистить пандасом оказалось проще, чем сразу собрать чистые как надо\n",
    "# плюс это позволит не заморачиваться над тем, на какую позицию придется ставить найденный элемент\n",
    "\n",
    "key_list = [key.get_text() for key in div.find_all('td', 'field-title')]\n",
    "value_list = [value.get_text().replace('\\xa0', '') for value in div.find_all('td', 'field')]\n",
    "\n",
    "data_dict = dict(zip(key_list, value_list))\n",
    "data_dict['Описание'] = div.find('td', 'note').get_text()\n",
    "data_dict\n",
    "\n",
    "# P.S. не понимал почему у одних строк на этой странице класс even, а другие без класса, а потом как дошло..."
   ]
  },
  {
   "cell_type": "code",
   "execution_count": 21,
   "id": "407eb943-7045-4b45-8738-fd0a8656d5ca",
   "metadata": {},
   "outputs": [],
   "source": [
    "BASE_SITE = 'http://magnitogorsk-citystar.ru'\n",
    "\n",
    "def get_data(link):\n",
    "    flat_page = BeautifulSoup(requests.get('http://magnitogorsk-citystar.ru' + link).text, 'lxml')\n",
    "    div = flat_page.find('div', 'adv-main-data')\n",
    "    key_list = [key.get_text() for key in div.find_all('td', 'field-title')]\n",
    "    value_list = [value.get_text().replace('\\xa0', '') for value in div.find_all('td', 'field')]\n",
    "    data_dict = dict(zip(key_list, value_list))\n",
    "    if div.find('td', 'note'):\n",
    "        data_dict['Описание'] = div.find('td', 'note').get_text()\n",
    "    return data_dict"
   ]
  },
  {
   "cell_type": "code",
   "execution_count": 22,
   "id": "47a8decf-1217-4292-af38-6bf335a921f9",
   "metadata": {},
   "outputs": [
    {
     "name": "stdout",
     "output_type": "stream",
     "text": [
      "CPU times: user 18.2 s, sys: 1.21 s, total: 19.4 s\n",
      "Wall time: 7min 44s\n"
     ]
    },
    {
     "data": {
      "text/html": [
       "<div>\n",
       "<style scoped>\n",
       "    .dataframe tbody tr th:only-of-type {\n",
       "        vertical-align: middle;\n",
       "    }\n",
       "\n",
       "    .dataframe tbody tr th {\n",
       "        vertical-align: top;\n",
       "    }\n",
       "\n",
       "    .dataframe thead th {\n",
       "        text-align: right;\n",
       "    }\n",
       "</style>\n",
       "<table border=\"1\" class=\"dataframe\">\n",
       "  <thead>\n",
       "    <tr style=\"text-align: right;\">\n",
       "      <th></th>\n",
       "      <th>Ссылка</th>\n",
       "      <th>Цена</th>\n",
       "      <th>Район</th>\n",
       "      <th>Адрес</th>\n",
       "      <th>Этаж</th>\n",
       "      <th>Высота потолка</th>\n",
       "      <th>Планировка</th>\n",
       "      <th>Площадь</th>\n",
       "      <th>Состояние квартиры</th>\n",
       "      <th>Кол-во комнат</th>\n",
       "      <th>Описание</th>\n",
       "    </tr>\n",
       "  </thead>\n",
       "  <tbody>\n",
       "    <tr>\n",
       "      <th>23417266</th>\n",
       "      <td>/realty/prodazha-kvartir/prodam-kvartiru-pravo...</td>\n",
       "      <td>4890000р. (78871р./м2)Подать заявку на ипотеку</td>\n",
       "      <td>Правобережный</td>\n",
       "      <td>Им. газеты \"Правда\", 62/2</td>\n",
       "      <td>2/5</td>\n",
       "      <td>NaN</td>\n",
       "      <td>NaN</td>\n",
       "      <td>общая 62 м2, жилая 45 м2, кухни 8 м2</td>\n",
       "      <td>Хорошее</td>\n",
       "      <td>Трехкомнатная</td>\n",
       "      <td>💥 Квартира в очень хорошем состоянии. 👍\\n\\n✅ В...</td>\n",
       "    </tr>\n",
       "    <tr>\n",
       "      <th>23408391</th>\n",
       "      <td>/realty/prodazha-kvartir/prodam-kvartiru-23408...</td>\n",
       "      <td>3800000р. (82969р./м2)Подать заявку на ипотеку</td>\n",
       "      <td>NaN</td>\n",
       "      <td>Карла Маркса, 112</td>\n",
       "      <td>2/5</td>\n",
       "      <td>NaN</td>\n",
       "      <td>NaN</td>\n",
       "      <td>общая 45,8 м2, жилая 31 м2, кухни 7 м2</td>\n",
       "      <td>NaN</td>\n",
       "      <td>Двухкомнатная</td>\n",
       "      <td>id:46213. \\nПродается уютная двухкомнатная ква...</td>\n",
       "    </tr>\n",
       "    <tr>\n",
       "      <th>23408389</th>\n",
       "      <td>/realty/prodazha-kvartir/prodam-kvartiru-23408...</td>\n",
       "      <td>4950000р. (85052р./м2)Подать заявку на ипотеку</td>\n",
       "      <td>NaN</td>\n",
       "      <td>Октябрьская, 32/1</td>\n",
       "      <td>2/5</td>\n",
       "      <td>NaN</td>\n",
       "      <td>NaN</td>\n",
       "      <td>общая 58,2 м2, жилая 40,4 м2, кухни 6,3 м2</td>\n",
       "      <td>NaN</td>\n",
       "      <td>Трехкомнатная</td>\n",
       "      <td>id:46096. \\nПродаётся 3-комнатная квартира в Л...</td>\n",
       "    </tr>\n",
       "    <tr>\n",
       "      <th>19673514</th>\n",
       "      <td>/realty/prodazha-kvartir/prodam-kvartiru-ordzh...</td>\n",
       "      <td>6590000р. (63365р./м2)Подать заявку на ипотеку</td>\n",
       "      <td>Орджоникидзевский</td>\n",
       "      <td>Советская, 213/1</td>\n",
       "      <td>14/14</td>\n",
       "      <td>NaN</td>\n",
       "      <td>нестандартная</td>\n",
       "      <td>общая 104 м2, жилая 66,3 м2, кухни 15,8 м2</td>\n",
       "      <td>Хорошее</td>\n",
       "      <td>Четырехкомнатная</td>\n",
       "      <td>💥 КВАРТИРА ОТЛИЧНОЙ НЕСТАНДАРТНОЙ ПЛАНИРОВКИ С...</td>\n",
       "    </tr>\n",
       "    <tr>\n",
       "      <th>23163976</th>\n",
       "      <td>/realty/prodazha-kvartir/prodam-kvartiru-lenin...</td>\n",
       "      <td>3790000р. (67679р./м2)Подать заявку на ипотеку</td>\n",
       "      <td>Ленинский</td>\n",
       "      <td>Московская, 26/1</td>\n",
       "      <td>3/4</td>\n",
       "      <td>NaN</td>\n",
       "      <td>NaN</td>\n",
       "      <td>общая 56 м2, жилая 37 м2, кухни 6 м2</td>\n",
       "      <td>Хорошее</td>\n",
       "      <td>Трехкомнатная</td>\n",
       "      <td>⭐ КВАРТИРА ТРЕХКОМНАТНАЯ ПОЛУСМЕЖНАЯ. ⭐\\n\\n✅ С...</td>\n",
       "    </tr>\n",
       "  </tbody>\n",
       "</table>\n",
       "</div>"
      ],
      "text/plain": [
       "                                                     Ссылка  \\\n",
       "23417266  /realty/prodazha-kvartir/prodam-kvartiru-pravo...   \n",
       "23408391  /realty/prodazha-kvartir/prodam-kvartiru-23408...   \n",
       "23408389  /realty/prodazha-kvartir/prodam-kvartiru-23408...   \n",
       "19673514  /realty/prodazha-kvartir/prodam-kvartiru-ordzh...   \n",
       "23163976  /realty/prodazha-kvartir/prodam-kvartiru-lenin...   \n",
       "\n",
       "                                                    Цена              Район  \\\n",
       "23417266  4890000р. (78871р./м2)Подать заявку на ипотеку      Правобережный   \n",
       "23408391  3800000р. (82969р./м2)Подать заявку на ипотеку                NaN   \n",
       "23408389  4950000р. (85052р./м2)Подать заявку на ипотеку                NaN   \n",
       "19673514  6590000р. (63365р./м2)Подать заявку на ипотеку  Орджоникидзевский   \n",
       "23163976  3790000р. (67679р./м2)Подать заявку на ипотеку          Ленинский   \n",
       "\n",
       "                              Адрес   Этаж Высота потолка     Планировка  \\\n",
       "23417266  Им. газеты \"Правда\", 62/2    2/5            NaN            NaN   \n",
       "23408391          Карла Маркса, 112    2/5            NaN            NaN   \n",
       "23408389          Октябрьская, 32/1    2/5            NaN            NaN   \n",
       "19673514           Советская, 213/1  14/14            NaN  нестандартная   \n",
       "23163976           Московская, 26/1    3/4            NaN            NaN   \n",
       "\n",
       "                                             Площадь Состояние квартиры  \\\n",
       "23417266        общая 62 м2, жилая 45 м2, кухни 8 м2            Хорошее   \n",
       "23408391      общая 45,8 м2, жилая 31 м2, кухни 7 м2                NaN   \n",
       "23408389  общая 58,2 м2, жилая 40,4 м2, кухни 6,3 м2                NaN   \n",
       "19673514  общая 104 м2, жилая 66,3 м2, кухни 15,8 м2            Хорошее   \n",
       "23163976        общая 56 м2, жилая 37 м2, кухни 6 м2            Хорошее   \n",
       "\n",
       "             Кол-во комнат                                           Описание  \n",
       "23417266     Трехкомнатная  💥 Квартира в очень хорошем состоянии. 👍\\n\\n✅ В...  \n",
       "23408391     Двухкомнатная  id:46213. \\nПродается уютная двухкомнатная ква...  \n",
       "23408389     Трехкомнатная  id:46096. \\nПродаётся 3-комнатная квартира в Л...  \n",
       "19673514  Четырехкомнатная  💥 КВАРТИРА ОТЛИЧНОЙ НЕСТАНДАРТНОЙ ПЛАНИРОВКИ С...  \n",
       "23163976     Трехкомнатная  ⭐ КВАРТИРА ТРЕХКОМНАТНАЯ ПОЛУСМЕЖНАЯ. ⭐\\n\\n✅ С...  "
      ]
     },
     "execution_count": 22,
     "metadata": {},
     "output_type": "execute_result"
    }
   ],
   "source": [
    "%%time\n",
    "\n",
    "for ind in full_id_list:\n",
    "    df.loc[str(ind), 'Цена':] = get_data(df.loc[str(ind), 'Ссылка'])\n",
    "\n",
    "df.head()"
   ]
  },
  {
   "cell_type": "markdown",
   "id": "72ce8ace-0cbe-4026-9834-93b5a8d28738",
   "metadata": {},
   "source": [
    "#### 4) Приводим собранные данные в порядок"
   ]
  },
  {
   "cell_type": "code",
   "execution_count": 24,
   "id": "31b3e76e-075e-4128-995a-61427751f9de",
   "metadata": {
    "scrolled": true
   },
   "outputs": [
    {
     "data": {
      "text/html": [
       "<div>\n",
       "<style scoped>\n",
       "    .dataframe tbody tr th:only-of-type {\n",
       "        vertical-align: middle;\n",
       "    }\n",
       "\n",
       "    .dataframe tbody tr th {\n",
       "        vertical-align: top;\n",
       "    }\n",
       "\n",
       "    .dataframe thead th {\n",
       "        text-align: right;\n",
       "    }\n",
       "</style>\n",
       "<table border=\"1\" class=\"dataframe\">\n",
       "  <thead>\n",
       "    <tr style=\"text-align: right;\">\n",
       "      <th></th>\n",
       "      <th>Ссылка</th>\n",
       "      <th>Цена</th>\n",
       "      <th>Район</th>\n",
       "      <th>Адрес</th>\n",
       "      <th>Этаж</th>\n",
       "      <th>Высота потолка</th>\n",
       "      <th>Планировка</th>\n",
       "      <th>Состояние квартиры</th>\n",
       "      <th>Кол-во комнат</th>\n",
       "      <th>Описание</th>\n",
       "      <th>Общая площадь</th>\n",
       "      <th>Жилая площадь</th>\n",
       "      <th>Площадь кухни</th>\n",
       "    </tr>\n",
       "  </thead>\n",
       "  <tbody>\n",
       "    <tr>\n",
       "      <th>23417266</th>\n",
       "      <td>/realty/prodazha-kvartir/prodam-kvartiru-pravo...</td>\n",
       "      <td>4890000р. (78871р./м2)Подать заявку на ипотеку</td>\n",
       "      <td>Правобережный</td>\n",
       "      <td>Им. газеты \"Правда\", 62/2</td>\n",
       "      <td>2/5</td>\n",
       "      <td>NaN</td>\n",
       "      <td>NaN</td>\n",
       "      <td>Хорошее</td>\n",
       "      <td>Трехкомнатная</td>\n",
       "      <td>💥 Квартира в очень хорошем состоянии. 👍\\n\\n✅ В...</td>\n",
       "      <td>62</td>\n",
       "      <td>45</td>\n",
       "      <td>8</td>\n",
       "    </tr>\n",
       "    <tr>\n",
       "      <th>23408391</th>\n",
       "      <td>/realty/prodazha-kvartir/prodam-kvartiru-23408...</td>\n",
       "      <td>3800000р. (82969р./м2)Подать заявку на ипотеку</td>\n",
       "      <td>NaN</td>\n",
       "      <td>Карла Маркса, 112</td>\n",
       "      <td>2/5</td>\n",
       "      <td>NaN</td>\n",
       "      <td>NaN</td>\n",
       "      <td>NaN</td>\n",
       "      <td>Двухкомнатная</td>\n",
       "      <td>id:46213. \\nПродается уютная двухкомнатная ква...</td>\n",
       "      <td>45,8</td>\n",
       "      <td>31</td>\n",
       "      <td>7</td>\n",
       "    </tr>\n",
       "    <tr>\n",
       "      <th>23408389</th>\n",
       "      <td>/realty/prodazha-kvartir/prodam-kvartiru-23408...</td>\n",
       "      <td>4950000р. (85052р./м2)Подать заявку на ипотеку</td>\n",
       "      <td>NaN</td>\n",
       "      <td>Октябрьская, 32/1</td>\n",
       "      <td>2/5</td>\n",
       "      <td>NaN</td>\n",
       "      <td>NaN</td>\n",
       "      <td>NaN</td>\n",
       "      <td>Трехкомнатная</td>\n",
       "      <td>id:46096. \\nПродаётся 3-комнатная квартира в Л...</td>\n",
       "      <td>58,2</td>\n",
       "      <td>40,4</td>\n",
       "      <td>6,3</td>\n",
       "    </tr>\n",
       "    <tr>\n",
       "      <th>19673514</th>\n",
       "      <td>/realty/prodazha-kvartir/prodam-kvartiru-ordzh...</td>\n",
       "      <td>6590000р. (63365р./м2)Подать заявку на ипотеку</td>\n",
       "      <td>Орджоникидзевский</td>\n",
       "      <td>Советская, 213/1</td>\n",
       "      <td>14/14</td>\n",
       "      <td>NaN</td>\n",
       "      <td>нестандартная</td>\n",
       "      <td>Хорошее</td>\n",
       "      <td>Четырехкомнатная</td>\n",
       "      <td>💥 КВАРТИРА ОТЛИЧНОЙ НЕСТАНДАРТНОЙ ПЛАНИРОВКИ С...</td>\n",
       "      <td>104</td>\n",
       "      <td>66,3</td>\n",
       "      <td>15,8</td>\n",
       "    </tr>\n",
       "    <tr>\n",
       "      <th>23163976</th>\n",
       "      <td>/realty/prodazha-kvartir/prodam-kvartiru-lenin...</td>\n",
       "      <td>3790000р. (67679р./м2)Подать заявку на ипотеку</td>\n",
       "      <td>Ленинский</td>\n",
       "      <td>Московская, 26/1</td>\n",
       "      <td>3/4</td>\n",
       "      <td>NaN</td>\n",
       "      <td>NaN</td>\n",
       "      <td>Хорошее</td>\n",
       "      <td>Трехкомнатная</td>\n",
       "      <td>⭐ КВАРТИРА ТРЕХКОМНАТНАЯ ПОЛУСМЕЖНАЯ. ⭐\\n\\n✅ С...</td>\n",
       "      <td>56</td>\n",
       "      <td>37</td>\n",
       "      <td>6</td>\n",
       "    </tr>\n",
       "    <tr>\n",
       "      <th>...</th>\n",
       "      <td>...</td>\n",
       "      <td>...</td>\n",
       "      <td>...</td>\n",
       "      <td>...</td>\n",
       "      <td>...</td>\n",
       "      <td>...</td>\n",
       "      <td>...</td>\n",
       "      <td>...</td>\n",
       "      <td>...</td>\n",
       "      <td>...</td>\n",
       "      <td>...</td>\n",
       "      <td>...</td>\n",
       "      <td>...</td>\n",
       "    </tr>\n",
       "    <tr>\n",
       "      <th>16262155</th>\n",
       "      <td>/realty/prodazha-kvartir/prodam-kvartiru-ordzh...</td>\n",
       "      <td>5500000р. (84615р./м2)Подать заявку на ипотеку</td>\n",
       "      <td>Орджоникидзевский</td>\n",
       "      <td>Жукова, 19/1</td>\n",
       "      <td>1/10</td>\n",
       "      <td>NaN</td>\n",
       "      <td>NaN</td>\n",
       "      <td>NaN</td>\n",
       "      <td>Двухкомнатная</td>\n",
       "      <td>&lt;p&gt;В продаже уютная 2к квартира, в одном из лу...</td>\n",
       "      <td>65</td>\n",
       "      <td>43</td>\n",
       "      <td>12</td>\n",
       "    </tr>\n",
       "    <tr>\n",
       "      <th>15406262</th>\n",
       "      <td>/realty/prodazha-kvartir/prodam-kvartiru-ordzh...</td>\n",
       "      <td>8000000р. (76190р./м2)Подать заявку на ипотеку</td>\n",
       "      <td>Орджоникидзевский</td>\n",
       "      <td>Карла Маркса, 185</td>\n",
       "      <td>4/9</td>\n",
       "      <td>NaN</td>\n",
       "      <td>NaN</td>\n",
       "      <td>NaN</td>\n",
       "      <td>Четырехкомнатная</td>\n",
       "      <td>Предлагаю Вашему вниманию четырёхкомнатную ква...</td>\n",
       "      <td>105</td>\n",
       "      <td>83</td>\n",
       "      <td>10</td>\n",
       "    </tr>\n",
       "    <tr>\n",
       "      <th>16022577</th>\n",
       "      <td>/realty/prodazha-kvartir/prodam-kvartiru-lenin...</td>\n",
       "      <td>5560000р. (76374р./м2)Подать заявку на ипотеку</td>\n",
       "      <td>Ленинский</td>\n",
       "      <td>Строителей, 57</td>\n",
       "      <td>6/6</td>\n",
       "      <td>NaN</td>\n",
       "      <td>NaN</td>\n",
       "      <td>NaN</td>\n",
       "      <td>Трехкомнатная</td>\n",
       "      <td>&lt;p&gt;Для ценителей Ленинского района в продаже у...</td>\n",
       "      <td>72,8</td>\n",
       "      <td>44</td>\n",
       "      <td>8</td>\n",
       "    </tr>\n",
       "    <tr>\n",
       "      <th>15761115</th>\n",
       "      <td>/realty/prodazha-kvartir/prodam-kvartiru-15761...</td>\n",
       "      <td>1950000р. (108333р./м2)Подать заявку на ипотеку</td>\n",
       "      <td>NaN</td>\n",
       "      <td>Курортная, 19</td>\n",
       "      <td>2/2</td>\n",
       "      <td>NaN</td>\n",
       "      <td>NaN</td>\n",
       "      <td>NaN</td>\n",
       "      <td>Однокомнатная</td>\n",
       "      <td>В эксклюзивной продаже апартаменты в &lt;b&gt;ЖК\"КАР...</td>\n",
       "      <td>18</td>\n",
       "      <td>15</td>\n",
       "      <td>0</td>\n",
       "    </tr>\n",
       "    <tr>\n",
       "      <th>14046477</th>\n",
       "      <td>/realty/prodazha-kvartir/prodam-kvartiru-pravo...</td>\n",
       "      <td>5000000р. (74405р./м2)Подать заявку на ипотеку</td>\n",
       "      <td>Правобережный</td>\n",
       "      <td>Западное шоссе, 95</td>\n",
       "      <td>1/2</td>\n",
       "      <td>NaN</td>\n",
       "      <td>NaN</td>\n",
       "      <td>NaN</td>\n",
       "      <td>Трехкомнатная</td>\n",
       "      <td>Срочно продам уникальную квартиру с дизайнерск...</td>\n",
       "      <td>67,2</td>\n",
       "      <td>45</td>\n",
       "      <td>12</td>\n",
       "    </tr>\n",
       "  </tbody>\n",
       "</table>\n",
       "<p>504 rows × 13 columns</p>\n",
       "</div>"
      ],
      "text/plain": [
       "                                                     Ссылка  \\\n",
       "23417266  /realty/prodazha-kvartir/prodam-kvartiru-pravo...   \n",
       "23408391  /realty/prodazha-kvartir/prodam-kvartiru-23408...   \n",
       "23408389  /realty/prodazha-kvartir/prodam-kvartiru-23408...   \n",
       "19673514  /realty/prodazha-kvartir/prodam-kvartiru-ordzh...   \n",
       "23163976  /realty/prodazha-kvartir/prodam-kvartiru-lenin...   \n",
       "...                                                     ...   \n",
       "16262155  /realty/prodazha-kvartir/prodam-kvartiru-ordzh...   \n",
       "15406262  /realty/prodazha-kvartir/prodam-kvartiru-ordzh...   \n",
       "16022577  /realty/prodazha-kvartir/prodam-kvartiru-lenin...   \n",
       "15761115  /realty/prodazha-kvartir/prodam-kvartiru-15761...   \n",
       "14046477  /realty/prodazha-kvartir/prodam-kvartiru-pravo...   \n",
       "\n",
       "                                                     Цена              Район  \\\n",
       "23417266   4890000р. (78871р./м2)Подать заявку на ипотеку      Правобережный   \n",
       "23408391   3800000р. (82969р./м2)Подать заявку на ипотеку                NaN   \n",
       "23408389   4950000р. (85052р./м2)Подать заявку на ипотеку                NaN   \n",
       "19673514   6590000р. (63365р./м2)Подать заявку на ипотеку  Орджоникидзевский   \n",
       "23163976   3790000р. (67679р./м2)Подать заявку на ипотеку          Ленинский   \n",
       "...                                                   ...                ...   \n",
       "16262155   5500000р. (84615р./м2)Подать заявку на ипотеку  Орджоникидзевский   \n",
       "15406262   8000000р. (76190р./м2)Подать заявку на ипотеку  Орджоникидзевский   \n",
       "16022577   5560000р. (76374р./м2)Подать заявку на ипотеку          Ленинский   \n",
       "15761115  1950000р. (108333р./м2)Подать заявку на ипотеку                NaN   \n",
       "14046477   5000000р. (74405р./м2)Подать заявку на ипотеку      Правобережный   \n",
       "\n",
       "                              Адрес   Этаж Высота потолка     Планировка  \\\n",
       "23417266  Им. газеты \"Правда\", 62/2    2/5            NaN            NaN   \n",
       "23408391          Карла Маркса, 112    2/5            NaN            NaN   \n",
       "23408389          Октябрьская, 32/1    2/5            NaN            NaN   \n",
       "19673514           Советская, 213/1  14/14            NaN  нестандартная   \n",
       "23163976           Московская, 26/1    3/4            NaN            NaN   \n",
       "...                             ...    ...            ...            ...   \n",
       "16262155               Жукова, 19/1   1/10            NaN            NaN   \n",
       "15406262          Карла Маркса, 185    4/9            NaN            NaN   \n",
       "16022577             Строителей, 57    6/6            NaN            NaN   \n",
       "15761115              Курортная, 19    2/2            NaN            NaN   \n",
       "14046477         Западное шоссе, 95    1/2            NaN            NaN   \n",
       "\n",
       "         Состояние квартиры     Кол-во комнат  \\\n",
       "23417266            Хорошее     Трехкомнатная   \n",
       "23408391                NaN     Двухкомнатная   \n",
       "23408389                NaN     Трехкомнатная   \n",
       "19673514            Хорошее  Четырехкомнатная   \n",
       "23163976            Хорошее     Трехкомнатная   \n",
       "...                     ...               ...   \n",
       "16262155                NaN     Двухкомнатная   \n",
       "15406262                NaN  Четырехкомнатная   \n",
       "16022577                NaN     Трехкомнатная   \n",
       "15761115                NaN     Однокомнатная   \n",
       "14046477                NaN     Трехкомнатная   \n",
       "\n",
       "                                                   Описание Общая площадь  \\\n",
       "23417266  💥 Квартира в очень хорошем состоянии. 👍\\n\\n✅ В...            62   \n",
       "23408391  id:46213. \\nПродается уютная двухкомнатная ква...          45,8   \n",
       "23408389  id:46096. \\nПродаётся 3-комнатная квартира в Л...          58,2   \n",
       "19673514  💥 КВАРТИРА ОТЛИЧНОЙ НЕСТАНДАРТНОЙ ПЛАНИРОВКИ С...           104   \n",
       "23163976  ⭐ КВАРТИРА ТРЕХКОМНАТНАЯ ПОЛУСМЕЖНАЯ. ⭐\\n\\n✅ С...            56   \n",
       "...                                                     ...           ...   \n",
       "16262155  <p>В продаже уютная 2к квартира, в одном из лу...            65   \n",
       "15406262  Предлагаю Вашему вниманию четырёхкомнатную ква...           105   \n",
       "16022577  <p>Для ценителей Ленинского района в продаже у...          72,8   \n",
       "15761115  В эксклюзивной продаже апартаменты в <b>ЖК\"КАР...            18   \n",
       "14046477  Срочно продам уникальную квартиру с дизайнерск...          67,2   \n",
       "\n",
       "         Жилая площадь Площадь кухни  \n",
       "23417266            45             8  \n",
       "23408391            31             7  \n",
       "23408389          40,4           6,3  \n",
       "19673514          66,3          15,8  \n",
       "23163976            37             6  \n",
       "...                ...           ...  \n",
       "16262155            43            12  \n",
       "15406262            83            10  \n",
       "16022577            44             8  \n",
       "15761115            15             0  \n",
       "14046477            45            12  \n",
       "\n",
       "[504 rows x 13 columns]"
      ]
     },
     "execution_count": 24,
     "metadata": {},
     "output_type": "execute_result"
    }
   ],
   "source": [
    "df[['Общая площадь', 'Жилая площадь', 'Площадь кухни']] = df['Площадь'].str.split(' ', expand=True).loc[:, [1, 4, 7]]\n",
    "df.drop('Площадь', axis=1)\n",
    "#df.head()"
   ]
  },
  {
   "cell_type": "code",
   "execution_count": 25,
   "id": "cd7b4504-c990-4a9d-8fbb-25916e932daf",
   "metadata": {},
   "outputs": [],
   "source": [
    "df[['Этаж', 'Этажность дома']] = df['Этаж'].str.split('/', expand=True)\n",
    "#df.head()"
   ]
  },
  {
   "cell_type": "code",
   "execution_count": 26,
   "id": "39b2454e-c073-4991-a0b3-fcc4547eb30e",
   "metadata": {},
   "outputs": [],
   "source": [
    "df['Цена'] = df['Цена'][:].str.split('р.', expand=True).loc[:, 0]\n",
    "#df.head()"
   ]
  },
  {
   "cell_type": "code",
   "execution_count": 27,
   "id": "d259f62d-cc94-4cbe-975b-38556ff41937",
   "metadata": {
    "scrolled": true
   },
   "outputs": [
    {
     "data": {
      "text/html": [
       "<div>\n",
       "<style scoped>\n",
       "    .dataframe tbody tr th:only-of-type {\n",
       "        vertical-align: middle;\n",
       "    }\n",
       "\n",
       "    .dataframe tbody tr th {\n",
       "        vertical-align: top;\n",
       "    }\n",
       "\n",
       "    .dataframe thead th {\n",
       "        text-align: right;\n",
       "    }\n",
       "</style>\n",
       "<table border=\"1\" class=\"dataframe\">\n",
       "  <thead>\n",
       "    <tr style=\"text-align: right;\">\n",
       "      <th></th>\n",
       "      <th>Ссылка</th>\n",
       "      <th>Цена</th>\n",
       "      <th>Район</th>\n",
       "      <th>Адрес</th>\n",
       "      <th>Этаж</th>\n",
       "      <th>Высота потолка</th>\n",
       "      <th>Планировка</th>\n",
       "      <th>Площадь</th>\n",
       "      <th>Состояние квартиры</th>\n",
       "      <th>Кол-во комнат</th>\n",
       "      <th>Описание</th>\n",
       "      <th>Общая площадь</th>\n",
       "      <th>Жилая площадь</th>\n",
       "      <th>Площадь кухни</th>\n",
       "      <th>Этажность дома</th>\n",
       "    </tr>\n",
       "  </thead>\n",
       "  <tbody>\n",
       "    <tr>\n",
       "      <th>23417266</th>\n",
       "      <td>/realty/prodazha-kvartir/prodam-kvartiru-pravo...</td>\n",
       "      <td>4890000</td>\n",
       "      <td>Правобережный</td>\n",
       "      <td>Им. газеты \"Правда\", 62/2</td>\n",
       "      <td>2</td>\n",
       "      <td>NaN</td>\n",
       "      <td>NaN</td>\n",
       "      <td>общая 62 м2, жилая 45 м2, кухни 8 м2</td>\n",
       "      <td>Хорошее</td>\n",
       "      <td>Трехкомнатная</td>\n",
       "      <td>💥 Квартира в очень хорошем состоянии. 👍\\n\\n✅ В...</td>\n",
       "      <td>62</td>\n",
       "      <td>45</td>\n",
       "      <td>8</td>\n",
       "      <td>5</td>\n",
       "    </tr>\n",
       "    <tr>\n",
       "      <th>23408391</th>\n",
       "      <td>/realty/prodazha-kvartir/prodam-kvartiru-23408...</td>\n",
       "      <td>3800000</td>\n",
       "      <td>NaN</td>\n",
       "      <td>Карла Маркса, 112</td>\n",
       "      <td>2</td>\n",
       "      <td>NaN</td>\n",
       "      <td>NaN</td>\n",
       "      <td>общая 45,8 м2, жилая 31 м2, кухни 7 м2</td>\n",
       "      <td>NaN</td>\n",
       "      <td>Двухкомнатная</td>\n",
       "      <td>Продается уютная двухкомнатная квартира на ком...</td>\n",
       "      <td>45,8</td>\n",
       "      <td>31</td>\n",
       "      <td>7</td>\n",
       "      <td>5</td>\n",
       "    </tr>\n",
       "    <tr>\n",
       "      <th>23408389</th>\n",
       "      <td>/realty/prodazha-kvartir/prodam-kvartiru-23408...</td>\n",
       "      <td>4950000</td>\n",
       "      <td>NaN</td>\n",
       "      <td>Октябрьская, 32/1</td>\n",
       "      <td>2</td>\n",
       "      <td>NaN</td>\n",
       "      <td>NaN</td>\n",
       "      <td>общая 58,2 м2, жилая 40,4 м2, кухни 6,3 м2</td>\n",
       "      <td>NaN</td>\n",
       "      <td>Трехкомнатная</td>\n",
       "      <td>Продаётся 3-комнатная квартира в Ленинском рай...</td>\n",
       "      <td>58,2</td>\n",
       "      <td>40,4</td>\n",
       "      <td>6,3</td>\n",
       "      <td>5</td>\n",
       "    </tr>\n",
       "    <tr>\n",
       "      <th>19673514</th>\n",
       "      <td>/realty/prodazha-kvartir/prodam-kvartiru-ordzh...</td>\n",
       "      <td>6590000</td>\n",
       "      <td>Орджоникидзевский</td>\n",
       "      <td>Советская, 213/1</td>\n",
       "      <td>14</td>\n",
       "      <td>NaN</td>\n",
       "      <td>нестандартная</td>\n",
       "      <td>общая 104 м2, жилая 66,3 м2, кухни 15,8 м2</td>\n",
       "      <td>Хорошее</td>\n",
       "      <td>Четырехкомнатная</td>\n",
       "      <td>💥 КВАРТИРА ОТЛИЧНОЙ НЕСТАНДАРТНОЙ ПЛАНИРОВКИ С...</td>\n",
       "      <td>104</td>\n",
       "      <td>66,3</td>\n",
       "      <td>15,8</td>\n",
       "      <td>14</td>\n",
       "    </tr>\n",
       "    <tr>\n",
       "      <th>23163976</th>\n",
       "      <td>/realty/prodazha-kvartir/prodam-kvartiru-lenin...</td>\n",
       "      <td>3790000</td>\n",
       "      <td>Ленинский</td>\n",
       "      <td>Московская, 26/1</td>\n",
       "      <td>3</td>\n",
       "      <td>NaN</td>\n",
       "      <td>NaN</td>\n",
       "      <td>общая 56 м2, жилая 37 м2, кухни 6 м2</td>\n",
       "      <td>Хорошее</td>\n",
       "      <td>Трехкомнатная</td>\n",
       "      <td>⭐ КВАРТИРА ТРЕХКОМНАТНАЯ ПОЛУСМЕЖНАЯ. ⭐\\n\\n✅ С...</td>\n",
       "      <td>56</td>\n",
       "      <td>37</td>\n",
       "      <td>6</td>\n",
       "      <td>4</td>\n",
       "    </tr>\n",
       "  </tbody>\n",
       "</table>\n",
       "</div>"
      ],
      "text/plain": [
       "                                                     Ссылка     Цена  \\\n",
       "23417266  /realty/prodazha-kvartir/prodam-kvartiru-pravo...  4890000   \n",
       "23408391  /realty/prodazha-kvartir/prodam-kvartiru-23408...  3800000   \n",
       "23408389  /realty/prodazha-kvartir/prodam-kvartiru-23408...  4950000   \n",
       "19673514  /realty/prodazha-kvartir/prodam-kvartiru-ordzh...  6590000   \n",
       "23163976  /realty/prodazha-kvartir/prodam-kvartiru-lenin...  3790000   \n",
       "\n",
       "                      Район                      Адрес Этаж Высота потолка  \\\n",
       "23417266      Правобережный  Им. газеты \"Правда\", 62/2    2            NaN   \n",
       "23408391                NaN          Карла Маркса, 112    2            NaN   \n",
       "23408389                NaN          Октябрьская, 32/1    2            NaN   \n",
       "19673514  Орджоникидзевский           Советская, 213/1   14            NaN   \n",
       "23163976          Ленинский           Московская, 26/1    3            NaN   \n",
       "\n",
       "             Планировка                                     Площадь  \\\n",
       "23417266            NaN        общая 62 м2, жилая 45 м2, кухни 8 м2   \n",
       "23408391            NaN      общая 45,8 м2, жилая 31 м2, кухни 7 м2   \n",
       "23408389            NaN  общая 58,2 м2, жилая 40,4 м2, кухни 6,3 м2   \n",
       "19673514  нестандартная  общая 104 м2, жилая 66,3 м2, кухни 15,8 м2   \n",
       "23163976            NaN        общая 56 м2, жилая 37 м2, кухни 6 м2   \n",
       "\n",
       "         Состояние квартиры     Кол-во комнат  \\\n",
       "23417266            Хорошее     Трехкомнатная   \n",
       "23408391                NaN     Двухкомнатная   \n",
       "23408389                NaN     Трехкомнатная   \n",
       "19673514            Хорошее  Четырехкомнатная   \n",
       "23163976            Хорошее     Трехкомнатная   \n",
       "\n",
       "                                                   Описание Общая площадь  \\\n",
       "23417266  💥 Квартира в очень хорошем состоянии. 👍\\n\\n✅ В...            62   \n",
       "23408391  Продается уютная двухкомнатная квартира на ком...          45,8   \n",
       "23408389  Продаётся 3-комнатная квартира в Ленинском рай...          58,2   \n",
       "19673514  💥 КВАРТИРА ОТЛИЧНОЙ НЕСТАНДАРТНОЙ ПЛАНИРОВКИ С...           104   \n",
       "23163976  ⭐ КВАРТИРА ТРЕХКОМНАТНАЯ ПОЛУСМЕЖНАЯ. ⭐\\n\\n✅ С...            56   \n",
       "\n",
       "         Жилая площадь Площадь кухни Этажность дома  \n",
       "23417266            45             8              5  \n",
       "23408391            31             7              5  \n",
       "23408389          40,4           6,3              5  \n",
       "19673514          66,3          15,8             14  \n",
       "23163976            37             6              4  "
      ]
     },
     "execution_count": 27,
     "metadata": {},
     "output_type": "execute_result"
    }
   ],
   "source": [
    "df['Описание'] = df['Описание'].str.replace('^id:\\\\d+\\\\.\\\\s*', '', regex=True)\n",
    "df.head()"
   ]
  },
  {
   "cell_type": "code",
   "execution_count": 28,
   "id": "c085954c-3758-4511-8c30-02923ec3a684",
   "metadata": {},
   "outputs": [
    {
     "name": "stdout",
     "output_type": "stream",
     "text": [
      "<class 'pandas.core.frame.DataFrame'>\n",
      "Index: 504 entries, 23417266 to 14046477\n",
      "Data columns (total 15 columns):\n",
      " #   Column              Non-Null Count  Dtype \n",
      "---  ------              --------------  ----- \n",
      " 0   Ссылка              504 non-null    object\n",
      " 1   Цена                503 non-null    object\n",
      " 2   Район               185 non-null    object\n",
      " 3   Адрес               499 non-null    object\n",
      " 4   Этаж                504 non-null    object\n",
      " 5   Высота потолка      28 non-null     object\n",
      " 6   Планировка          56 non-null     object\n",
      " 7   Площадь             504 non-null    object\n",
      " 8   Состояние квартиры  62 non-null     object\n",
      " 9   Кол-во комнат       495 non-null    object\n",
      " 10  Описание            502 non-null    object\n",
      " 11  Общая площадь       504 non-null    object\n",
      " 12  Жилая площадь       504 non-null    object\n",
      " 13  Площадь кухни       504 non-null    object\n",
      " 14  Этажность дома      504 non-null    object\n",
      "dtypes: object(15)\n",
      "memory usage: 79.2+ KB\n"
     ]
    }
   ],
   "source": [
    "df.info()"
   ]
  },
  {
   "cell_type": "markdown",
   "id": "134bb15f-c81c-4334-ac8c-32b4ad3d1b3b",
   "metadata": {},
   "source": [
    "#### 5) Сохраням файл в удобный формат"
   ]
  },
  {
   "cell_type": "code",
   "execution_count": 29,
   "id": "74c7194c-074e-4ac6-a00b-042b58b4e65e",
   "metadata": {},
   "outputs": [],
   "source": [
    "df.to_csv('../datasets/flat_magnitogorsk.csv')"
   ]
  },
  {
   "cell_type": "markdown",
   "id": "1003bac5-a240-4c8f-bb64-81caede738a6",
   "metadata": {},
   "source": [
    "### Заключение\n",
    "\n",
    "Сайт делал какой-то извращенец, задание интересное, понравилось, ≈6 часов точно ушло. \n",
    "\n",
    "- Парсер первый — айди и ссылки на страницы квартир работает около 2 минут.\n",
    "- Парсер второй – основные данные по квартирам работает около 5 минут.\n",
    "\n",
    "Осталось только преобразовать в необходимые типы данных."
   ]
  },
  {
   "cell_type": "code",
   "execution_count": null,
   "id": "a684c5b2-eca8-437d-9b6f-01745a7a2f45",
   "metadata": {},
   "outputs": [],
   "source": []
  }
 ],
 "metadata": {
  "kernelspec": {
   "display_name": "Python 3 (ipykernel)",
   "language": "python",
   "name": "python3"
  },
  "language_info": {
   "codemirror_mode": {
    "name": "ipython",
    "version": 3
   },
   "file_extension": ".py",
   "mimetype": "text/x-python",
   "name": "python",
   "nbconvert_exporter": "python",
   "pygments_lexer": "ipython3",
   "version": "3.13.7"
  }
 },
 "nbformat": 4,
 "nbformat_minor": 5
}
